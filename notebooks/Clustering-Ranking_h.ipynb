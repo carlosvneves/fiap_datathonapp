{
 "cells": [
  {
   "cell_type": "code",
   "execution_count": 1,
   "metadata": {},
   "outputs": [],
   "source": [
    "import pandas as pd\n",
    "import numpy as np\n",
    "import matplotlib.pyplot as plt\n",
    "from sklearn.ensemble import RandomForestRegressor\n",
    "from sklearn.cluster import KMeans\n",
    "from sklearn.preprocessing import StandardScaler\n",
    "from sklearn.metrics import silhouette_score\n",
    "from sklearn.decomposition import PCA\n",
    "from sklearn.model_selection import train_test_split, GridSearchCV\n",
    "from xgboost import XGBRegressor\n",
    "from sklearn.metrics import mean_squared_error, r2_score\n",
    "from sklearn.mixture import GaussianMixture\n",
    "import seaborn as sns\n",
    "from sklearn.manifold import TSNE\n",
    "from sklearn.metrics import mean_absolute_error\n",
    "from sklearn.preprocessing import OneHotEncoder\n",
    "from sklearn.compose import ColumnTransformer\n",
    "from sklearn.pipeline import Pipeline\n",
    "from sklearn.impute import SimpleImputer\n"
   ]
  },
  {
   "cell_type": "markdown",
   "metadata": {},
   "source": [
    "# Entendendo os fatores que levam a um melhor desempenho na classificação geral (cg)"
   ]
  },
  {
   "cell_type": "code",
   "execution_count": 2,
   "metadata": {},
   "outputs": [
    {
     "name": "stdout",
     "output_type": "stream",
     "text": [
      "<class 'pandas.core.frame.DataFrame'>\n",
      "RangeIndex: 1646 entries, 0 to 1645\n",
      "Data columns (total 18 columns):\n",
      " #   Column                Non-Null Count  Dtype  \n",
      "---  ------                --------------  -----  \n",
      " 0   nome                  1646 non-null   object \n",
      " 1   ano                   1646 non-null   int64  \n",
      " 2   anos_pm               1646 non-null   float64\n",
      " 3   bolsista_encoded      1646 non-null   int64  \n",
      " 4   cg                    1646 non-null   float64\n",
      " 5   diff_fase             1646 non-null   float64\n",
      " 6   iaa                   1646 non-null   float64\n",
      " 7   ian                   1646 non-null   float64\n",
      " 8   ida                   1646 non-null   float64\n",
      " 9   idade                 1646 non-null   float64\n",
      " 10  ieg                   1646 non-null   float64\n",
      " 11  inde                  1646 non-null   float64\n",
      " 12  ipp                   1646 non-null   float64\n",
      " 13  ips                   1646 non-null   float64\n",
      " 14  ipv                   1646 non-null   float64\n",
      " 15  na_fase               1646 non-null   int64  \n",
      " 16  ponto_virada_encoded  1646 non-null   int64  \n",
      " 17  sexo_encoded          1646 non-null   float64\n",
      "dtypes: float64(13), int64(4), object(1)\n",
      "memory usage: 231.6+ KB\n"
     ]
    }
   ],
   "source": [
    "# Load the dataset\n",
    "data = pd.read_csv(\n",
    "    \"../data/df_pooled_ranking_clean.csv\"\n",
    ")  # Replace with your dataset path\n",
    "\n",
    "data.info()\n"
   ]
  },
  {
   "cell_type": "code",
   "execution_count": 3,
   "metadata": {},
   "outputs": [
    {
     "name": "stdout",
     "output_type": "stream",
     "text": [
      "<class 'pandas.core.frame.DataFrame'>\n",
      "Index: 1646 entries, ALUNO-2 to ALUNO-1349\n",
      "Data columns (total 17 columns):\n",
      " #   Column                Non-Null Count  Dtype   \n",
      "---  ------                --------------  -----   \n",
      " 0   ano                   1646 non-null   int64   \n",
      " 1   anos_pm               1646 non-null   float64 \n",
      " 2   bolsista_encoded      1646 non-null   int64   \n",
      " 3   cg                    1646 non-null   int64   \n",
      " 4   diff_fase             1646 non-null   float64 \n",
      " 5   iaa                   1646 non-null   float64 \n",
      " 6   ian                   1646 non-null   category\n",
      " 7   ida                   1646 non-null   float64 \n",
      " 8   idade                 1646 non-null   float64 \n",
      " 9   ieg                   1646 non-null   float64 \n",
      " 10  inde                  1646 non-null   float64 \n",
      " 11  ipp                   1646 non-null   float64 \n",
      " 12  ips                   1646 non-null   float64 \n",
      " 13  ipv                   1646 non-null   float64 \n",
      " 14  na_fase               1646 non-null   int64   \n",
      " 15  ponto_virada_encoded  1646 non-null   int64   \n",
      " 16  sexo_encoded          1646 non-null   int64   \n",
      "dtypes: category(1), float64(10), int64(6)\n",
      "memory usage: 220.3+ KB\n"
     ]
    }
   ],
   "source": [
    "data.set_index(\"nome\", inplace=True)\n",
    "\n",
    "data[\"ano\"] = data[\"ano\"].astype(int)\n",
    "\n",
    "data[\"bolsista_encoded\"] = data[\"bolsista_encoded\"].astype(int)\n",
    "\n",
    "data[\"cg\"] = data[\"cg\"].astype(int)\n",
    "\n",
    "data[\"ian\"] = data[\"ian\"].astype(\"category\")\n",
    "\n",
    "data[\"na_fase\"] = data[\"na_fase\"].astype(int)\n",
    "\n",
    "data[\"ponto_virada_encoded\"] = data[\"ponto_virada_encoded\"].astype(int)\n",
    "\n",
    "data[\"sexo_encoded\"] = data[\"sexo_encoded\"].astype(int)\n",
    "\n",
    "data.info()\n"
   ]
  },
  {
   "cell_type": "code",
   "execution_count": 4,
   "metadata": {},
   "outputs": [],
   "source": [
    "data.loc[data[\"ano\"] != 2022, \"cg\"] = np.nan\n"
   ]
  },
  {
   "cell_type": "markdown",
   "metadata": {},
   "source": [
    "## Considerando que não temos o ranking dos anos anteriores, qual a variável definitiva para a sua definição?"
   ]
  },
  {
   "cell_type": "code",
   "execution_count": 5,
   "metadata": {},
   "outputs": [
    {
     "data": {
      "text/html": [
       "<div>\n",
       "<style scoped>\n",
       "    .dataframe tbody tr th:only-of-type {\n",
       "        vertical-align: middle;\n",
       "    }\n",
       "\n",
       "    .dataframe tbody tr th {\n",
       "        vertical-align: top;\n",
       "    }\n",
       "\n",
       "    .dataframe thead th {\n",
       "        text-align: right;\n",
       "    }\n",
       "</style>\n",
       "<table border=\"1\" class=\"dataframe\">\n",
       "  <thead>\n",
       "    <tr style=\"text-align: right;\">\n",
       "      <th></th>\n",
       "      <th>ano</th>\n",
       "      <th>anos_pm</th>\n",
       "      <th>bolsista_encoded</th>\n",
       "      <th>cg</th>\n",
       "      <th>diff_fase</th>\n",
       "      <th>iaa</th>\n",
       "      <th>ian</th>\n",
       "      <th>ida</th>\n",
       "      <th>idade</th>\n",
       "      <th>ieg</th>\n",
       "      <th>inde</th>\n",
       "      <th>ipp</th>\n",
       "      <th>ips</th>\n",
       "      <th>ipv</th>\n",
       "      <th>na_fase</th>\n",
       "      <th>ponto_virada_encoded</th>\n",
       "      <th>sexo_encoded</th>\n",
       "    </tr>\n",
       "    <tr>\n",
       "      <th>nome</th>\n",
       "      <th></th>\n",
       "      <th></th>\n",
       "      <th></th>\n",
       "      <th></th>\n",
       "      <th></th>\n",
       "      <th></th>\n",
       "      <th></th>\n",
       "      <th></th>\n",
       "      <th></th>\n",
       "      <th></th>\n",
       "      <th></th>\n",
       "      <th></th>\n",
       "      <th></th>\n",
       "      <th></th>\n",
       "      <th></th>\n",
       "      <th></th>\n",
       "      <th></th>\n",
       "    </tr>\n",
       "  </thead>\n",
       "  <tbody>\n",
       "    <tr>\n",
       "      <th>ALUNO-2</th>\n",
       "      <td>2022</td>\n",
       "      <td>0.0</td>\n",
       "      <td>0</td>\n",
       "      <td>245.0</td>\n",
       "      <td>-2.0</td>\n",
       "      <td>10.00002</td>\n",
       "      <td>5.0</td>\n",
       "      <td>8.816667</td>\n",
       "      <td>11.0</td>\n",
       "      <td>7.581705</td>\n",
       "      <td>7.675509</td>\n",
       "      <td>5.625000</td>\n",
       "      <td>7.5</td>\n",
       "      <td>7.916665</td>\n",
       "      <td>0</td>\n",
       "      <td>0</td>\n",
       "      <td>1</td>\n",
       "    </tr>\n",
       "    <tr>\n",
       "      <th>ALUNO-4</th>\n",
       "      <td>2022</td>\n",
       "      <td>0.0</td>\n",
       "      <td>0</td>\n",
       "      <td>451.0</td>\n",
       "      <td>-1.0</td>\n",
       "      <td>10.00002</td>\n",
       "      <td>5.0</td>\n",
       "      <td>5.083333</td>\n",
       "      <td>12.0</td>\n",
       "      <td>8.071429</td>\n",
       "      <td>7.117065</td>\n",
       "      <td>6.250000</td>\n",
       "      <td>7.5</td>\n",
       "      <td>8.055553</td>\n",
       "      <td>0</td>\n",
       "      <td>0</td>\n",
       "      <td>0</td>\n",
       "    </tr>\n",
       "    <tr>\n",
       "      <th>ALUNO-5</th>\n",
       "      <td>2022</td>\n",
       "      <td>3.0</td>\n",
       "      <td>0</td>\n",
       "      <td>415.0</td>\n",
       "      <td>-1.0</td>\n",
       "      <td>6.41668</td>\n",
       "      <td>5.0</td>\n",
       "      <td>7.083333</td>\n",
       "      <td>12.0</td>\n",
       "      <td>8.557505</td>\n",
       "      <td>7.232336</td>\n",
       "      <td>6.458333</td>\n",
       "      <td>7.5</td>\n",
       "      <td>7.833337</td>\n",
       "      <td>0</td>\n",
       "      <td>0</td>\n",
       "      <td>0</td>\n",
       "    </tr>\n",
       "    <tr>\n",
       "      <th>ALUNO-6</th>\n",
       "      <td>2022</td>\n",
       "      <td>0.0</td>\n",
       "      <td>0</td>\n",
       "      <td>221.0</td>\n",
       "      <td>0.0</td>\n",
       "      <td>9.00002</td>\n",
       "      <td>10.0</td>\n",
       "      <td>5.500000</td>\n",
       "      <td>11.0</td>\n",
       "      <td>9.333333</td>\n",
       "      <td>7.741669</td>\n",
       "      <td>6.250000</td>\n",
       "      <td>7.5</td>\n",
       "      <td>7.500000</td>\n",
       "      <td>1</td>\n",
       "      <td>0</td>\n",
       "      <td>1</td>\n",
       "    </tr>\n",
       "    <tr>\n",
       "      <th>ALUNO-7</th>\n",
       "      <td>2022</td>\n",
       "      <td>0.0</td>\n",
       "      <td>0</td>\n",
       "      <td>357.0</td>\n",
       "      <td>-1.0</td>\n",
       "      <td>10.00002</td>\n",
       "      <td>5.0</td>\n",
       "      <td>5.583333</td>\n",
       "      <td>11.0</td>\n",
       "      <td>9.314954</td>\n",
       "      <td>7.406743</td>\n",
       "      <td>5.937500</td>\n",
       "      <td>7.5</td>\n",
       "      <td>7.916670</td>\n",
       "      <td>0</td>\n",
       "      <td>0</td>\n",
       "      <td>0</td>\n",
       "    </tr>\n",
       "  </tbody>\n",
       "</table>\n",
       "</div>"
      ],
      "text/plain": [
       "          ano  anos_pm  bolsista_encoded     cg  diff_fase       iaa   ian  \\\n",
       "nome                                                                         \n",
       "ALUNO-2  2022      0.0                 0  245.0       -2.0  10.00002   5.0   \n",
       "ALUNO-4  2022      0.0                 0  451.0       -1.0  10.00002   5.0   \n",
       "ALUNO-5  2022      3.0                 0  415.0       -1.0   6.41668   5.0   \n",
       "ALUNO-6  2022      0.0                 0  221.0        0.0   9.00002  10.0   \n",
       "ALUNO-7  2022      0.0                 0  357.0       -1.0  10.00002   5.0   \n",
       "\n",
       "              ida  idade       ieg      inde       ipp  ips       ipv  \\\n",
       "nome                                                                    \n",
       "ALUNO-2  8.816667   11.0  7.581705  7.675509  5.625000  7.5  7.916665   \n",
       "ALUNO-4  5.083333   12.0  8.071429  7.117065  6.250000  7.5  8.055553   \n",
       "ALUNO-5  7.083333   12.0  8.557505  7.232336  6.458333  7.5  7.833337   \n",
       "ALUNO-6  5.500000   11.0  9.333333  7.741669  6.250000  7.5  7.500000   \n",
       "ALUNO-7  5.583333   11.0  9.314954  7.406743  5.937500  7.5  7.916670   \n",
       "\n",
       "         na_fase  ponto_virada_encoded  sexo_encoded  \n",
       "nome                                                  \n",
       "ALUNO-2        0                     0             1  \n",
       "ALUNO-4        0                     0             0  \n",
       "ALUNO-5        0                     0             0  \n",
       "ALUNO-6        1                     0             1  \n",
       "ALUNO-7        0                     0             0  "
      ]
     },
     "execution_count": 5,
     "metadata": {},
     "output_type": "execute_result"
    }
   ],
   "source": [
    "df = data.copy()\n",
    "df = df.dropna(subset=[\"cg\"])\n",
    "df.head()\n"
   ]
  },
  {
   "cell_type": "code",
   "execution_count": 6,
   "metadata": {},
   "outputs": [
    {
     "name": "stdout",
     "output_type": "stream",
     "text": [
      "Feature ranking:\n",
      "inde: 0.9999604207034338\n",
      "ida: 6.450235229912001e-06\n",
      "ipv: 5.703408232569696e-06\n",
      "ieg: 5.619562093275832e-06\n",
      "ipp: 4.317378117407441e-06\n",
      "iaa: 4.120746252544992e-06\n",
      "idade: 3.0283669639519128e-06\n",
      "anos_pm: 2.8432248829636834e-06\n",
      "ips: 2.345538977785719e-06\n",
      "diff_fase: 1.7250871353563491e-06\n",
      "sexo_encoded: 1.4122128040479032e-06\n",
      "ian: 6.857451858915493e-07\n",
      "na_fase: 6.482690465724951e-07\n",
      "ponto_virada_encoded: 3.574124260538529e-07\n",
      "bolsista_encoded: 3.2210921768804024e-07\n",
      "ano: 0.0\n"
     ]
    },
    {
     "data": {
      "text/plain": [
       "Index(['inde', 'ida', 'ipv', 'ieg', 'ipp', 'iaa', 'idade', 'anos_pm', 'ips',\n",
       "       'diff_fase', 'sexo_encoded', 'ian', 'na_fase', 'ponto_virada_encoded',\n",
       "       'bolsista_encoded', 'ano'],\n",
       "      dtype='object')"
      ]
     },
     "execution_count": 6,
     "metadata": {},
     "output_type": "execute_result"
    }
   ],
   "source": [
    "# # Step 1: Feature Selection using Random Forest\n",
    "# features_for_importance = df.drop(columns=[\"cg\"])\n",
    "# target_for_importance = df[\"cg\"]\n",
    "\n",
    "# # Standardize the features\n",
    "# scaler = StandardScaler()\n",
    "# features_scaled_for_importance = scaler.fit_transform(features_for_importance)\n",
    "\n",
    "# # Train a Random Forest to get feature importance\n",
    "# rf = RandomForestRegressor(random_state=42)\n",
    "# rf.fit(features_scaled_for_importance, target_for_importance)\n",
    "\n",
    "# # Get feature importances and sort them\n",
    "# importances = rf.feature_importances_\n",
    "# feature_names = features_for_importance.columns\n",
    "# sorted_indices = np.argsort(importances)[::-1]\n",
    "\n",
    "# # Print the most important features\n",
    "# print(\"Feature ranking:\")\n",
    "# for i in sorted_indices:\n",
    "#     print(f\"{feature_names[i]}: {importances[i]}\")\n",
    "\n",
    "\n",
    "def features_eval(df, target_feature):\n",
    "    # Step 1: Feature Selection using Random Forest\n",
    "    features_for_importance = df.drop(columns=[target_feature])\n",
    "    target_for_importance = df[target_feature]\n",
    "\n",
    "    # Standardize the features\n",
    "    scaler = StandardScaler()\n",
    "    features_scaled_for_importance = scaler.fit_transform(features_for_importance)\n",
    "\n",
    "    # Train a Random Forest to get feature importance\n",
    "    rf = RandomForestRegressor(random_state=42)\n",
    "    rf.fit(features_scaled_for_importance, target_for_importance)\n",
    "\n",
    "    # Get feature importances and sort them\n",
    "    importances = rf.feature_importances_\n",
    "    feature_names = features_for_importance.columns\n",
    "    sorted_indices = np.argsort(importances)[::-1]\n",
    "\n",
    "    # Print the most important features\n",
    "    print(\"Feature ranking:\")\n",
    "    for i in sorted_indices:\n",
    "        print(f\"{feature_names[i]}: {importances[i]}\")\n",
    "    return feature_names[sorted_indices]\n",
    "\n",
    "\n",
    "features_eval(df, \"cg\")\n"
   ]
  },
  {
   "cell_type": "markdown",
   "metadata": {},
   "source": [
    "A variável que dita a classificação geral é o `inde`. Então vamos definir a classificação para os anos anteriores:"
   ]
  },
  {
   "cell_type": "code",
   "execution_count": 7,
   "metadata": {},
   "outputs": [
    {
     "data": {
      "text/html": [
       "<div>\n",
       "<style scoped>\n",
       "    .dataframe tbody tr th:only-of-type {\n",
       "        vertical-align: middle;\n",
       "    }\n",
       "\n",
       "    .dataframe tbody tr th {\n",
       "        vertical-align: top;\n",
       "    }\n",
       "\n",
       "    .dataframe thead th {\n",
       "        text-align: right;\n",
       "    }\n",
       "</style>\n",
       "<table border=\"1\" class=\"dataframe\">\n",
       "  <thead>\n",
       "    <tr style=\"text-align: right;\">\n",
       "      <th></th>\n",
       "      <th>ano</th>\n",
       "      <th>anos_pm</th>\n",
       "      <th>bolsista_encoded</th>\n",
       "      <th>cg</th>\n",
       "      <th>diff_fase</th>\n",
       "      <th>iaa</th>\n",
       "      <th>ian</th>\n",
       "      <th>ida</th>\n",
       "      <th>idade</th>\n",
       "      <th>ieg</th>\n",
       "      <th>inde</th>\n",
       "      <th>ipp</th>\n",
       "      <th>ips</th>\n",
       "      <th>ipv</th>\n",
       "      <th>na_fase</th>\n",
       "      <th>ponto_virada_encoded</th>\n",
       "      <th>sexo_encoded</th>\n",
       "    </tr>\n",
       "    <tr>\n",
       "      <th>nome</th>\n",
       "      <th></th>\n",
       "      <th></th>\n",
       "      <th></th>\n",
       "      <th></th>\n",
       "      <th></th>\n",
       "      <th></th>\n",
       "      <th></th>\n",
       "      <th></th>\n",
       "      <th></th>\n",
       "      <th></th>\n",
       "      <th></th>\n",
       "      <th></th>\n",
       "      <th></th>\n",
       "      <th></th>\n",
       "      <th></th>\n",
       "      <th></th>\n",
       "      <th></th>\n",
       "    </tr>\n",
       "  </thead>\n",
       "  <tbody>\n",
       "    <tr>\n",
       "      <th>ALUNO-75</th>\n",
       "      <td>2020</td>\n",
       "      <td>1.0</td>\n",
       "      <td>1</td>\n",
       "      <td>1.0</td>\n",
       "      <td>1.0</td>\n",
       "      <td>10.00002</td>\n",
       "      <td>10.0</td>\n",
       "      <td>9.000000</td>\n",
       "      <td>11.0</td>\n",
       "      <td>10.000000</td>\n",
       "      <td>9.687504</td>\n",
       "      <td>9.37500</td>\n",
       "      <td>10.000</td>\n",
       "      <td>9.750010</td>\n",
       "      <td>0</td>\n",
       "      <td>1</td>\n",
       "      <td>1</td>\n",
       "    </tr>\n",
       "    <tr>\n",
       "      <th>ALUNO-75</th>\n",
       "      <td>2021</td>\n",
       "      <td>2.0</td>\n",
       "      <td>1</td>\n",
       "      <td>1.0</td>\n",
       "      <td>1.0</td>\n",
       "      <td>10.00000</td>\n",
       "      <td>10.0</td>\n",
       "      <td>8.500000</td>\n",
       "      <td>12.0</td>\n",
       "      <td>9.200000</td>\n",
       "      <td>9.108000</td>\n",
       "      <td>8.80000</td>\n",
       "      <td>7.500</td>\n",
       "      <td>9.700000</td>\n",
       "      <td>0</td>\n",
       "      <td>1</td>\n",
       "      <td>1</td>\n",
       "    </tr>\n",
       "    <tr>\n",
       "      <th>ALUNO-75</th>\n",
       "      <td>2022</td>\n",
       "      <td>3.0</td>\n",
       "      <td>1</td>\n",
       "      <td>1.0</td>\n",
       "      <td>2.0</td>\n",
       "      <td>10.00002</td>\n",
       "      <td>10.0</td>\n",
       "      <td>8.500000</td>\n",
       "      <td>13.0</td>\n",
       "      <td>9.660714</td>\n",
       "      <td>9.441522</td>\n",
       "      <td>9.21875</td>\n",
       "      <td>9.375</td>\n",
       "      <td>9.750010</td>\n",
       "      <td>0</td>\n",
       "      <td>1</td>\n",
       "      <td>1</td>\n",
       "    </tr>\n",
       "    <tr>\n",
       "      <th>ALUNO-916</th>\n",
       "      <td>2022</td>\n",
       "      <td>5.0</td>\n",
       "      <td>1</td>\n",
       "      <td>2.0</td>\n",
       "      <td>0.0</td>\n",
       "      <td>8.75001</td>\n",
       "      <td>10.0</td>\n",
       "      <td>8.511111</td>\n",
       "      <td>15.0</td>\n",
       "      <td>10.000000</td>\n",
       "      <td>9.354308</td>\n",
       "      <td>9.06250</td>\n",
       "      <td>9.375</td>\n",
       "      <td>9.666675</td>\n",
       "      <td>1</td>\n",
       "      <td>1</td>\n",
       "      <td>1</td>\n",
       "    </tr>\n",
       "    <tr>\n",
       "      <th>ALUNO-916</th>\n",
       "      <td>2021</td>\n",
       "      <td>4.0</td>\n",
       "      <td>1</td>\n",
       "      <td>2.0</td>\n",
       "      <td>0.0</td>\n",
       "      <td>8.30000</td>\n",
       "      <td>10.0</td>\n",
       "      <td>7.800000</td>\n",
       "      <td>14.0</td>\n",
       "      <td>9.700000</td>\n",
       "      <td>8.866000</td>\n",
       "      <td>9.20000</td>\n",
       "      <td>7.500</td>\n",
       "      <td>9.300000</td>\n",
       "      <td>1</td>\n",
       "      <td>1</td>\n",
       "      <td>1</td>\n",
       "    </tr>\n",
       "  </tbody>\n",
       "</table>\n",
       "</div>"
      ],
      "text/plain": [
       "            ano  anos_pm  bolsista_encoded   cg  diff_fase       iaa   ian  \\\n",
       "nome                                                                         \n",
       "ALUNO-75   2020      1.0                 1  1.0        1.0  10.00002  10.0   \n",
       "ALUNO-75   2021      2.0                 1  1.0        1.0  10.00000  10.0   \n",
       "ALUNO-75   2022      3.0                 1  1.0        2.0  10.00002  10.0   \n",
       "ALUNO-916  2022      5.0                 1  2.0        0.0   8.75001  10.0   \n",
       "ALUNO-916  2021      4.0                 1  2.0        0.0   8.30000  10.0   \n",
       "\n",
       "                ida  idade        ieg      inde      ipp     ips       ipv  \\\n",
       "nome                                                                         \n",
       "ALUNO-75   9.000000   11.0  10.000000  9.687504  9.37500  10.000  9.750010   \n",
       "ALUNO-75   8.500000   12.0   9.200000  9.108000  8.80000   7.500  9.700000   \n",
       "ALUNO-75   8.500000   13.0   9.660714  9.441522  9.21875   9.375  9.750010   \n",
       "ALUNO-916  8.511111   15.0  10.000000  9.354308  9.06250   9.375  9.666675   \n",
       "ALUNO-916  7.800000   14.0   9.700000  8.866000  9.20000   7.500  9.300000   \n",
       "\n",
       "           na_fase  ponto_virada_encoded  sexo_encoded  \n",
       "nome                                                    \n",
       "ALUNO-75         0                     1             1  \n",
       "ALUNO-75         0                     1             1  \n",
       "ALUNO-75         0                     1             1  \n",
       "ALUNO-916        1                     1             1  \n",
       "ALUNO-916        1                     1             1  "
      ]
     },
     "execution_count": 7,
     "metadata": {},
     "output_type": "execute_result"
    }
   ],
   "source": [
    "def set_cg(df):\n",
    "    df = df.sort_values(by=\"inde\", ascending=False)\n",
    "    df.reset_index(inplace=True)\n",
    "    df[\"cg\"] = pd.Series(range(1, len(df) + 1))\n",
    "    df.set_index(\"nome\", inplace=True)\n",
    "\n",
    "    return df\n",
    "\n",
    "\n",
    "cg_2021 = set_cg(data[data[\"ano\"] == 2021][[\"inde\", \"cg\"]])\n",
    "cg_2022 = set_cg(data[data[\"ano\"] == 2022][[\"inde\", \"cg\"]])\n",
    "\n",
    "# fill cg values in the original dataframe with the new cg values for the corresponding year\n",
    "data.loc[cg_2021.index, \"cg\"] = cg_2021[\"cg\"]\n",
    "data.loc[cg_2022.index, \"cg\"] = cg_2022[\"cg\"]\n",
    "\n",
    "data.sort_values(by=\"cg\", ascending=True).head()\n"
   ]
  },
  {
   "cell_type": "markdown",
   "metadata": {},
   "source": [
    "Escreve em arquivo o resultado da definição do cg:"
   ]
  },
  {
   "cell_type": "code",
   "execution_count": 8,
   "metadata": {},
   "outputs": [],
   "source": [
    "data.to_csv(\"../data/df_pooled_ranking_clean_with_cg.csv\")\n"
   ]
  },
  {
   "cell_type": "markdown",
   "metadata": {},
   "source": [
    "## Faz sentido realizar a análise considerando a variação do `cg` no tempo?"
   ]
  },
  {
   "cell_type": "code",
   "execution_count": 9,
   "metadata": {},
   "outputs": [
    {
     "data": {
      "image/png": "[encoded data removed]",
      "text/plain": [
       "<Figure size 1000x600 with 1 Axes>"
      ]
     },
     "metadata": {},
     "output_type": "display_data"
    },
    {
     "data": {
      "image/png": "[encoded data removed]",
      "text/plain": [
       "<Figure size 800x600 with 1 Axes>"
      ]
     },
     "metadata": {},
     "output_type": "display_data"
    },
    {
     "name": "stdout",
     "output_type": "stream",
     "text": [
      "             mean  std\n",
      "aluno_id              \n",
      "ALUNO-100   720.0  0.0\n",
      "ALUNO-1000  592.0  NaN\n",
      "ALUNO-1001  367.0  0.0\n",
      "ALUNO-1002  289.0  0.0\n",
      "ALUNO-1004   88.0  0.0\n",
      "...           ...  ...\n",
      "ALUNO-994   340.0  0.0\n",
      "ALUNO-995   419.0  0.0\n",
      "ALUNO-996   465.0  0.0\n",
      "ALUNO-997   151.0  0.0\n",
      "ALUNO-998   220.0  NaN\n",
      "\n",
      "[862 rows x 2 columns]\n",
      "Resultado do teste ANOVA: F_onewayResult(statistic=0.5861200781897649, pvalue=0.5565985213615023)\n"
     ]
    }
   ],
   "source": [
    "# Carregar os dados\n",
    "df = data.copy().reset_index().rename({\"nome\": \"aluno_id\"}, axis=1)\n",
    "\n",
    "\n",
    "# 1. Agrupar os dados por aluno e ano, selecionando as colunas relevantes\n",
    "# Suponho que exista uma coluna 'aluno_id' que identifica cada aluno e 'ano' para o ano específico\n",
    "# Adapte o nome da coluna 'aluno_id' caso necessário\n",
    "df_sorted = df.sort_values(by=[\"aluno_id\", \"ano\"])\n",
    "\n",
    "# 2. Calcular a diferença do ranking cg entre os anos para cada aluno\n",
    "df[\"cg_diff_2021_2020\"] = df.groupby(\"aluno_id\")[\"cg\"].diff(periods=1)\n",
    "df[\"cg_diff_2022_2021\"] = df.groupby(\"aluno_id\")[\"cg\"].diff(periods=2)\n",
    "\n",
    "# 3. Visualizar a evolução do ranking de cada aluno ao longo do tempo com um gráfico de linhas\n",
    "plt.figure(figsize=(10, 6))\n",
    "for aluno in df[\"aluno_id\"].unique():\n",
    "    aluno_data = df[df[\"aluno_id\"] == aluno]\n",
    "    plt.plot(aluno_data[\"ano\"], aluno_data[\"cg\"], marker=\"o\", label=f\"Aluno {aluno}\")\n",
    "\n",
    "plt.title(\"Evolução do Ranking (cg) de Alunos ao Longo dos Anos\")\n",
    "plt.xlabel(\"Ano\")\n",
    "plt.ylabel(\"Ranking (cg)\")\n",
    "# plt.legend(loc=\"best\", bbox_to_anchor=(1, 0.5))\n",
    "plt.show()\n",
    "\n",
    "# 4. Criar boxplots para comparar a distribuição de cg em cada ano\n",
    "plt.figure(figsize=(8, 6))\n",
    "sns.boxplot(x=\"ano\", y=\"cg\", data=df, legend=False)\n",
    "plt.title(\"Distribuição do Ranking (cg) por Ano\")\n",
    "plt.show()\n",
    "\n",
    "# 5. Analisar a variação do ranking de cada aluno\n",
    "df_variation = df.groupby(\"aluno_id\")[\"cg\"].agg([\"mean\", \"std\"])\n",
    "print(df_variation)\n",
    "\n",
    "# Opcional: realizar um teste ANOVA para verificar se a variação de cg entre os anos é significativa\n",
    "from scipy.stats import f_oneway\n",
    "\n",
    "# Criar listas com os valores de cg por ano\n",
    "cg_2020 = df[df[\"ano\"] == 2020][\"cg\"]\n",
    "cg_2021 = df[df[\"ano\"] == 2021][\"cg\"]\n",
    "cg_2022 = df[df[\"ano\"] == 2022][\"cg\"]\n",
    "\n",
    "# Teste ANOVA para ver se há diferença significativa nos rankings entre os anos\n",
    "anova_result = f_oneway(cg_2020, cg_2021, cg_2022)\n",
    "print(\"Resultado do teste ANOVA:\", anova_result)\n"
   ]
  },
  {
   "cell_type": "markdown",
   "metadata": {},
   "source": [
    "### Resultado da ANOVA quanto à variação temporal da classificação no tempo:\n",
    "\n",
    "O p-value de 0.556 é maior que o nível de significância usual de 0.05 (ou 5%). Isso significa que não há evidências suficientes para rejeitar a hipótese nula.\n",
    "\n",
    "Hipótese nula (H₀): O ranking (cg) dos alunos não varia significativamente entre os anos.\n",
    "Hipótese alternativa (H₁): O ranking (cg) dos alunos varia significativamente entre os anos.\n",
    "Dado que o p-value é alto, não podemos concluir que existe uma diferença significativa entre os rankings nos diferentes anos. Em outras palavras, o teste ANOVA sugere que a variação dos rankings entre os anos de 2020, 2021 e 2022 não é estatisticamente significativa.\n",
    "\n",
    "Logo, uma abordagem razoável é utilizar a média dos indicadores e nos outros casos somente os dados de 2022."
   ]
  },
  {
   "cell_type": "code",
   "execution_count": 10,
   "metadata": {},
   "outputs": [
    {
     "name": "stdout",
     "output_type": "stream",
     "text": [
      "<class 'pandas.core.frame.DataFrame'>\n",
      "Index: 1646 entries, ALUNO-2 to ALUNO-1349\n",
      "Data columns (total 17 columns):\n",
      " #   Column                Non-Null Count  Dtype   \n",
      "---  ------                --------------  -----   \n",
      " 0   ano                   1646 non-null   int64   \n",
      " 1   anos_pm               1646 non-null   float64 \n",
      " 2   bolsista_encoded      1646 non-null   int64   \n",
      " 3   cg                    1646 non-null   float64 \n",
      " 4   diff_fase             1646 non-null   float64 \n",
      " 5   iaa                   1646 non-null   float64 \n",
      " 6   ian                   1646 non-null   category\n",
      " 7   ida                   1646 non-null   float64 \n",
      " 8   idade                 1646 non-null   float64 \n",
      " 9   ieg                   1646 non-null   float64 \n",
      " 10  inde                  1646 non-null   float64 \n",
      " 11  ipp                   1646 non-null   float64 \n",
      " 12  ips                   1646 non-null   float64 \n",
      " 13  ipv                   1646 non-null   float64 \n",
      " 14  na_fase               1646 non-null   int64   \n",
      " 15  ponto_virada_encoded  1646 non-null   int64   \n",
      " 16  sexo_encoded          1646 non-null   int64   \n",
      "dtypes: category(1), float64(11), int64(5)\n",
      "memory usage: 284.9+ KB\n"
     ]
    }
   ],
   "source": [
    "data.info()\n"
   ]
  },
  {
   "cell_type": "code",
   "execution_count": 11,
   "metadata": {},
   "outputs": [
    {
     "data": {
      "text/html": [
       "<div>\n",
       "<style scoped>\n",
       "    .dataframe tbody tr th:only-of-type {\n",
       "        vertical-align: middle;\n",
       "    }\n",
       "\n",
       "    .dataframe tbody tr th {\n",
       "        vertical-align: top;\n",
       "    }\n",
       "\n",
       "    .dataframe thead th {\n",
       "        text-align: right;\n",
       "    }\n",
       "</style>\n",
       "<table border=\"1\" class=\"dataframe\">\n",
       "  <thead>\n",
       "    <tr style=\"text-align: right;\">\n",
       "      <th></th>\n",
       "      <th>anos_pm</th>\n",
       "      <th>bolsista_encoded</th>\n",
       "      <th>cg</th>\n",
       "      <th>diff_fase</th>\n",
       "      <th>iaa</th>\n",
       "      <th>ian</th>\n",
       "      <th>ida</th>\n",
       "      <th>idade</th>\n",
       "      <th>ieg</th>\n",
       "      <th>inde</th>\n",
       "      <th>ipp</th>\n",
       "      <th>ips</th>\n",
       "      <th>ipv</th>\n",
       "      <th>na_fase</th>\n",
       "      <th>ponto_virada_encoded</th>\n",
       "      <th>sexo_encoded</th>\n",
       "    </tr>\n",
       "    <tr>\n",
       "      <th>nome</th>\n",
       "      <th></th>\n",
       "      <th></th>\n",
       "      <th></th>\n",
       "      <th></th>\n",
       "      <th></th>\n",
       "      <th></th>\n",
       "      <th></th>\n",
       "      <th></th>\n",
       "      <th></th>\n",
       "      <th></th>\n",
       "      <th></th>\n",
       "      <th></th>\n",
       "      <th></th>\n",
       "      <th></th>\n",
       "      <th></th>\n",
       "      <th></th>\n",
       "    </tr>\n",
       "  </thead>\n",
       "  <tbody>\n",
       "    <tr>\n",
       "      <th>ALUNO-2</th>\n",
       "      <td>0.0</td>\n",
       "      <td>0</td>\n",
       "      <td>245.0</td>\n",
       "      <td>-2.0</td>\n",
       "      <td>10.00002</td>\n",
       "      <td>5.0</td>\n",
       "      <td>8.816667</td>\n",
       "      <td>11.0</td>\n",
       "      <td>7.581705</td>\n",
       "      <td>7.675509</td>\n",
       "      <td>5.625000</td>\n",
       "      <td>7.5</td>\n",
       "      <td>7.916665</td>\n",
       "      <td>0</td>\n",
       "      <td>0</td>\n",
       "      <td>1</td>\n",
       "    </tr>\n",
       "    <tr>\n",
       "      <th>ALUNO-4</th>\n",
       "      <td>0.0</td>\n",
       "      <td>0</td>\n",
       "      <td>451.0</td>\n",
       "      <td>-1.0</td>\n",
       "      <td>10.00002</td>\n",
       "      <td>5.0</td>\n",
       "      <td>5.083333</td>\n",
       "      <td>12.0</td>\n",
       "      <td>8.071429</td>\n",
       "      <td>7.117065</td>\n",
       "      <td>6.250000</td>\n",
       "      <td>7.5</td>\n",
       "      <td>8.055553</td>\n",
       "      <td>0</td>\n",
       "      <td>0</td>\n",
       "      <td>0</td>\n",
       "    </tr>\n",
       "    <tr>\n",
       "      <th>ALUNO-5</th>\n",
       "      <td>3.0</td>\n",
       "      <td>0</td>\n",
       "      <td>415.0</td>\n",
       "      <td>-1.0</td>\n",
       "      <td>6.41668</td>\n",
       "      <td>5.0</td>\n",
       "      <td>7.083333</td>\n",
       "      <td>12.0</td>\n",
       "      <td>8.557505</td>\n",
       "      <td>7.232336</td>\n",
       "      <td>6.458333</td>\n",
       "      <td>7.5</td>\n",
       "      <td>7.833337</td>\n",
       "      <td>0</td>\n",
       "      <td>0</td>\n",
       "      <td>0</td>\n",
       "    </tr>\n",
       "    <tr>\n",
       "      <th>ALUNO-6</th>\n",
       "      <td>0.0</td>\n",
       "      <td>0</td>\n",
       "      <td>221.0</td>\n",
       "      <td>0.0</td>\n",
       "      <td>9.00002</td>\n",
       "      <td>10.0</td>\n",
       "      <td>5.500000</td>\n",
       "      <td>11.0</td>\n",
       "      <td>9.333333</td>\n",
       "      <td>7.741669</td>\n",
       "      <td>6.250000</td>\n",
       "      <td>7.5</td>\n",
       "      <td>7.500000</td>\n",
       "      <td>1</td>\n",
       "      <td>0</td>\n",
       "      <td>1</td>\n",
       "    </tr>\n",
       "    <tr>\n",
       "      <th>ALUNO-7</th>\n",
       "      <td>0.0</td>\n",
       "      <td>0</td>\n",
       "      <td>357.0</td>\n",
       "      <td>-1.0</td>\n",
       "      <td>10.00002</td>\n",
       "      <td>5.0</td>\n",
       "      <td>5.583333</td>\n",
       "      <td>11.0</td>\n",
       "      <td>9.314954</td>\n",
       "      <td>7.406743</td>\n",
       "      <td>5.937500</td>\n",
       "      <td>7.5</td>\n",
       "      <td>7.916670</td>\n",
       "      <td>0</td>\n",
       "      <td>0</td>\n",
       "      <td>0</td>\n",
       "    </tr>\n",
       "  </tbody>\n",
       "</table>\n",
       "</div>"
      ],
      "text/plain": [
       "         anos_pm  bolsista_encoded     cg  diff_fase       iaa   ian  \\\n",
       "nome                                                                   \n",
       "ALUNO-2      0.0                 0  245.0       -2.0  10.00002   5.0   \n",
       "ALUNO-4      0.0                 0  451.0       -1.0  10.00002   5.0   \n",
       "ALUNO-5      3.0                 0  415.0       -1.0   6.41668   5.0   \n",
       "ALUNO-6      0.0                 0  221.0        0.0   9.00002  10.0   \n",
       "ALUNO-7      0.0                 0  357.0       -1.0  10.00002   5.0   \n",
       "\n",
       "              ida  idade       ieg      inde       ipp  ips       ipv  \\\n",
       "nome                                                                    \n",
       "ALUNO-2  8.816667   11.0  7.581705  7.675509  5.625000  7.5  7.916665   \n",
       "ALUNO-4  5.083333   12.0  8.071429  7.117065  6.250000  7.5  8.055553   \n",
       "ALUNO-5  7.083333   12.0  8.557505  7.232336  6.458333  7.5  7.833337   \n",
       "ALUNO-6  5.500000   11.0  9.333333  7.741669  6.250000  7.5  7.500000   \n",
       "ALUNO-7  5.583333   11.0  9.314954  7.406743  5.937500  7.5  7.916670   \n",
       "\n",
       "         na_fase  ponto_virada_encoded  sexo_encoded  \n",
       "nome                                                  \n",
       "ALUNO-2        0                     0             1  \n",
       "ALUNO-4        0                     0             0  \n",
       "ALUNO-5        0                     0             0  \n",
       "ALUNO-6        1                     0             1  \n",
       "ALUNO-7        0                     0             0  "
      ]
     },
     "execution_count": 11,
     "metadata": {},
     "output_type": "execute_result"
    }
   ],
   "source": [
    "df = data.reset_index().copy()\n",
    "df = df[df[\"ano\"] == 2022]\n",
    "df = df.drop(columns=[\"ano\"], axis=1)\n",
    "df.set_index(\"nome\", inplace=True)\n",
    "df.head()\n"
   ]
  },
  {
   "cell_type": "markdown",
   "metadata": {},
   "source": [
    "## Teste com os dados de 2022, uma vez que não há diferença substancial ao longo dos anos para a definição do `cg`"
   ]
  },
  {
   "cell_type": "code",
   "execution_count": 12,
   "metadata": {},
   "outputs": [
    {
     "data": {
      "text/html": [
       "<div>\n",
       "<style scoped>\n",
       "    .dataframe tbody tr th:only-of-type {\n",
       "        vertical-align: middle;\n",
       "    }\n",
       "\n",
       "    .dataframe tbody tr th {\n",
       "        vertical-align: top;\n",
       "    }\n",
       "\n",
       "    .dataframe thead th {\n",
       "        text-align: right;\n",
       "    }\n",
       "</style>\n",
       "<table border=\"1\" class=\"dataframe\">\n",
       "  <thead>\n",
       "    <tr style=\"text-align: right;\">\n",
       "      <th></th>\n",
       "      <th>nome</th>\n",
       "      <th>idade</th>\n",
       "      <th>fase</th>\n",
       "      <th>turma</th>\n",
       "      <th>ano_ingresso</th>\n",
       "      <th>bolsista</th>\n",
       "      <th>inde</th>\n",
       "      <th>cg</th>\n",
       "      <th>cf</th>\n",
       "      <th>ct</th>\n",
       "      <th>...</th>\n",
       "      <th>destaque_ipv_resultado_encoded</th>\n",
       "      <th>rec_ava_1_resultado</th>\n",
       "      <th>rec_ava_2_resultado</th>\n",
       "      <th>rec_ava_3_resultado</th>\n",
       "      <th>rec_ava_4_resultado</th>\n",
       "      <th>rec_ava_1_resultado_encoded</th>\n",
       "      <th>rec_ava_2_resultado_encoded</th>\n",
       "      <th>rec_ava_3_resultado_encoded</th>\n",
       "      <th>rec_ava_4_resultado_encoded</th>\n",
       "      <th>rec_sintese</th>\n",
       "    </tr>\n",
       "  </thead>\n",
       "  <tbody>\n",
       "    <tr>\n",
       "      <th>0</th>\n",
       "      <td>ALUNO-2</td>\n",
       "      <td>11.0</td>\n",
       "      <td>0</td>\n",
       "      <td>K</td>\n",
       "      <td>2022.0</td>\n",
       "      <td>Não</td>\n",
       "      <td>7.675509</td>\n",
       "      <td>245.0</td>\n",
       "      <td>66.0</td>\n",
       "      <td>6.0</td>\n",
       "      <td>...</td>\n",
       "      <td>1</td>\n",
       "      <td>Positivo</td>\n",
       "      <td>Neutro</td>\n",
       "      <td>NaN</td>\n",
       "      <td>NaN</td>\n",
       "      <td>1.0</td>\n",
       "      <td>0.0</td>\n",
       "      <td>NaN</td>\n",
       "      <td>NaN</td>\n",
       "      <td>1.0</td>\n",
       "    </tr>\n",
       "    <tr>\n",
       "      <th>1</th>\n",
       "      <td>ALUNO-4</td>\n",
       "      <td>12.0</td>\n",
       "      <td>2</td>\n",
       "      <td>J</td>\n",
       "      <td>2022.0</td>\n",
       "      <td>Não</td>\n",
       "      <td>7.117065</td>\n",
       "      <td>451.0</td>\n",
       "      <td>69.0</td>\n",
       "      <td>3.0</td>\n",
       "      <td>...</td>\n",
       "      <td>1</td>\n",
       "      <td>Positivo</td>\n",
       "      <td>Neutro</td>\n",
       "      <td>Positivo</td>\n",
       "      <td>NaN</td>\n",
       "      <td>1.0</td>\n",
       "      <td>0.0</td>\n",
       "      <td>1.0</td>\n",
       "      <td>NaN</td>\n",
       "      <td>1.0</td>\n",
       "    </tr>\n",
       "    <tr>\n",
       "      <th>2</th>\n",
       "      <td>ALUNO-5</td>\n",
       "      <td>12.0</td>\n",
       "      <td>2</td>\n",
       "      <td>L</td>\n",
       "      <td>2019.0</td>\n",
       "      <td>Não</td>\n",
       "      <td>7.232336</td>\n",
       "      <td>415.0</td>\n",
       "      <td>61.0</td>\n",
       "      <td>12.0</td>\n",
       "      <td>...</td>\n",
       "      <td>1</td>\n",
       "      <td>Neutro</td>\n",
       "      <td>Positivo</td>\n",
       "      <td>Neutro</td>\n",
       "      <td>NaN</td>\n",
       "      <td>0.0</td>\n",
       "      <td>1.0</td>\n",
       "      <td>0.0</td>\n",
       "      <td>NaN</td>\n",
       "      <td>0.0</td>\n",
       "    </tr>\n",
       "    <tr>\n",
       "      <th>3</th>\n",
       "      <td>ALUNO-6</td>\n",
       "      <td>11.0</td>\n",
       "      <td>2</td>\n",
       "      <td>K</td>\n",
       "      <td>2022.0</td>\n",
       "      <td>Não</td>\n",
       "      <td>7.741669</td>\n",
       "      <td>221.0</td>\n",
       "      <td>35.0</td>\n",
       "      <td>2.0</td>\n",
       "      <td>...</td>\n",
       "      <td>1</td>\n",
       "      <td>Neutro</td>\n",
       "      <td>Positivo</td>\n",
       "      <td>Neutro</td>\n",
       "      <td>NaN</td>\n",
       "      <td>0.0</td>\n",
       "      <td>1.0</td>\n",
       "      <td>0.0</td>\n",
       "      <td>NaN</td>\n",
       "      <td>0.0</td>\n",
       "    </tr>\n",
       "    <tr>\n",
       "      <th>4</th>\n",
       "      <td>ALUNO-7</td>\n",
       "      <td>11.0</td>\n",
       "      <td>1</td>\n",
       "      <td>U</td>\n",
       "      <td>2022.0</td>\n",
       "      <td>Não</td>\n",
       "      <td>7.406743</td>\n",
       "      <td>357.0</td>\n",
       "      <td>93.0</td>\n",
       "      <td>7.0</td>\n",
       "      <td>...</td>\n",
       "      <td>1</td>\n",
       "      <td>Positivo</td>\n",
       "      <td>Positivo</td>\n",
       "      <td>NaN</td>\n",
       "      <td>NaN</td>\n",
       "      <td>1.0</td>\n",
       "      <td>1.0</td>\n",
       "      <td>NaN</td>\n",
       "      <td>NaN</td>\n",
       "      <td>1.0</td>\n",
       "    </tr>\n",
       "  </tbody>\n",
       "</table>\n",
       "<p>5 rows × 46 columns</p>\n",
       "</div>"
      ],
      "text/plain": [
       "      nome  idade  fase turma  ano_ingresso bolsista      inde     cg    cf  \\\n",
       "0  ALUNO-2   11.0     0     K        2022.0      Não  7.675509  245.0  66.0   \n",
       "1  ALUNO-4   12.0     2     J        2022.0      Não  7.117065  451.0  69.0   \n",
       "2  ALUNO-5   12.0     2     L        2019.0      Não  7.232336  415.0  61.0   \n",
       "3  ALUNO-6   11.0     2     K        2022.0      Não  7.741669  221.0  35.0   \n",
       "4  ALUNO-7   11.0     1     U        2022.0      Não  7.406743  357.0  93.0   \n",
       "\n",
       "     ct  ...  destaque_ipv_resultado_encoded  rec_ava_1_resultado  \\\n",
       "0   6.0  ...                               1             Positivo   \n",
       "1   3.0  ...                               1             Positivo   \n",
       "2  12.0  ...                               1               Neutro   \n",
       "3   2.0  ...                               1               Neutro   \n",
       "4   7.0  ...                               1             Positivo   \n",
       "\n",
       "   rec_ava_2_resultado  rec_ava_3_resultado  rec_ava_4_resultado  \\\n",
       "0               Neutro                  NaN                  NaN   \n",
       "1               Neutro             Positivo                  NaN   \n",
       "2             Positivo               Neutro                  NaN   \n",
       "3             Positivo               Neutro                  NaN   \n",
       "4             Positivo                  NaN                  NaN   \n",
       "\n",
       "   rec_ava_1_resultado_encoded  rec_ava_2_resultado_encoded  \\\n",
       "0                          1.0                          0.0   \n",
       "1                          1.0                          0.0   \n",
       "2                          0.0                          1.0   \n",
       "3                          0.0                          1.0   \n",
       "4                          1.0                          1.0   \n",
       "\n",
       "   rec_ava_3_resultado_encoded  rec_ava_4_resultado_encoded rec_sintese  \n",
       "0                          NaN                          NaN         1.0  \n",
       "1                          1.0                          NaN         1.0  \n",
       "2                          0.0                          NaN         0.0  \n",
       "3                          0.0                          NaN         0.0  \n",
       "4                          NaN                          NaN         1.0  \n",
       "\n",
       "[5 rows x 46 columns]"
      ]
     },
     "execution_count": 12,
     "metadata": {},
     "output_type": "execute_result"
    }
   ],
   "source": [
    "df_2022 = pd.read_csv(\"../data/df_2022_preproc_select.csv\")\n",
    "\n",
    "df_2022.head()\n"
   ]
  },
  {
   "cell_type": "code",
   "execution_count": 13,
   "metadata": {},
   "outputs": [
    {
     "data": {
      "text/plain": [
       "['nome',\n",
       " 'idade',\n",
       " 'fase',\n",
       " 'turma',\n",
       " 'ano_ingresso',\n",
       " 'bolsista',\n",
       " 'inde',\n",
       " 'cg',\n",
       " 'cf',\n",
       " 'ct',\n",
       " 'iaa',\n",
       " 'ieg',\n",
       " 'ips',\n",
       " 'ida',\n",
       " 'nota_port',\n",
       " 'nota_mat',\n",
       " 'nota_ing',\n",
       " 'qtd_aval',\n",
       " 'ipp',\n",
       " 'indicado_bolsa',\n",
       " 'ipv',\n",
       " 'ian',\n",
       " 'nivel_ideal',\n",
       " 'sexo',\n",
       " 'corraca',\n",
       " 'bolsista_encoded',\n",
       " 'ponto_virada_encoded',\n",
       " 'pedra',\n",
       " 'pedra_encoded',\n",
       " 'anos_pm',\n",
       " 'fase_ideal',\n",
       " 'destaque_ieg_resultado',\n",
       " 'destaque_ida_resultado',\n",
       " 'destaque_ipv_resultado',\n",
       " 'destaque_ieg_resultado_encoded',\n",
       " 'destaque_ida_resultado_encoded',\n",
       " 'destaque_ipv_resultado_encoded',\n",
       " 'rec_ava_1_resultado',\n",
       " 'rec_ava_2_resultado',\n",
       " 'rec_ava_3_resultado',\n",
       " 'rec_ava_4_resultado',\n",
       " 'rec_ava_1_resultado_encoded',\n",
       " 'rec_ava_2_resultado_encoded',\n",
       " 'rec_ava_3_resultado_encoded',\n",
       " 'rec_ava_4_resultado_encoded',\n",
       " 'rec_sintese']"
      ]
     },
     "execution_count": 13,
     "metadata": {},
     "output_type": "execute_result"
    }
   ],
   "source": [
    "df_2022.columns.to_list()\n"
   ]
  },
  {
   "cell_type": "code",
   "execution_count": 14,
   "metadata": {},
   "outputs": [
    {
     "data": {
      "text/html": [
       "<div>\n",
       "<style scoped>\n",
       "    .dataframe tbody tr th:only-of-type {\n",
       "        vertical-align: middle;\n",
       "    }\n",
       "\n",
       "    .dataframe tbody tr th {\n",
       "        vertical-align: top;\n",
       "    }\n",
       "\n",
       "    .dataframe thead th {\n",
       "        text-align: right;\n",
       "    }\n",
       "</style>\n",
       "<table border=\"1\" class=\"dataframe\">\n",
       "  <thead>\n",
       "    <tr style=\"text-align: right;\">\n",
       "      <th></th>\n",
       "      <th>nome</th>\n",
       "      <th>idade</th>\n",
       "      <th>cg</th>\n",
       "      <th>pedra</th>\n",
       "      <th>inde</th>\n",
       "      <th>iaa</th>\n",
       "      <th>ieg</th>\n",
       "      <th>ips</th>\n",
       "      <th>ida</th>\n",
       "      <th>ipv</th>\n",
       "      <th>...</th>\n",
       "      <th>indicado_bolsa</th>\n",
       "      <th>sexo</th>\n",
       "      <th>ponto_virada_encoded</th>\n",
       "      <th>fase</th>\n",
       "      <th>anos_pm</th>\n",
       "      <th>fase_ideal</th>\n",
       "      <th>destaque_ieg_resultado_encoded</th>\n",
       "      <th>destaque_ida_resultado_encoded</th>\n",
       "      <th>destaque_ipv_resultado_encoded</th>\n",
       "      <th>rec_sintese</th>\n",
       "    </tr>\n",
       "  </thead>\n",
       "  <tbody>\n",
       "    <tr>\n",
       "      <th>0</th>\n",
       "      <td>ALUNO-2</td>\n",
       "      <td>11.0</td>\n",
       "      <td>245.0</td>\n",
       "      <td>Ametista</td>\n",
       "      <td>7.675509</td>\n",
       "      <td>10.00002</td>\n",
       "      <td>7.581705</td>\n",
       "      <td>7.5</td>\n",
       "      <td>8.816667</td>\n",
       "      <td>7.916665</td>\n",
       "      <td>...</td>\n",
       "      <td>Sim</td>\n",
       "      <td>F</td>\n",
       "      <td>0</td>\n",
       "      <td>0</td>\n",
       "      <td>0.0</td>\n",
       "      <td>2.0</td>\n",
       "      <td>1</td>\n",
       "      <td>1</td>\n",
       "      <td>1</td>\n",
       "      <td>1.0</td>\n",
       "    </tr>\n",
       "    <tr>\n",
       "      <th>1</th>\n",
       "      <td>ALUNO-4</td>\n",
       "      <td>12.0</td>\n",
       "      <td>451.0</td>\n",
       "      <td>Ametista</td>\n",
       "      <td>7.117065</td>\n",
       "      <td>10.00002</td>\n",
       "      <td>8.071429</td>\n",
       "      <td>7.5</td>\n",
       "      <td>5.083333</td>\n",
       "      <td>8.055553</td>\n",
       "      <td>...</td>\n",
       "      <td>Não</td>\n",
       "      <td>M</td>\n",
       "      <td>0</td>\n",
       "      <td>2</td>\n",
       "      <td>0.0</td>\n",
       "      <td>3.0</td>\n",
       "      <td>1</td>\n",
       "      <td>-1</td>\n",
       "      <td>1</td>\n",
       "      <td>1.0</td>\n",
       "    </tr>\n",
       "    <tr>\n",
       "      <th>2</th>\n",
       "      <td>ALUNO-5</td>\n",
       "      <td>12.0</td>\n",
       "      <td>415.0</td>\n",
       "      <td>Ametista</td>\n",
       "      <td>7.232336</td>\n",
       "      <td>6.41668</td>\n",
       "      <td>8.557505</td>\n",
       "      <td>7.5</td>\n",
       "      <td>7.083333</td>\n",
       "      <td>7.833337</td>\n",
       "      <td>...</td>\n",
       "      <td>Não</td>\n",
       "      <td>M</td>\n",
       "      <td>0</td>\n",
       "      <td>2</td>\n",
       "      <td>3.0</td>\n",
       "      <td>3.0</td>\n",
       "      <td>1</td>\n",
       "      <td>-1</td>\n",
       "      <td>1</td>\n",
       "      <td>0.0</td>\n",
       "    </tr>\n",
       "    <tr>\n",
       "      <th>3</th>\n",
       "      <td>ALUNO-6</td>\n",
       "      <td>11.0</td>\n",
       "      <td>221.0</td>\n",
       "      <td>Ametista</td>\n",
       "      <td>7.741669</td>\n",
       "      <td>9.00002</td>\n",
       "      <td>9.333333</td>\n",
       "      <td>7.5</td>\n",
       "      <td>5.500000</td>\n",
       "      <td>7.500000</td>\n",
       "      <td>...</td>\n",
       "      <td>Não</td>\n",
       "      <td>F</td>\n",
       "      <td>0</td>\n",
       "      <td>2</td>\n",
       "      <td>0.0</td>\n",
       "      <td>2.0</td>\n",
       "      <td>1</td>\n",
       "      <td>-1</td>\n",
       "      <td>1</td>\n",
       "      <td>0.0</td>\n",
       "    </tr>\n",
       "    <tr>\n",
       "      <th>4</th>\n",
       "      <td>ALUNO-7</td>\n",
       "      <td>11.0</td>\n",
       "      <td>357.0</td>\n",
       "      <td>Ametista</td>\n",
       "      <td>7.406743</td>\n",
       "      <td>10.00002</td>\n",
       "      <td>9.314954</td>\n",
       "      <td>7.5</td>\n",
       "      <td>5.583333</td>\n",
       "      <td>7.916670</td>\n",
       "      <td>...</td>\n",
       "      <td>Não</td>\n",
       "      <td>M</td>\n",
       "      <td>0</td>\n",
       "      <td>1</td>\n",
       "      <td>0.0</td>\n",
       "      <td>2.0</td>\n",
       "      <td>1</td>\n",
       "      <td>-1</td>\n",
       "      <td>1</td>\n",
       "      <td>1.0</td>\n",
       "    </tr>\n",
       "  </tbody>\n",
       "</table>\n",
       "<p>5 rows × 23 columns</p>\n",
       "</div>"
      ],
      "text/plain": [
       "      nome  idade     cg     pedra      inde       iaa       ieg  ips  \\\n",
       "0  ALUNO-2   11.0  245.0  Ametista  7.675509  10.00002  7.581705  7.5   \n",
       "1  ALUNO-4   12.0  451.0  Ametista  7.117065  10.00002  8.071429  7.5   \n",
       "2  ALUNO-5   12.0  415.0  Ametista  7.232336   6.41668  8.557505  7.5   \n",
       "3  ALUNO-6   11.0  221.0  Ametista  7.741669   9.00002  9.333333  7.5   \n",
       "4  ALUNO-7   11.0  357.0  Ametista  7.406743  10.00002  9.314954  7.5   \n",
       "\n",
       "        ida       ipv  ...  indicado_bolsa  sexo  ponto_virada_encoded fase  \\\n",
       "0  8.816667  7.916665  ...             Sim     F                     0    0   \n",
       "1  5.083333  8.055553  ...             Não     M                     0    2   \n",
       "2  7.083333  7.833337  ...             Não     M                     0    2   \n",
       "3  5.500000  7.500000  ...             Não     F                     0    2   \n",
       "4  5.583333  7.916670  ...             Não     M                     0    1   \n",
       "\n",
       "  anos_pm  fase_ideal  destaque_ieg_resultado_encoded  \\\n",
       "0     0.0         2.0                               1   \n",
       "1     0.0         3.0                               1   \n",
       "2     3.0         3.0                               1   \n",
       "3     0.0         2.0                               1   \n",
       "4     0.0         2.0                               1   \n",
       "\n",
       "   destaque_ida_resultado_encoded  destaque_ipv_resultado_encoded  rec_sintese  \n",
       "0                               1                               1          1.0  \n",
       "1                              -1                               1          1.0  \n",
       "2                              -1                               1          0.0  \n",
       "3                              -1                               1          0.0  \n",
       "4                              -1                               1          1.0  \n",
       "\n",
       "[5 rows x 23 columns]"
      ]
     },
     "execution_count": 14,
     "metadata": {},
     "output_type": "execute_result"
    }
   ],
   "source": [
    "df_2022 = df_2022[\n",
    "    [\n",
    "        \"nome\",\n",
    "        \"idade\",\n",
    "        \"cg\",\n",
    "        \"pedra\",\n",
    "        \"inde\",\n",
    "        \"iaa\",\n",
    "        \"ieg\",\n",
    "        \"ips\",\n",
    "        \"ida\",\n",
    "        \"ipv\",\n",
    "        \"ian\",\n",
    "        \"ipp\",\n",
    "        \"qtd_aval\",\n",
    "        \"indicado_bolsa\",\n",
    "        \"sexo\",\n",
    "        \"ponto_virada_encoded\",\n",
    "        \"fase\",\n",
    "        \"anos_pm\",\n",
    "        \"fase_ideal\",\n",
    "        \"destaque_ieg_resultado_encoded\",\n",
    "        \"destaque_ida_resultado_encoded\",\n",
    "        \"destaque_ipv_resultado_encoded\",\n",
    "        \"rec_sintese\",\n",
    "    ]\n",
    "].copy()\n",
    "\n",
    "\n",
    "df_2022.head()\n"
   ]
  },
  {
   "cell_type": "code",
   "execution_count": 15,
   "metadata": {},
   "outputs": [
    {
     "data": {
      "text/html": [
       "<div>\n",
       "<style scoped>\n",
       "    .dataframe tbody tr th:only-of-type {\n",
       "        vertical-align: middle;\n",
       "    }\n",
       "\n",
       "    .dataframe tbody tr th {\n",
       "        vertical-align: top;\n",
       "    }\n",
       "\n",
       "    .dataframe thead th {\n",
       "        text-align: right;\n",
       "    }\n",
       "</style>\n",
       "<table border=\"1\" class=\"dataframe\">\n",
       "  <thead>\n",
       "    <tr style=\"text-align: right;\">\n",
       "      <th></th>\n",
       "      <th>nome</th>\n",
       "      <th>idade</th>\n",
       "      <th>cg</th>\n",
       "      <th>pedra</th>\n",
       "      <th>inde</th>\n",
       "      <th>iaa</th>\n",
       "      <th>ieg</th>\n",
       "      <th>ips</th>\n",
       "      <th>ida</th>\n",
       "      <th>ipv</th>\n",
       "      <th>...</th>\n",
       "      <th>qtd_aval</th>\n",
       "      <th>indicado_bolsa</th>\n",
       "      <th>sexo</th>\n",
       "      <th>ponto_virada_encoded</th>\n",
       "      <th>anos_pm</th>\n",
       "      <th>destaque_ieg_resultado_encoded</th>\n",
       "      <th>destaque_ida_resultado_encoded</th>\n",
       "      <th>destaque_ipv_resultado_encoded</th>\n",
       "      <th>rec_sintese</th>\n",
       "      <th>diff_fase</th>\n",
       "    </tr>\n",
       "  </thead>\n",
       "  <tbody>\n",
       "    <tr>\n",
       "      <th>0</th>\n",
       "      <td>ALUNO-2</td>\n",
       "      <td>11.0</td>\n",
       "      <td>245.0</td>\n",
       "      <td>Ametista</td>\n",
       "      <td>7.675509</td>\n",
       "      <td>10.00002</td>\n",
       "      <td>7.581705</td>\n",
       "      <td>7.5</td>\n",
       "      <td>8.816667</td>\n",
       "      <td>7.916665</td>\n",
       "      <td>...</td>\n",
       "      <td>2.0</td>\n",
       "      <td>Sim</td>\n",
       "      <td>F</td>\n",
       "      <td>0</td>\n",
       "      <td>0.0</td>\n",
       "      <td>1</td>\n",
       "      <td>1</td>\n",
       "      <td>1</td>\n",
       "      <td>1.0</td>\n",
       "      <td>-2.0</td>\n",
       "    </tr>\n",
       "    <tr>\n",
       "      <th>1</th>\n",
       "      <td>ALUNO-4</td>\n",
       "      <td>12.0</td>\n",
       "      <td>451.0</td>\n",
       "      <td>Ametista</td>\n",
       "      <td>7.117065</td>\n",
       "      <td>10.00002</td>\n",
       "      <td>8.071429</td>\n",
       "      <td>7.5</td>\n",
       "      <td>5.083333</td>\n",
       "      <td>8.055553</td>\n",
       "      <td>...</td>\n",
       "      <td>3.0</td>\n",
       "      <td>Não</td>\n",
       "      <td>M</td>\n",
       "      <td>0</td>\n",
       "      <td>0.0</td>\n",
       "      <td>1</td>\n",
       "      <td>-1</td>\n",
       "      <td>1</td>\n",
       "      <td>1.0</td>\n",
       "      <td>-1.0</td>\n",
       "    </tr>\n",
       "    <tr>\n",
       "      <th>2</th>\n",
       "      <td>ALUNO-5</td>\n",
       "      <td>12.0</td>\n",
       "      <td>415.0</td>\n",
       "      <td>Ametista</td>\n",
       "      <td>7.232336</td>\n",
       "      <td>6.41668</td>\n",
       "      <td>8.557505</td>\n",
       "      <td>7.5</td>\n",
       "      <td>7.083333</td>\n",
       "      <td>7.833337</td>\n",
       "      <td>...</td>\n",
       "      <td>3.0</td>\n",
       "      <td>Não</td>\n",
       "      <td>M</td>\n",
       "      <td>0</td>\n",
       "      <td>3.0</td>\n",
       "      <td>1</td>\n",
       "      <td>-1</td>\n",
       "      <td>1</td>\n",
       "      <td>0.0</td>\n",
       "      <td>-1.0</td>\n",
       "    </tr>\n",
       "    <tr>\n",
       "      <th>3</th>\n",
       "      <td>ALUNO-6</td>\n",
       "      <td>11.0</td>\n",
       "      <td>221.0</td>\n",
       "      <td>Ametista</td>\n",
       "      <td>7.741669</td>\n",
       "      <td>9.00002</td>\n",
       "      <td>9.333333</td>\n",
       "      <td>7.5</td>\n",
       "      <td>5.500000</td>\n",
       "      <td>7.500000</td>\n",
       "      <td>...</td>\n",
       "      <td>3.0</td>\n",
       "      <td>Não</td>\n",
       "      <td>F</td>\n",
       "      <td>0</td>\n",
       "      <td>0.0</td>\n",
       "      <td>1</td>\n",
       "      <td>-1</td>\n",
       "      <td>1</td>\n",
       "      <td>0.0</td>\n",
       "      <td>0.0</td>\n",
       "    </tr>\n",
       "    <tr>\n",
       "      <th>4</th>\n",
       "      <td>ALUNO-7</td>\n",
       "      <td>11.0</td>\n",
       "      <td>357.0</td>\n",
       "      <td>Ametista</td>\n",
       "      <td>7.406743</td>\n",
       "      <td>10.00002</td>\n",
       "      <td>9.314954</td>\n",
       "      <td>7.5</td>\n",
       "      <td>5.583333</td>\n",
       "      <td>7.916670</td>\n",
       "      <td>...</td>\n",
       "      <td>2.0</td>\n",
       "      <td>Não</td>\n",
       "      <td>M</td>\n",
       "      <td>0</td>\n",
       "      <td>0.0</td>\n",
       "      <td>1</td>\n",
       "      <td>-1</td>\n",
       "      <td>1</td>\n",
       "      <td>1.0</td>\n",
       "      <td>-1.0</td>\n",
       "    </tr>\n",
       "  </tbody>\n",
       "</table>\n",
       "<p>5 rows × 22 columns</p>\n",
       "</div>"
      ],
      "text/plain": [
       "      nome  idade     cg     pedra      inde       iaa       ieg  ips  \\\n",
       "0  ALUNO-2   11.0  245.0  Ametista  7.675509  10.00002  7.581705  7.5   \n",
       "1  ALUNO-4   12.0  451.0  Ametista  7.117065  10.00002  8.071429  7.5   \n",
       "2  ALUNO-5   12.0  415.0  Ametista  7.232336   6.41668  8.557505  7.5   \n",
       "3  ALUNO-6   11.0  221.0  Ametista  7.741669   9.00002  9.333333  7.5   \n",
       "4  ALUNO-7   11.0  357.0  Ametista  7.406743  10.00002  9.314954  7.5   \n",
       "\n",
       "        ida       ipv  ...  qtd_aval  indicado_bolsa  sexo  \\\n",
       "0  8.816667  7.916665  ...       2.0             Sim     F   \n",
       "1  5.083333  8.055553  ...       3.0             Não     M   \n",
       "2  7.083333  7.833337  ...       3.0             Não     M   \n",
       "3  5.500000  7.500000  ...       3.0             Não     F   \n",
       "4  5.583333  7.916670  ...       2.0             Não     M   \n",
       "\n",
       "  ponto_virada_encoded anos_pm  destaque_ieg_resultado_encoded  \\\n",
       "0                    0     0.0                               1   \n",
       "1                    0     0.0                               1   \n",
       "2                    0     3.0                               1   \n",
       "3                    0     0.0                               1   \n",
       "4                    0     0.0                               1   \n",
       "\n",
       "   destaque_ida_resultado_encoded  destaque_ipv_resultado_encoded  \\\n",
       "0                               1                               1   \n",
       "1                              -1                               1   \n",
       "2                              -1                               1   \n",
       "3                              -1                               1   \n",
       "4                              -1                               1   \n",
       "\n",
       "   rec_sintese  diff_fase  \n",
       "0          1.0       -2.0  \n",
       "1          1.0       -1.0  \n",
       "2          0.0       -1.0  \n",
       "3          0.0        0.0  \n",
       "4          1.0       -1.0  \n",
       "\n",
       "[5 rows x 22 columns]"
      ]
     },
     "execution_count": 15,
     "metadata": {},
     "output_type": "execute_result"
    }
   ],
   "source": [
    "df_2022[\"diff_fase\"] = df_2022[\"fase\"] - df_2022[\"fase_ideal\"]\n",
    "df_2022.drop(columns=[\"fase_ideal\", \"fase\"], inplace=True)\n",
    "df_2022.head()\n"
   ]
  },
  {
   "cell_type": "code",
   "execution_count": 16,
   "metadata": {},
   "outputs": [],
   "source": [
    "df_2022.to_csv(\"../data/df_2022_clustering.csv\")\n"
   ]
  },
  {
   "cell_type": "markdown",
   "metadata": {},
   "source": [
    "### Adequação de `cg` para o algoritmo - normalização e inversão (quanto menor, melhor)"
   ]
  },
  {
   "cell_type": "code",
   "execution_count": 17,
   "metadata": {},
   "outputs": [
    {
     "name": "stdout",
     "output_type": "stream",
     "text": [
      "      cg  cg_normalized_inverted\n",
      "50   1.0                1.000000\n",
      "583  2.0                0.998839\n",
      "104  3.0                0.997677\n",
      "852  4.0                0.996516\n",
      "594  5.0                0.995354\n"
     ]
    }
   ],
   "source": [
    "df = pd.read_csv(\"../data/df_2022_clustering.csv\")\n",
    "\n",
    "# Definir o valor mínimo e máximo da coluna \"cg\"\n",
    "min_cg = df[\"cg\"].min()\n",
    "max_cg = df[\"cg\"].max()\n",
    "\n",
    "# Aplicar a normalização inversa para refletir a ordem de melhor ranking\n",
    "df[\"cg_normalized_inverted\"] = 1 - (df[\"cg\"] - min_cg) / (max_cg - min_cg)\n",
    "\n",
    "# Exibir as primeiras linhas da normalização invertida\n",
    "df_sorted_inverted = df[[\"cg\", \"cg_normalized_inverted\"]].sort_values(by=\"cg\").head()\n",
    "print(df_sorted_inverted)\n"
   ]
  },
  {
   "cell_type": "markdown",
   "metadata": {},
   "source": [
    "### Random Forest para análise de fatores que contribuem para melhor cg"
   ]
  },
  {
   "cell_type": "code",
   "execution_count": 18,
   "metadata": {},
   "outputs": [
    {
     "data": {
      "text/plain": [
       "nome                              0\n",
       "idade                             0\n",
       "cg                                0\n",
       "pedra                             0\n",
       "inde                              0\n",
       "iaa                               0\n",
       "ieg                               0\n",
       "ips                               0\n",
       "ida                               0\n",
       "ipv                               0\n",
       "ian                               0\n",
       "ipp                               0\n",
       "qtd_aval                          0\n",
       "indicado_bolsa                    0\n",
       "sexo                              1\n",
       "ponto_virada_encoded              0\n",
       "anos_pm                           0\n",
       "destaque_ieg_resultado_encoded    0\n",
       "destaque_ida_resultado_encoded    0\n",
       "destaque_ipv_resultado_encoded    0\n",
       "rec_sintese                       2\n",
       "diff_fase                         0\n",
       "cg_normalized_inverted            0\n",
       "dtype: int64"
      ]
     },
     "execution_count": 18,
     "metadata": {},
     "output_type": "execute_result"
    }
   ],
   "source": [
    "df.drop(columns=[\"Unnamed: 0\"], inplace=True)\n",
    "df.isna().sum()\n"
   ]
  },
  {
   "cell_type": "code",
   "execution_count": 19,
   "metadata": {},
   "outputs": [
    {
     "data": {
      "text/html": [
       "<style type=\"text/css\">\n",
       "#T_29dd1_row0_col0, #T_29dd1_row1_col1, #T_29dd1_row2_col2, #T_29dd1_row3_col3, #T_29dd1_row4_col4, #T_29dd1_row5_col5, #T_29dd1_row6_col6, #T_29dd1_row7_col7, #T_29dd1_row8_col8, #T_29dd1_row9_col9, #T_29dd1_row10_col10, #T_29dd1_row11_col11, #T_29dd1_row12_col12, #T_29dd1_row13_col13, #T_29dd1_row14_col14, #T_29dd1_row15_col15, #T_29dd1_row16_col16, #T_29dd1_row17_col17, #T_29dd1_row18_col18 {\n",
       "  background-color: #b40426;\n",
       "  color: #f1f1f1;\n",
       "}\n",
       "#T_29dd1_row0_col1 {\n",
       "  background-color: #f7b396;\n",
       "  color: #000000;\n",
       "}\n",
       "#T_29dd1_row0_col2, #T_29dd1_row0_col15, #T_29dd1_row3_col1, #T_29dd1_row16_col8 {\n",
       "  background-color: #9fbfff;\n",
       "  color: #000000;\n",
       "}\n",
       "#T_29dd1_row0_col3, #T_29dd1_row6_col1, #T_29dd1_row14_col0 {\n",
       "  background-color: #5875e1;\n",
       "  color: #f1f1f1;\n",
       "}\n",
       "#T_29dd1_row0_col4 {\n",
       "  background-color: #89acfd;\n",
       "  color: #000000;\n",
       "}\n",
       "#T_29dd1_row0_col5, #T_29dd1_row13_col12 {\n",
       "  background-color: #6485ec;\n",
       "  color: #f1f1f1;\n",
       "}\n",
       "#T_29dd1_row0_col6, #T_29dd1_row11_col12 {\n",
       "  background-color: #94b6ff;\n",
       "  color: #000000;\n",
       "}\n",
       "#T_29dd1_row0_col7, #T_29dd1_row3_col5, #T_29dd1_row4_col9, #T_29dd1_row10_col15 {\n",
       "  background-color: #a2c1ff;\n",
       "  color: #000000;\n",
       "}\n",
       "#T_29dd1_row0_col8, #T_29dd1_row2_col10 {\n",
       "  background-color: #4f69d9;\n",
       "  color: #f1f1f1;\n",
       "}\n",
       "#T_29dd1_row0_col9, #T_29dd1_row4_col14, #T_29dd1_row18_col8 {\n",
       "  background-color: #f1cdba;\n",
       "  color: #000000;\n",
       "}\n",
       "#T_29dd1_row0_col10 {\n",
       "  background-color: #e97a5f;\n",
       "  color: #f1f1f1;\n",
       "}\n",
       "#T_29dd1_row0_col11, #T_29dd1_row0_col18, #T_29dd1_row3_col17, #T_29dd1_row8_col3 {\n",
       "  background-color: #a5c3fe;\n",
       "  color: #000000;\n",
       "}\n",
       "#T_29dd1_row0_col12, #T_29dd1_row9_col6 {\n",
       "  background-color: #dfdbd9;\n",
       "  color: #000000;\n",
       "}\n",
       "#T_29dd1_row0_col13 {\n",
       "  background-color: #86a9fc;\n",
       "  color: #f1f1f1;\n",
       "}\n",
       "#T_29dd1_row0_col14, #T_29dd1_row11_col10 {\n",
       "  background-color: #88abfd;\n",
       "  color: #000000;\n",
       "}\n",
       "#T_29dd1_row0_col16, #T_29dd1_row7_col17, #T_29dd1_row16_col12 {\n",
       "  background-color: #c5d6f2;\n",
       "  color: #000000;\n",
       "}\n",
       "#T_29dd1_row0_col17 {\n",
       "  background-color: #455cce;\n",
       "  color: #f1f1f1;\n",
       "}\n",
       "#T_29dd1_row1_col0, #T_29dd1_row8_col6, #T_29dd1_row17_col7 {\n",
       "  background-color: #e4d9d2;\n",
       "  color: #000000;\n",
       "}\n",
       "#T_29dd1_row1_col2, #T_29dd1_row1_col3, #T_29dd1_row1_col4, #T_29dd1_row1_col5, #T_29dd1_row1_col6, #T_29dd1_row1_col7, #T_29dd1_row1_col8, #T_29dd1_row1_col9, #T_29dd1_row1_col11, #T_29dd1_row1_col13, #T_29dd1_row1_col14, #T_29dd1_row1_col15, #T_29dd1_row1_col16, #T_29dd1_row1_col17, #T_29dd1_row1_col18, #T_29dd1_row2_col0, #T_29dd1_row3_col10, #T_29dd1_row5_col12, #T_29dd1_row17_col0, #T_29dd1_row18_col0, #T_29dd1_row18_col1 {\n",
       "  background-color: #3b4cc0;\n",
       "  color: #f1f1f1;\n",
       "}\n",
       "#T_29dd1_row1_col10, #T_29dd1_row5_col1 {\n",
       "  background-color: #b3cdfb;\n",
       "  color: #000000;\n",
       "}\n",
       "#T_29dd1_row1_col12, #T_29dd1_row11_col0 {\n",
       "  background-color: #90b2fe;\n",
       "  color: #000000;\n",
       "}\n",
       "#T_29dd1_row2_col1 {\n",
       "  background-color: #4055c8;\n",
       "  color: #f1f1f1;\n",
       "}\n",
       "#T_29dd1_row2_col3, #T_29dd1_row3_col4 {\n",
       "  background-color: #f3c7b1;\n",
       "  color: #000000;\n",
       "}\n",
       "#T_29dd1_row2_col4 {\n",
       "  background-color: #d95847;\n",
       "  color: #f1f1f1;\n",
       "}\n",
       "#T_29dd1_row2_col5 {\n",
       "  background-color: #cad8ef;\n",
       "  color: #000000;\n",
       "}\n",
       "#T_29dd1_row2_col6, #T_29dd1_row4_col2, #T_29dd1_row13_col4 {\n",
       "  background-color: #d65244;\n",
       "  color: #f1f1f1;\n",
       "}\n",
       "#T_29dd1_row2_col7 {\n",
       "  background-color: #dc5d4a;\n",
       "  color: #f1f1f1;\n",
       "}\n",
       "#T_29dd1_row2_col8, #T_29dd1_row16_col14 {\n",
       "  background-color: #edd1c2;\n",
       "  color: #000000;\n",
       "}\n",
       "#T_29dd1_row2_col9, #T_29dd1_row11_col9, #T_29dd1_row16_col10 {\n",
       "  background-color: #c9d7f0;\n",
       "  color: #000000;\n",
       "}\n",
       "#T_29dd1_row2_col11 {\n",
       "  background-color: #f3c8b2;\n",
       "  color: #000000;\n",
       "}\n",
       "#T_29dd1_row2_col12 {\n",
       "  background-color: #6a8bef;\n",
       "  color: #f1f1f1;\n",
       "}\n",
       "#T_29dd1_row2_col13 {\n",
       "  background-color: #ee8669;\n",
       "  color: #f1f1f1;\n",
       "}\n",
       "#T_29dd1_row2_col14, #T_29dd1_row3_col2 {\n",
       "  background-color: #f6a385;\n",
       "  color: #000000;\n",
       "}\n",
       "#T_29dd1_row2_col15 {\n",
       "  background-color: #f59c7d;\n",
       "  color: #000000;\n",
       "}\n",
       "#T_29dd1_row2_col16 {\n",
       "  background-color: #d9dce1;\n",
       "  color: #000000;\n",
       "}\n",
       "#T_29dd1_row2_col17, #T_29dd1_row3_col7, #T_29dd1_row11_col4 {\n",
       "  background-color: #efcfbf;\n",
       "  color: #000000;\n",
       "}\n",
       "#T_29dd1_row2_col18, #T_29dd1_row18_col2 {\n",
       "  background-color: #bb1b2c;\n",
       "  color: #f1f1f1;\n",
       "}\n",
       "#T_29dd1_row3_col0, #T_29dd1_row7_col10, #T_29dd1_row13_col0, #T_29dd1_row14_col10 {\n",
       "  background-color: #506bda;\n",
       "  color: #f1f1f1;\n",
       "}\n",
       "#T_29dd1_row3_col6, #T_29dd1_row18_col3 {\n",
       "  background-color: #edd2c3;\n",
       "  color: #000000;\n",
       "}\n",
       "#T_29dd1_row3_col8 {\n",
       "  background-color: #a9c6fd;\n",
       "  color: #000000;\n",
       "}\n",
       "#T_29dd1_row3_col9 {\n",
       "  background-color: #5e7de7;\n",
       "  color: #f1f1f1;\n",
       "}\n",
       "#T_29dd1_row3_col11, #T_29dd1_row13_col8, #T_29dd1_row17_col11 {\n",
       "  background-color: #bfd3f6;\n",
       "  color: #000000;\n",
       "}\n",
       "#T_29dd1_row3_col12, #T_29dd1_row7_col0 {\n",
       "  background-color: #5d7ce6;\n",
       "  color: #f1f1f1;\n",
       "}\n",
       "#T_29dd1_row3_col13, #T_29dd1_row5_col7, #T_29dd1_row14_col11, #T_29dd1_row17_col4 {\n",
       "  background-color: #ead5c9;\n",
       "  color: #000000;\n",
       "}\n",
       "#T_29dd1_row3_col14, #T_29dd1_row3_col15, #T_29dd1_row7_col9, #T_29dd1_row13_col3, #T_29dd1_row16_col13 {\n",
       "  background-color: #d5dbe5;\n",
       "  color: #000000;\n",
       "}\n",
       "#T_29dd1_row3_col16, #T_29dd1_row7_col12 {\n",
       "  background-color: #81a4fb;\n",
       "  color: #f1f1f1;\n",
       "}\n",
       "#T_29dd1_row3_col18 {\n",
       "  background-color: #f7ad90;\n",
       "  color: #000000;\n",
       "}\n",
       "#T_29dd1_row4_col0, #T_29dd1_row6_col0 {\n",
       "  background-color: #445acc;\n",
       "  color: #f1f1f1;\n",
       "}\n",
       "#T_29dd1_row4_col1 {\n",
       "  background-color: #6384eb;\n",
       "  color: #f1f1f1;\n",
       "}\n",
       "#T_29dd1_row4_col3, #T_29dd1_row5_col6, #T_29dd1_row8_col4, #T_29dd1_row10_col12 {\n",
       "  background-color: #e2dad5;\n",
       "  color: #000000;\n",
       "}\n",
       "#T_29dd1_row4_col5, #T_29dd1_row6_col9, #T_29dd1_row10_col4, #T_29dd1_row16_col17 {\n",
       "  background-color: #9dbdff;\n",
       "  color: #000000;\n",
       "}\n",
       "#T_29dd1_row4_col6, #T_29dd1_row18_col14 {\n",
       "  background-color: #f39475;\n",
       "  color: #000000;\n",
       "}\n",
       "#T_29dd1_row4_col7, #T_29dd1_row14_col2 {\n",
       "  background-color: #f29072;\n",
       "  color: #f1f1f1;\n",
       "}\n",
       "#T_29dd1_row4_col8, #T_29dd1_row10_col18 {\n",
       "  background-color: #c4d5f3;\n",
       "  color: #000000;\n",
       "}\n",
       "#T_29dd1_row4_col10 {\n",
       "  background-color: #485fd1;\n",
       "  color: #f1f1f1;\n",
       "}\n",
       "#T_29dd1_row4_col11, #T_29dd1_row9_col4 {\n",
       "  background-color: #dddcdc;\n",
       "  color: #000000;\n",
       "}\n",
       "#T_29dd1_row4_col12 {\n",
       "  background-color: #5f7fe8;\n",
       "  color: #f1f1f1;\n",
       "}\n",
       "#T_29dd1_row4_col13 {\n",
       "  background-color: #d75445;\n",
       "  color: #f1f1f1;\n",
       "}\n",
       "#T_29dd1_row4_col15, #T_29dd1_row11_col15 {\n",
       "  background-color: #f7bca1;\n",
       "  color: #000000;\n",
       "}\n",
       "#T_29dd1_row4_col16, #T_29dd1_row12_col13, #T_29dd1_row14_col5, #T_29dd1_row15_col5 {\n",
       "  background-color: #adc9fd;\n",
       "  color: #000000;\n",
       "}\n",
       "#T_29dd1_row4_col17, #T_29dd1_row12_col16 {\n",
       "  background-color: #cedaeb;\n",
       "  color: #000000;\n",
       "}\n",
       "#T_29dd1_row4_col18 {\n",
       "  background-color: #df634e;\n",
       "  color: #f1f1f1;\n",
       "}\n",
       "#T_29dd1_row5_col0, #T_29dd1_row14_col1, #T_29dd1_row17_col12 {\n",
       "  background-color: #779af7;\n",
       "  color: #f1f1f1;\n",
       "}\n",
       "#T_29dd1_row5_col2, #T_29dd1_row15_col13 {\n",
       "  background-color: #f5c2aa;\n",
       "  color: #000000;\n",
       "}\n",
       "#T_29dd1_row5_col3, #T_29dd1_row11_col17 {\n",
       "  background-color: #b6cefa;\n",
       "  color: #000000;\n",
       "}\n",
       "#T_29dd1_row5_col4, #T_29dd1_row5_col14, #T_29dd1_row5_col15 {\n",
       "  background-color: #d8dce2;\n",
       "  color: #000000;\n",
       "}\n",
       "#T_29dd1_row5_col8, #T_29dd1_row6_col5, #T_29dd1_row10_col7, #T_29dd1_row17_col9 {\n",
       "  background-color: #a6c4fe;\n",
       "  color: #000000;\n",
       "}\n",
       "#T_29dd1_row5_col9, #T_29dd1_row17_col16 {\n",
       "  background-color: #8caffe;\n",
       "  color: #000000;\n",
       "}\n",
       "#T_29dd1_row5_col10, #T_29dd1_row15_col0 {\n",
       "  background-color: #7093f3;\n",
       "  color: #f1f1f1;\n",
       "}\n",
       "#T_29dd1_row5_col11, #T_29dd1_row12_col15, #T_29dd1_row13_col17 {\n",
       "  background-color: #c7d7f0;\n",
       "  color: #000000;\n",
       "}\n",
       "#T_29dd1_row5_col13, #T_29dd1_row9_col13, #T_29dd1_row10_col16 {\n",
       "  background-color: #cdd9ec;\n",
       "  color: #000000;\n",
       "}\n",
       "#T_29dd1_row5_col16, #T_29dd1_row8_col16, #T_29dd1_row15_col12 {\n",
       "  background-color: #8db0fe;\n",
       "  color: #000000;\n",
       "}\n",
       "#T_29dd1_row5_col17, #T_29dd1_row12_col14, #T_29dd1_row13_col16, #T_29dd1_row16_col1 {\n",
       "  background-color: #abc8fd;\n",
       "  color: #000000;\n",
       "}\n",
       "#T_29dd1_row5_col18, #T_29dd1_row14_col15 {\n",
       "  background-color: #f5c0a7;\n",
       "  color: #000000;\n",
       "}\n",
       "#T_29dd1_row6_col2 {\n",
       "  background-color: #d44e41;\n",
       "  color: #f1f1f1;\n",
       "}\n",
       "#T_29dd1_row6_col3, #T_29dd1_row8_col15, #T_29dd1_row12_col7 {\n",
       "  background-color: #ccd9ed;\n",
       "  color: #000000;\n",
       "}\n",
       "#T_29dd1_row6_col4, #T_29dd1_row10_col9 {\n",
       "  background-color: #f4987a;\n",
       "  color: #000000;\n",
       "}\n",
       "#T_29dd1_row6_col7 {\n",
       "  background-color: #f08b6e;\n",
       "  color: #f1f1f1;\n",
       "}\n",
       "#T_29dd1_row6_col8, #T_29dd1_row9_col14, #T_29dd1_row9_col17, #T_29dd1_row18_col9 {\n",
       "  background-color: #c0d4f5;\n",
       "  color: #000000;\n",
       "}\n",
       "#T_29dd1_row6_col10 {\n",
       "  background-color: #4257c9;\n",
       "  color: #f1f1f1;\n",
       "}\n",
       "#T_29dd1_row6_col11, #T_29dd1_row12_col0 {\n",
       "  background-color: #e9d5cb;\n",
       "  color: #000000;\n",
       "}\n",
       "#T_29dd1_row6_col12 {\n",
       "  background-color: #6e90f2;\n",
       "  color: #f1f1f1;\n",
       "}\n",
       "#T_29dd1_row6_col13, #T_29dd1_row7_col13 {\n",
       "  background-color: #f7b194;\n",
       "  color: #000000;\n",
       "}\n",
       "#T_29dd1_row6_col14, #T_29dd1_row14_col18 {\n",
       "  background-color: #ec7f63;\n",
       "  color: #f1f1f1;\n",
       "}\n",
       "#T_29dd1_row6_col15, #T_29dd1_row8_col2, #T_29dd1_row14_col7 {\n",
       "  background-color: #f7b093;\n",
       "  color: #000000;\n",
       "}\n",
       "#T_29dd1_row6_col16, #T_29dd1_row7_col16, #T_29dd1_row12_col1, #T_29dd1_row12_col10 {\n",
       "  background-color: #e6d7cf;\n",
       "  color: #000000;\n",
       "}\n",
       "#T_29dd1_row6_col17, #T_29dd1_row12_col6 {\n",
       "  background-color: #c6d6f1;\n",
       "  color: #000000;\n",
       "}\n",
       "#T_29dd1_row6_col18 {\n",
       "  background-color: #d55042;\n",
       "  color: #f1f1f1;\n",
       "}\n",
       "#T_29dd1_row7_col1 {\n",
       "  background-color: #6180e9;\n",
       "  color: #f1f1f1;\n",
       "}\n",
       "#T_29dd1_row7_col2, #T_29dd1_row18_col6 {\n",
       "  background-color: #d85646;\n",
       "  color: #f1f1f1;\n",
       "}\n",
       "#T_29dd1_row7_col3 {\n",
       "  background-color: #d6dce4;\n",
       "  color: #000000;\n",
       "}\n",
       "#T_29dd1_row7_col4, #T_29dd1_row18_col15 {\n",
       "  background-color: #f29274;\n",
       "  color: #f1f1f1;\n",
       "}\n",
       "#T_29dd1_row7_col5, #T_29dd1_row9_col8, #T_29dd1_row12_col11 {\n",
       "  background-color: #bad0f8;\n",
       "  color: #000000;\n",
       "}\n",
       "#T_29dd1_row7_col6, #T_29dd1_row18_col13 {\n",
       "  background-color: #ef886b;\n",
       "  color: #f1f1f1;\n",
       "}\n",
       "#T_29dd1_row7_col8, #T_29dd1_row14_col17 {\n",
       "  background-color: #b9d0f9;\n",
       "  color: #000000;\n",
       "}\n",
       "#T_29dd1_row7_col11, #T_29dd1_row8_col18, #T_29dd1_row11_col2, #T_29dd1_row17_col18 {\n",
       "  background-color: #f7a98b;\n",
       "  color: #000000;\n",
       "}\n",
       "#T_29dd1_row7_col14 {\n",
       "  background-color: #f7b89c;\n",
       "  color: #000000;\n",
       "}\n",
       "#T_29dd1_row7_col15, #T_29dd1_row10_col0, #T_29dd1_row14_col6 {\n",
       "  background-color: #e8765c;\n",
       "  color: #f1f1f1;\n",
       "}\n",
       "#T_29dd1_row7_col18 {\n",
       "  background-color: #dd5f4b;\n",
       "  color: #f1f1f1;\n",
       "}\n",
       "#T_29dd1_row8_col0 {\n",
       "  background-color: #4358cb;\n",
       "  color: #f1f1f1;\n",
       "}\n",
       "#T_29dd1_row8_col1, #T_29dd1_row17_col1 {\n",
       "  background-color: #9bbcff;\n",
       "  color: #000000;\n",
       "}\n",
       "#T_29dd1_row8_col5, #T_29dd1_row8_col10, #T_29dd1_row17_col10 {\n",
       "  background-color: #8badfd;\n",
       "  color: #000000;\n",
       "}\n",
       "#T_29dd1_row8_col7 {\n",
       "  background-color: #dbdcde;\n",
       "  color: #000000;\n",
       "}\n",
       "#T_29dd1_row8_col9 {\n",
       "  background-color: #9ebeff;\n",
       "  color: #000000;\n",
       "}\n",
       "#T_29dd1_row8_col11, #T_29dd1_row9_col1 {\n",
       "  background-color: #b7cff9;\n",
       "  color: #000000;\n",
       "}\n",
       "#T_29dd1_row8_col12 {\n",
       "  background-color: #7396f5;\n",
       "  color: #f1f1f1;\n",
       "}\n",
       "#T_29dd1_row8_col13, #T_29dd1_row9_col12, #T_29dd1_row12_col9, #T_29dd1_row13_col11, #T_29dd1_row14_col16 {\n",
       "  background-color: #d7dce3;\n",
       "  color: #000000;\n",
       "}\n",
       "#T_29dd1_row8_col14, #T_29dd1_row16_col0, #T_29dd1_row18_col5 {\n",
       "  background-color: #cbd8ee;\n",
       "  color: #000000;\n",
       "}\n",
       "#T_29dd1_row8_col17, #T_29dd1_row17_col8 {\n",
       "  background-color: #da5a49;\n",
       "  color: #f1f1f1;\n",
       "}\n",
       "#T_29dd1_row9_col0, #T_29dd1_row9_col7 {\n",
       "  background-color: #f4c5ad;\n",
       "  color: #000000;\n",
       "}\n",
       "#T_29dd1_row9_col2, #T_29dd1_row11_col6, #T_29dd1_row15_col14 {\n",
       "  background-color: #f5c1a9;\n",
       "  color: #000000;\n",
       "}\n",
       "#T_29dd1_row9_col3 {\n",
       "  background-color: #7ea1fa;\n",
       "  color: #f1f1f1;\n",
       "}\n",
       "#T_29dd1_row9_col5, #T_29dd1_row10_col14, #T_29dd1_row11_col1, #T_29dd1_row13_col9, #T_29dd1_row17_col5 {\n",
       "  background-color: #92b4fe;\n",
       "  color: #000000;\n",
       "}\n",
       "#T_29dd1_row9_col10, #T_29dd1_row11_col7 {\n",
       "  background-color: #f39778;\n",
       "  color: #000000;\n",
       "}\n",
       "#T_29dd1_row9_col11 {\n",
       "  background-color: #e0dbd8;\n",
       "  color: #000000;\n",
       "}\n",
       "#T_29dd1_row9_col15, #T_29dd1_row11_col13 {\n",
       "  background-color: #e5d8d1;\n",
       "  color: #000000;\n",
       "}\n",
       "#T_29dd1_row9_col16 {\n",
       "  background-color: #ecd3c5;\n",
       "  color: #000000;\n",
       "}\n",
       "#T_29dd1_row9_col18, #T_29dd1_row13_col15 {\n",
       "  background-color: #f5c4ac;\n",
       "  color: #000000;\n",
       "}\n",
       "#T_29dd1_row10_col1, #T_29dd1_row18_col17 {\n",
       "  background-color: #f0cdbb;\n",
       "  color: #000000;\n",
       "}\n",
       "#T_29dd1_row10_col2, #T_29dd1_row14_col3 {\n",
       "  background-color: #bcd2f7;\n",
       "  color: #000000;\n",
       "}\n",
       "#T_29dd1_row10_col3 {\n",
       "  background-color: #536edd;\n",
       "  color: #f1f1f1;\n",
       "}\n",
       "#T_29dd1_row10_col5 {\n",
       "  background-color: #6f92f3;\n",
       "  color: #f1f1f1;\n",
       "}\n",
       "#T_29dd1_row10_col6, #T_29dd1_row17_col3 {\n",
       "  background-color: #a1c0ff;\n",
       "  color: #000000;\n",
       "}\n",
       "#T_29dd1_row10_col8, #T_29dd1_row10_col17 {\n",
       "  background-color: #a3c2fe;\n",
       "  color: #000000;\n",
       "}\n",
       "#T_29dd1_row10_col11, #T_29dd1_row11_col5 {\n",
       "  background-color: #aac7fd;\n",
       "  color: #000000;\n",
       "}\n",
       "#T_29dd1_row10_col13, #T_29dd1_row12_col17 {\n",
       "  background-color: #98b9ff;\n",
       "  color: #000000;\n",
       "}\n",
       "#T_29dd1_row11_col3, #T_29dd1_row12_col4 {\n",
       "  background-color: #b5cdfa;\n",
       "  color: #000000;\n",
       "}\n",
       "#T_29dd1_row11_col8 {\n",
       "  background-color: #afcafc;\n",
       "  color: #000000;\n",
       "}\n",
       "#T_29dd1_row11_col14, #T_29dd1_row16_col15 {\n",
       "  background-color: #f1ccb8;\n",
       "  color: #000000;\n",
       "}\n",
       "#T_29dd1_row11_col16, #T_29dd1_row18_col16 {\n",
       "  background-color: #dadce0;\n",
       "  color: #000000;\n",
       "}\n",
       "#T_29dd1_row11_col18 {\n",
       "  background-color: #f59f80;\n",
       "  color: #000000;\n",
       "}\n",
       "#T_29dd1_row12_col2, #T_29dd1_row17_col14 {\n",
       "  background-color: #d1dae9;\n",
       "  color: #000000;\n",
       "}\n",
       "#T_29dd1_row12_col3 {\n",
       "  background-color: #7da0f9;\n",
       "  color: #f1f1f1;\n",
       "}\n",
       "#T_29dd1_row12_col5 {\n",
       "  background-color: #3f53c6;\n",
       "  color: #f1f1f1;\n",
       "}\n",
       "#T_29dd1_row12_col8 {\n",
       "  background-color: #96b7ff;\n",
       "  color: #000000;\n",
       "}\n",
       "#T_29dd1_row12_col18, #T_29dd1_row17_col15 {\n",
       "  background-color: #d3dbe7;\n",
       "  color: #000000;\n",
       "}\n",
       "#T_29dd1_row13_col1 {\n",
       "  background-color: #7295f4;\n",
       "  color: #f1f1f1;\n",
       "}\n",
       "#T_29dd1_row13_col2, #T_29dd1_row13_col18 {\n",
       "  background-color: #e9785d;\n",
       "  color: #f1f1f1;\n",
       "}\n",
       "#T_29dd1_row13_col5 {\n",
       "  background-color: #97b8ff;\n",
       "  color: #000000;\n",
       "}\n",
       "#T_29dd1_row13_col6 {\n",
       "  background-color: #f7a889;\n",
       "  color: #000000;\n",
       "}\n",
       "#T_29dd1_row13_col7 {\n",
       "  background-color: #f7aa8c;\n",
       "  color: #000000;\n",
       "}\n",
       "#T_29dd1_row13_col10 {\n",
       "  background-color: #516ddb;\n",
       "  color: #f1f1f1;\n",
       "}\n",
       "#T_29dd1_row13_col14 {\n",
       "  background-color: #eed0c0;\n",
       "  color: #000000;\n",
       "}\n",
       "#T_29dd1_row14_col4, #T_29dd1_row15_col11 {\n",
       "  background-color: #f4c6af;\n",
       "  color: #000000;\n",
       "}\n",
       "#T_29dd1_row14_col8, #T_29dd1_row15_col8 {\n",
       "  background-color: #b2ccfb;\n",
       "  color: #000000;\n",
       "}\n",
       "#T_29dd1_row14_col9 {\n",
       "  background-color: #84a7fc;\n",
       "  color: #f1f1f1;\n",
       "}\n",
       "#T_29dd1_row14_col12, #T_29dd1_row18_col12 {\n",
       "  background-color: #6788ee;\n",
       "  color: #f1f1f1;\n",
       "}\n",
       "#T_29dd1_row14_col13 {\n",
       "  background-color: #efcebd;\n",
       "  color: #000000;\n",
       "}\n",
       "#T_29dd1_row15_col1 {\n",
       "  background-color: #7699f6;\n",
       "  color: #f1f1f1;\n",
       "}\n",
       "#T_29dd1_row15_col2 {\n",
       "  background-color: #f08a6c;\n",
       "  color: #f1f1f1;\n",
       "}\n",
       "#T_29dd1_row15_col3, #T_29dd1_row15_col17 {\n",
       "  background-color: #bbd1f8;\n",
       "  color: #000000;\n",
       "}\n",
       "#T_29dd1_row15_col4 {\n",
       "  background-color: #f7b497;\n",
       "  color: #000000;\n",
       "}\n",
       "#T_29dd1_row15_col6 {\n",
       "  background-color: #f6a586;\n",
       "  color: #000000;\n",
       "}\n",
       "#T_29dd1_row15_col7 {\n",
       "  background-color: #e46e56;\n",
       "  color: #f1f1f1;\n",
       "}\n",
       "#T_29dd1_row15_col9 {\n",
       "  background-color: #bed2f6;\n",
       "  color: #000000;\n",
       "}\n",
       "#T_29dd1_row15_col10 {\n",
       "  background-color: #6282ea;\n",
       "  color: #f1f1f1;\n",
       "}\n",
       "#T_29dd1_row15_col16, #T_29dd1_row17_col13 {\n",
       "  background-color: #dedcdb;\n",
       "  color: #000000;\n",
       "}\n",
       "#T_29dd1_row15_col18 {\n",
       "  background-color: #eb7d62;\n",
       "  color: #f1f1f1;\n",
       "}\n",
       "#T_29dd1_row16_col2, #T_29dd1_row16_col7 {\n",
       "  background-color: #f6bda2;\n",
       "  color: #000000;\n",
       "}\n",
       "#T_29dd1_row16_col3 {\n",
       "  background-color: #8fb1fe;\n",
       "  color: #000000;\n",
       "}\n",
       "#T_29dd1_row16_col4 {\n",
       "  background-color: #dcdddd;\n",
       "  color: #000000;\n",
       "}\n",
       "#T_29dd1_row16_col5 {\n",
       "  background-color: #82a6fb;\n",
       "  color: #f1f1f1;\n",
       "}\n",
       "#T_29dd1_row16_col6 {\n",
       "  background-color: #f7ba9f;\n",
       "  color: #000000;\n",
       "}\n",
       "#T_29dd1_row16_col9, #T_29dd1_row16_col11 {\n",
       "  background-color: #e7d7ce;\n",
       "  color: #000000;\n",
       "}\n",
       "#T_29dd1_row16_col18 {\n",
       "  background-color: #f7b99e;\n",
       "  color: #000000;\n",
       "}\n",
       "#T_29dd1_row17_col2 {\n",
       "  background-color: #f7af91;\n",
       "  color: #000000;\n",
       "}\n",
       "#T_29dd1_row17_col6 {\n",
       "  background-color: #e8d6cc;\n",
       "  color: #000000;\n",
       "}\n",
       "#T_29dd1_row18_col4 {\n",
       "  background-color: #e36c55;\n",
       "  color: #f1f1f1;\n",
       "}\n",
       "#T_29dd1_row18_col7 {\n",
       "  background-color: #e16751;\n",
       "  color: #f1f1f1;\n",
       "}\n",
       "#T_29dd1_row18_col10 {\n",
       "  background-color: #5470de;\n",
       "  color: #f1f1f1;\n",
       "}\n",
       "#T_29dd1_row18_col11 {\n",
       "  background-color: #f6bfa6;\n",
       "  color: #000000;\n",
       "}\n",
       "</style>\n",
       "<table id=\"T_29dd1\">\n",
       "  <thead>\n",
       "    <tr>\n",
       "      <th class=\"blank level0\" >&nbsp;</th>\n",
       "      <th id=\"T_29dd1_level0_col0\" class=\"col_heading level0 col0\" >idade</th>\n",
       "      <th id=\"T_29dd1_level0_col1\" class=\"col_heading level0 col1\" >cg</th>\n",
       "      <th id=\"T_29dd1_level0_col2\" class=\"col_heading level0 col2\" >inde</th>\n",
       "      <th id=\"T_29dd1_level0_col3\" class=\"col_heading level0 col3\" >iaa</th>\n",
       "      <th id=\"T_29dd1_level0_col4\" class=\"col_heading level0 col4\" >ieg</th>\n",
       "      <th id=\"T_29dd1_level0_col5\" class=\"col_heading level0 col5\" >ips</th>\n",
       "      <th id=\"T_29dd1_level0_col6\" class=\"col_heading level0 col6\" >ida</th>\n",
       "      <th id=\"T_29dd1_level0_col7\" class=\"col_heading level0 col7\" >ipv</th>\n",
       "      <th id=\"T_29dd1_level0_col8\" class=\"col_heading level0 col8\" >ian</th>\n",
       "      <th id=\"T_29dd1_level0_col9\" class=\"col_heading level0 col9\" >ipp</th>\n",
       "      <th id=\"T_29dd1_level0_col10\" class=\"col_heading level0 col10\" >qtd_aval</th>\n",
       "      <th id=\"T_29dd1_level0_col11\" class=\"col_heading level0 col11\" >ponto_virada_encoded</th>\n",
       "      <th id=\"T_29dd1_level0_col12\" class=\"col_heading level0 col12\" >anos_pm</th>\n",
       "      <th id=\"T_29dd1_level0_col13\" class=\"col_heading level0 col13\" >destaque_ieg_resultado_encoded</th>\n",
       "      <th id=\"T_29dd1_level0_col14\" class=\"col_heading level0 col14\" >destaque_ida_resultado_encoded</th>\n",
       "      <th id=\"T_29dd1_level0_col15\" class=\"col_heading level0 col15\" >destaque_ipv_resultado_encoded</th>\n",
       "      <th id=\"T_29dd1_level0_col16\" class=\"col_heading level0 col16\" >rec_sintese</th>\n",
       "      <th id=\"T_29dd1_level0_col17\" class=\"col_heading level0 col17\" >diff_fase</th>\n",
       "      <th id=\"T_29dd1_level0_col18\" class=\"col_heading level0 col18\" >cg_normalized_inverted</th>\n",
       "    </tr>\n",
       "  </thead>\n",
       "  <tbody>\n",
       "    <tr>\n",
       "      <th id=\"T_29dd1_level0_row0\" class=\"row_heading level0 row0\" >idade</th>\n",
       "      <td id=\"T_29dd1_row0_col0\" class=\"data row0 col0\" >1.000000</td>\n",
       "      <td id=\"T_29dd1_row0_col1\" class=\"data row0 col1\" >0.359791</td>\n",
       "      <td id=\"T_29dd1_row0_col2\" class=\"data row0 col2\" >-0.360518</td>\n",
       "      <td id=\"T_29dd1_row0_col3\" class=\"data row0 col3\" >-0.264404</td>\n",
       "      <td id=\"T_29dd1_row0_col4\" class=\"data row0 col4\" >-0.320758</td>\n",
       "      <td id=\"T_29dd1_row0_col5\" class=\"data row0 col5\" >-0.104236</td>\n",
       "      <td id=\"T_29dd1_row0_col6\" class=\"data row0 col6\" >-0.318002</td>\n",
       "      <td id=\"T_29dd1_row0_col7\" class=\"data row0 col7\" >-0.210611</td>\n",
       "      <td id=\"T_29dd1_row0_col8\" class=\"data row0 col8\" >-0.324827</td>\n",
       "      <td id=\"T_29dd1_row0_col9\" class=\"data row0 col9\" >0.488370</td>\n",
       "      <td id=\"T_29dd1_row0_col10\" class=\"data row0 col10\" >0.770615</td>\n",
       "      <td id=\"T_29dd1_row0_col11\" class=\"data row0 col11\" >-0.006744</td>\n",
       "      <td id=\"T_29dd1_row0_col12\" class=\"data row0 col12\" >0.386114</td>\n",
       "      <td id=\"T_29dd1_row0_col13\" class=\"data row0 col13\" >-0.265611</td>\n",
       "      <td id=\"T_29dd1_row0_col14\" class=\"data row0 col14\" >-0.234062</td>\n",
       "      <td id=\"T_29dd1_row0_col15\" class=\"data row0 col15\" >-0.131788</td>\n",
       "      <td id=\"T_29dd1_row0_col16\" class=\"data row0 col16\" >0.228327</td>\n",
       "      <td id=\"T_29dd1_row0_col17\" class=\"data row0 col17\" >-0.363567</td>\n",
       "      <td id=\"T_29dd1_row0_col18\" class=\"data row0 col18\" >-0.359791</td>\n",
       "    </tr>\n",
       "    <tr>\n",
       "      <th id=\"T_29dd1_level0_row1\" class=\"row_heading level0 row1\" >cg</th>\n",
       "      <td id=\"T_29dd1_row1_col0\" class=\"data row1 col0\" >0.359791</td>\n",
       "      <td id=\"T_29dd1_row1_col1\" class=\"data row1 col1\" >1.000000</td>\n",
       "      <td id=\"T_29dd1_row1_col2\" class=\"data row1 col2\" >-0.956312</td>\n",
       "      <td id=\"T_29dd1_row1_col3\" class=\"data row1 col3\" >-0.396569</td>\n",
       "      <td id=\"T_29dd1_row1_col4\" class=\"data row1 col4\" >-0.741294</td>\n",
       "      <td id=\"T_29dd1_row1_col5\" class=\"data row1 col5\" >-0.276923</td>\n",
       "      <td id=\"T_29dd1_row1_col6\" class=\"data row1 col6\" >-0.807916</td>\n",
       "      <td id=\"T_29dd1_row1_col7\" class=\"data row1 col7\" >-0.757219</td>\n",
       "      <td id=\"T_29dd1_row1_col8\" class=\"data row1 col8\" >-0.421310</td>\n",
       "      <td id=\"T_29dd1_row1_col9\" class=\"data row1 col9\" >-0.251662</td>\n",
       "      <td id=\"T_29dd1_row1_col10\" class=\"data row1 col10\" >0.178120</td>\n",
       "      <td id=\"T_29dd1_row1_col11\" class=\"data row1 col11\" >-0.474279</td>\n",
       "      <td id=\"T_29dd1_row1_col12\" class=\"data row1 col12\" >0.073761</td>\n",
       "      <td id=\"T_29dd1_row1_col13\" class=\"data row1 col13\" >-0.652172</td>\n",
       "      <td id=\"T_29dd1_row1_col14\" class=\"data row1 col14\" >-0.619161</td>\n",
       "      <td id=\"T_29dd1_row1_col15\" class=\"data row1 col15\" >-0.625367</td>\n",
       "      <td id=\"T_29dd1_row1_col16\" class=\"data row1 col16\" >-0.325611</td>\n",
       "      <td id=\"T_29dd1_row1_col17\" class=\"data row1 col17\" >-0.417172</td>\n",
       "      <td id=\"T_29dd1_row1_col18\" class=\"data row1 col18\" >-1.000000</td>\n",
       "    </tr>\n",
       "    <tr>\n",
       "      <th id=\"T_29dd1_level0_row2\" class=\"row_heading level0 row2\" >inde</th>\n",
       "      <td id=\"T_29dd1_row2_col0\" class=\"data row2 col0\" >-0.360518</td>\n",
       "      <td id=\"T_29dd1_row2_col1\" class=\"data row2 col1\" >-0.956312</td>\n",
       "      <td id=\"T_29dd1_row2_col2\" class=\"data row2 col2\" >1.000000</td>\n",
       "      <td id=\"T_29dd1_row2_col3\" class=\"data row2 col3\" >0.463363</td>\n",
       "      <td id=\"T_29dd1_row2_col4\" class=\"data row2 col4\" >0.805282</td>\n",
       "      <td id=\"T_29dd1_row2_col5\" class=\"data row2 col5\" >0.274220</td>\n",
       "      <td id=\"T_29dd1_row2_col6\" class=\"data row2 col6\" >0.820710</td>\n",
       "      <td id=\"T_29dd1_row2_col7\" class=\"data row2 col7\" >0.791634</td>\n",
       "      <td id=\"T_29dd1_row2_col8\" class=\"data row2 col8\" >0.394684</td>\n",
       "      <td id=\"T_29dd1_row2_col9\" class=\"data row2 col9\" >0.285240</td>\n",
       "      <td id=\"T_29dd1_row2_col10\" class=\"data row2 col10\" >-0.196463</td>\n",
       "      <td id=\"T_29dd1_row2_col11\" class=\"data row2 col11\" >0.428505</td>\n",
       "      <td id=\"T_29dd1_row2_col12\" class=\"data row2 col12\" >-0.066108</td>\n",
       "      <td id=\"T_29dd1_row2_col13\" class=\"data row2 col13\" >0.660809</td>\n",
       "      <td id=\"T_29dd1_row2_col14\" class=\"data row2 col14\" >0.551292</td>\n",
       "      <td id=\"T_29dd1_row2_col15\" class=\"data row2 col15\" >0.584382</td>\n",
       "      <td id=\"T_29dd1_row2_col16\" class=\"data row2 col16\" >0.317259</td>\n",
       "      <td id=\"T_29dd1_row2_col17\" class=\"data row2 col17\" >0.402606</td>\n",
       "      <td id=\"T_29dd1_row2_col18\" class=\"data row2 col18\" >0.956312</td>\n",
       "    </tr>\n",
       "    <tr>\n",
       "      <th id=\"T_29dd1_level0_row3\" class=\"row_heading level0 row3\" >iaa</th>\n",
       "      <td id=\"T_29dd1_row3_col0\" class=\"data row3 col0\" >-0.264404</td>\n",
       "      <td id=\"T_29dd1_row3_col1\" class=\"data row3 col1\" >-0.396569</td>\n",
       "      <td id=\"T_29dd1_row3_col2\" class=\"data row3 col2\" >0.463363</td>\n",
       "      <td id=\"T_29dd1_row3_col3\" class=\"data row3 col3\" >1.000000</td>\n",
       "      <td id=\"T_29dd1_row3_col4\" class=\"data row3 col4\" >0.330733</td>\n",
       "      <td id=\"T_29dd1_row3_col5\" class=\"data row3 col5\" >0.118804</td>\n",
       "      <td id=\"T_29dd1_row3_col6\" class=\"data row3 col6\" >0.217989</td>\n",
       "      <td id=\"T_29dd1_row3_col7\" class=\"data row3 col7\" >0.263990</td>\n",
       "      <td id=\"T_29dd1_row3_col8\" class=\"data row3 col8\" >0.048871</td>\n",
       "      <td id=\"T_29dd1_row3_col9\" class=\"data row3 col9\" >-0.106104</td>\n",
       "      <td id=\"T_29dd1_row3_col10\" class=\"data row3 col10\" >-0.284307</td>\n",
       "      <td id=\"T_29dd1_row3_col11\" class=\"data row3 col11\" >0.112605</td>\n",
       "      <td id=\"T_29dd1_row3_col12\" class=\"data row3 col12\" >-0.110769</td>\n",
       "      <td id=\"T_29dd1_row3_col13\" class=\"data row3 col13\" >0.259722</td>\n",
       "      <td id=\"T_29dd1_row3_col14\" class=\"data row3 col14\" >0.145692</td>\n",
       "      <td id=\"T_29dd1_row3_col15\" class=\"data row3 col15\" >0.142289</td>\n",
       "      <td id=\"T_29dd1_row3_col16\" class=\"data row3 col16\" >-0.040211</td>\n",
       "      <td id=\"T_29dd1_row3_col17\" class=\"data row3 col17\" >0.032574</td>\n",
       "      <td id=\"T_29dd1_row3_col18\" class=\"data row3 col18\" >0.396569</td>\n",
       "    </tr>\n",
       "    <tr>\n",
       "      <th id=\"T_29dd1_level0_row4\" class=\"row_heading level0 row4\" >ieg</th>\n",
       "      <td id=\"T_29dd1_row4_col0\" class=\"data row4 col0\" >-0.320758</td>\n",
       "      <td id=\"T_29dd1_row4_col1\" class=\"data row4 col1\" >-0.741294</td>\n",
       "      <td id=\"T_29dd1_row4_col2\" class=\"data row4 col2\" >0.805282</td>\n",
       "      <td id=\"T_29dd1_row4_col3\" class=\"data row4 col3\" >0.330733</td>\n",
       "      <td id=\"T_29dd1_row4_col4\" class=\"data row4 col4\" >1.000000</td>\n",
       "      <td id=\"T_29dd1_row4_col5\" class=\"data row4 col5\" >0.098460</td>\n",
       "      <td id=\"T_29dd1_row4_col6\" class=\"data row4 col6\" >0.570141</td>\n",
       "      <td id=\"T_29dd1_row4_col7\" class=\"data row4 col7\" >0.595315</td>\n",
       "      <td id=\"T_29dd1_row4_col8\" class=\"data row4 col8\" >0.163949</td>\n",
       "      <td id=\"T_29dd1_row4_col9\" class=\"data row4 col9\" >0.136132</td>\n",
       "      <td id=\"T_29dd1_row4_col10\" class=\"data row4 col10\" >-0.225718</td>\n",
       "      <td id=\"T_29dd1_row4_col11\" class=\"data row4 col11\" >0.266648</td>\n",
       "      <td id=\"T_29dd1_row4_col12\" class=\"data row4 col12\" >-0.103558</td>\n",
       "      <td id=\"T_29dd1_row4_col13\" class=\"data row4 col13\" >0.827673</td>\n",
       "      <td id=\"T_29dd1_row4_col14\" class=\"data row4 col14\" >0.337453</td>\n",
       "      <td id=\"T_29dd1_row4_col15\" class=\"data row4 col15\" >0.438571</td>\n",
       "      <td id=\"T_29dd1_row4_col16\" class=\"data row4 col16\" >0.127216</td>\n",
       "      <td id=\"T_29dd1_row4_col17\" class=\"data row4 col17\" >0.217780</td>\n",
       "      <td id=\"T_29dd1_row4_col18\" class=\"data row4 col18\" >0.741294</td>\n",
       "    </tr>\n",
       "    <tr>\n",
       "      <th id=\"T_29dd1_level0_row5\" class=\"row_heading level0 row5\" >ips</th>\n",
       "      <td id=\"T_29dd1_row5_col0\" class=\"data row5 col0\" >-0.104236</td>\n",
       "      <td id=\"T_29dd1_row5_col1\" class=\"data row5 col1\" >-0.276923</td>\n",
       "      <td id=\"T_29dd1_row5_col2\" class=\"data row5 col2\" >0.274220</td>\n",
       "      <td id=\"T_29dd1_row5_col3\" class=\"data row5 col3\" >0.118804</td>\n",
       "      <td id=\"T_29dd1_row5_col4\" class=\"data row5 col4\" >0.098460</td>\n",
       "      <td id=\"T_29dd1_row5_col5\" class=\"data row5 col5\" >1.000000</td>\n",
       "      <td id=\"T_29dd1_row5_col6\" class=\"data row5 col6\" >0.137056</td>\n",
       "      <td id=\"T_29dd1_row5_col7\" class=\"data row5 col7\" >0.211818</td>\n",
       "      <td id=\"T_29dd1_row5_col8\" class=\"data row5 col8\" >0.035888</td>\n",
       "      <td id=\"T_29dd1_row5_col9\" class=\"data row5 col9\" >0.058641</td>\n",
       "      <td id=\"T_29dd1_row5_col10\" class=\"data row5 col10\" >-0.066487</td>\n",
       "      <td id=\"T_29dd1_row5_col11\" class=\"data row5 col11\" >0.149198</td>\n",
       "      <td id=\"T_29dd1_row5_col12\" class=\"data row5 col12\" >-0.251987</td>\n",
       "      <td id=\"T_29dd1_row5_col13\" class=\"data row5 col13\" >0.077672</td>\n",
       "      <td id=\"T_29dd1_row5_col14\" class=\"data row5 col14\" >0.159034</td>\n",
       "      <td id=\"T_29dd1_row5_col15\" class=\"data row5 col15\" >0.158868</td>\n",
       "      <td id=\"T_29dd1_row5_col16\" class=\"data row5 col16\" >0.006076</td>\n",
       "      <td id=\"T_29dd1_row5_col17\" class=\"data row5 col17\" >0.060193</td>\n",
       "      <td id=\"T_29dd1_row5_col18\" class=\"data row5 col18\" >0.276923</td>\n",
       "    </tr>\n",
       "    <tr>\n",
       "      <th id=\"T_29dd1_level0_row6\" class=\"row_heading level0 row6\" >ida</th>\n",
       "      <td id=\"T_29dd1_row6_col0\" class=\"data row6 col0\" >-0.318002</td>\n",
       "      <td id=\"T_29dd1_row6_col1\" class=\"data row6 col1\" >-0.807916</td>\n",
       "      <td id=\"T_29dd1_row6_col2\" class=\"data row6 col2\" >0.820710</td>\n",
       "      <td id=\"T_29dd1_row6_col3\" class=\"data row6 col3\" >0.217989</td>\n",
       "      <td id=\"T_29dd1_row6_col4\" class=\"data row6 col4\" >0.570141</td>\n",
       "      <td id=\"T_29dd1_row6_col5\" class=\"data row6 col5\" >0.137056</td>\n",
       "      <td id=\"T_29dd1_row6_col6\" class=\"data row6 col6\" >1.000000</td>\n",
       "      <td id=\"T_29dd1_row6_col7\" class=\"data row6 col7\" >0.622190</td>\n",
       "      <td id=\"T_29dd1_row6_col8\" class=\"data row6 col8\" >0.148094</td>\n",
       "      <td id=\"T_29dd1_row6_col9\" class=\"data row6 col9\" >0.116916</td>\n",
       "      <td id=\"T_29dd1_row6_col10\" class=\"data row6 col10\" >-0.252861</td>\n",
       "      <td id=\"T_29dd1_row6_col11\" class=\"data row6 col11\" >0.337622</td>\n",
       "      <td id=\"T_29dd1_row6_col12\" class=\"data row6 col12\" >-0.048272</td>\n",
       "      <td id=\"T_29dd1_row6_col13\" class=\"data row6 col13\" >0.478871</td>\n",
       "      <td id=\"T_29dd1_row6_col14\" class=\"data row6 col14\" >0.692144</td>\n",
       "      <td id=\"T_29dd1_row6_col15\" class=\"data row6 col15\" >0.492725</td>\n",
       "      <td id=\"T_29dd1_row6_col16\" class=\"data row6 col16\" >0.385585</td>\n",
       "      <td id=\"T_29dd1_row6_col17\" class=\"data row6 col17\" >0.180582</td>\n",
       "      <td id=\"T_29dd1_row6_col18\" class=\"data row6 col18\" >0.807916</td>\n",
       "    </tr>\n",
       "    <tr>\n",
       "      <th id=\"T_29dd1_level0_row7\" class=\"row_heading level0 row7\" >ipv</th>\n",
       "      <td id=\"T_29dd1_row7_col0\" class=\"data row7 col0\" >-0.210611</td>\n",
       "      <td id=\"T_29dd1_row7_col1\" class=\"data row7 col1\" >-0.757219</td>\n",
       "      <td id=\"T_29dd1_row7_col2\" class=\"data row7 col2\" >0.791634</td>\n",
       "      <td id=\"T_29dd1_row7_col3\" class=\"data row7 col3\" >0.263990</td>\n",
       "      <td id=\"T_29dd1_row7_col4\" class=\"data row7 col4\" >0.595315</td>\n",
       "      <td id=\"T_29dd1_row7_col5\" class=\"data row7 col5\" >0.211818</td>\n",
       "      <td id=\"T_29dd1_row7_col6\" class=\"data row7 col6\" >0.622190</td>\n",
       "      <td id=\"T_29dd1_row7_col7\" class=\"data row7 col7\" >1.000000</td>\n",
       "      <td id=\"T_29dd1_row7_col8\" class=\"data row7 col8\" >0.113478</td>\n",
       "      <td id=\"T_29dd1_row7_col9\" class=\"data row7 col9\" >0.337496</td>\n",
       "      <td id=\"T_29dd1_row7_col10\" class=\"data row7 col10\" >-0.190860</td>\n",
       "      <td id=\"T_29dd1_row7_col11\" class=\"data row7 col11\" >0.568919</td>\n",
       "      <td id=\"T_29dd1_row7_col12\" class=\"data row7 col12\" >0.016995</td>\n",
       "      <td id=\"T_29dd1_row7_col13\" class=\"data row7 col13\" >0.481471</td>\n",
       "      <td id=\"T_29dd1_row7_col14\" class=\"data row7 col14\" >0.456455</td>\n",
       "      <td id=\"T_29dd1_row7_col15\" class=\"data row7 col15\" >0.726575</td>\n",
       "      <td id=\"T_29dd1_row7_col16\" class=\"data row7 col16\" >0.387259</td>\n",
       "      <td id=\"T_29dd1_row7_col17\" class=\"data row7 col17\" >0.172207</td>\n",
       "      <td id=\"T_29dd1_row7_col18\" class=\"data row7 col18\" >0.757219</td>\n",
       "    </tr>\n",
       "    <tr>\n",
       "      <th id=\"T_29dd1_level0_row8\" class=\"row_heading level0 row8\" >ian</th>\n",
       "      <td id=\"T_29dd1_row8_col0\" class=\"data row8 col0\" >-0.324827</td>\n",
       "      <td id=\"T_29dd1_row8_col1\" class=\"data row8 col1\" >-0.421310</td>\n",
       "      <td id=\"T_29dd1_row8_col2\" class=\"data row8 col2\" >0.394684</td>\n",
       "      <td id=\"T_29dd1_row8_col3\" class=\"data row8 col3\" >0.048871</td>\n",
       "      <td id=\"T_29dd1_row8_col4\" class=\"data row8 col4\" >0.163949</td>\n",
       "      <td id=\"T_29dd1_row8_col5\" class=\"data row8 col5\" >0.035888</td>\n",
       "      <td id=\"T_29dd1_row8_col6\" class=\"data row8 col6\" >0.148094</td>\n",
       "      <td id=\"T_29dd1_row8_col7\" class=\"data row8 col7\" >0.113478</td>\n",
       "      <td id=\"T_29dd1_row8_col8\" class=\"data row8 col8\" >1.000000</td>\n",
       "      <td id=\"T_29dd1_row8_col9\" class=\"data row8 col9\" >0.120675</td>\n",
       "      <td id=\"T_29dd1_row8_col10\" class=\"data row8 col10\" >0.026875</td>\n",
       "      <td id=\"T_29dd1_row8_col11\" class=\"data row8 col11\" >0.074775</td>\n",
       "      <td id=\"T_29dd1_row8_col12\" class=\"data row8 col12\" >-0.031090</td>\n",
       "      <td id=\"T_29dd1_row8_col13\" class=\"data row8 col13\" >0.139518</td>\n",
       "      <td id=\"T_29dd1_row8_col14\" class=\"data row8 col14\" >0.084545</td>\n",
       "      <td id=\"T_29dd1_row8_col15\" class=\"data row8 col15\" >0.087452</td>\n",
       "      <td id=\"T_29dd1_row8_col16\" class=\"data row8 col16\" >0.008158</td>\n",
       "      <td id=\"T_29dd1_row8_col17\" class=\"data row8 col17\" >0.838126</td>\n",
       "      <td id=\"T_29dd1_row8_col18\" class=\"data row8 col18\" >0.421310</td>\n",
       "    </tr>\n",
       "    <tr>\n",
       "      <th id=\"T_29dd1_level0_row9\" class=\"row_heading level0 row9\" >ipp</th>\n",
       "      <td id=\"T_29dd1_row9_col0\" class=\"data row9 col0\" >0.488370</td>\n",
       "      <td id=\"T_29dd1_row9_col1\" class=\"data row9 col1\" >-0.251662</td>\n",
       "      <td id=\"T_29dd1_row9_col2\" class=\"data row9 col2\" >0.285240</td>\n",
       "      <td id=\"T_29dd1_row9_col3\" class=\"data row9 col3\" >-0.106104</td>\n",
       "      <td id=\"T_29dd1_row9_col4\" class=\"data row9 col4\" >0.136132</td>\n",
       "      <td id=\"T_29dd1_row9_col5\" class=\"data row9 col5\" >0.058641</td>\n",
       "      <td id=\"T_29dd1_row9_col6\" class=\"data row9 col6\" >0.116916</td>\n",
       "      <td id=\"T_29dd1_row9_col7\" class=\"data row9 col7\" >0.337496</td>\n",
       "      <td id=\"T_29dd1_row9_col8\" class=\"data row9 col8\" >0.120675</td>\n",
       "      <td id=\"T_29dd1_row9_col9\" class=\"data row9 col9\" >1.000000</td>\n",
       "      <td id=\"T_29dd1_row9_col10\" class=\"data row9 col10\" >0.687126</td>\n",
       "      <td id=\"T_29dd1_row9_col11\" class=\"data row9 col11\" >0.282521</td>\n",
       "      <td id=\"T_29dd1_row9_col12\" class=\"data row9 col12\" >0.349191</td>\n",
       "      <td id=\"T_29dd1_row9_col13\" class=\"data row9 col13\" >0.078670</td>\n",
       "      <td id=\"T_29dd1_row9_col14\" class=\"data row9 col14\" >0.031813</td>\n",
       "      <td id=\"T_29dd1_row9_col15\" class=\"data row9 col15\" >0.239203</td>\n",
       "      <td id=\"T_29dd1_row9_col16\" class=\"data row9 col16\" >0.423634</td>\n",
       "      <td id=\"T_29dd1_row9_col17\" class=\"data row9 col17\" >0.152042</td>\n",
       "      <td id=\"T_29dd1_row9_col18\" class=\"data row9 col18\" >0.251662</td>\n",
       "    </tr>\n",
       "    <tr>\n",
       "      <th id=\"T_29dd1_level0_row10\" class=\"row_heading level0 row10\" >qtd_aval</th>\n",
       "      <td id=\"T_29dd1_row10_col0\" class=\"data row10 col0\" >0.770615</td>\n",
       "      <td id=\"T_29dd1_row10_col1\" class=\"data row10 col1\" >0.178120</td>\n",
       "      <td id=\"T_29dd1_row10_col2\" class=\"data row10 col2\" >-0.196463</td>\n",
       "      <td id=\"T_29dd1_row10_col3\" class=\"data row10 col3\" >-0.284307</td>\n",
       "      <td id=\"T_29dd1_row10_col4\" class=\"data row10 col4\" >-0.225718</td>\n",
       "      <td id=\"T_29dd1_row10_col5\" class=\"data row10 col5\" >-0.066487</td>\n",
       "      <td id=\"T_29dd1_row10_col6\" class=\"data row10 col6\" >-0.252861</td>\n",
       "      <td id=\"T_29dd1_row10_col7\" class=\"data row10 col7\" >-0.190860</td>\n",
       "      <td id=\"T_29dd1_row10_col8\" class=\"data row10 col8\" >0.026875</td>\n",
       "      <td id=\"T_29dd1_row10_col9\" class=\"data row10 col9\" >0.687126</td>\n",
       "      <td id=\"T_29dd1_row10_col10\" class=\"data row10 col10\" >1.000000</td>\n",
       "      <td id=\"T_29dd1_row10_col11\" class=\"data row10 col11\" >0.020289</td>\n",
       "      <td id=\"T_29dd1_row10_col12\" class=\"data row10 col12\" >0.403092</td>\n",
       "      <td id=\"T_29dd1_row10_col13\" class=\"data row10 col13\" >-0.187008</td>\n",
       "      <td id=\"T_29dd1_row10_col14\" class=\"data row10 col14\" >-0.192474</td>\n",
       "      <td id=\"T_29dd1_row10_col15\" class=\"data row10 col15\" >-0.121945</td>\n",
       "      <td id=\"T_29dd1_row10_col16\" class=\"data row10 col16\" >0.262710</td>\n",
       "      <td id=\"T_29dd1_row10_col17\" class=\"data row10 col17\" >0.028740</td>\n",
       "      <td id=\"T_29dd1_row10_col18\" class=\"data row10 col18\" >-0.178120</td>\n",
       "    </tr>\n",
       "    <tr>\n",
       "      <th id=\"T_29dd1_level0_row11\" class=\"row_heading level0 row11\" >ponto_virada_encoded</th>\n",
       "      <td id=\"T_29dd1_row11_col0\" class=\"data row11 col0\" >-0.006744</td>\n",
       "      <td id=\"T_29dd1_row11_col1\" class=\"data row11 col1\" >-0.474279</td>\n",
       "      <td id=\"T_29dd1_row11_col2\" class=\"data row11 col2\" >0.428505</td>\n",
       "      <td id=\"T_29dd1_row11_col3\" class=\"data row11 col3\" >0.112605</td>\n",
       "      <td id=\"T_29dd1_row11_col4\" class=\"data row11 col4\" >0.266648</td>\n",
       "      <td id=\"T_29dd1_row11_col5\" class=\"data row11 col5\" >0.149198</td>\n",
       "      <td id=\"T_29dd1_row11_col6\" class=\"data row11 col6\" >0.337622</td>\n",
       "      <td id=\"T_29dd1_row11_col7\" class=\"data row11 col7\" >0.568919</td>\n",
       "      <td id=\"T_29dd1_row11_col8\" class=\"data row11 col8\" >0.074775</td>\n",
       "      <td id=\"T_29dd1_row11_col9\" class=\"data row11 col9\" >0.282521</td>\n",
       "      <td id=\"T_29dd1_row11_col10\" class=\"data row11 col10\" >0.020289</td>\n",
       "      <td id=\"T_29dd1_row11_col11\" class=\"data row11 col11\" >1.000000</td>\n",
       "      <td id=\"T_29dd1_row11_col12\" class=\"data row11 col12\" >0.088706</td>\n",
       "      <td id=\"T_29dd1_row11_col13\" class=\"data row11 col13\" >0.229142</td>\n",
       "      <td id=\"T_29dd1_row11_col14\" class=\"data row11 col14\" >0.343000</td>\n",
       "      <td id=\"T_29dd1_row11_col15\" class=\"data row11 col15\" >0.440553</td>\n",
       "      <td id=\"T_29dd1_row11_col16\" class=\"data row11 col16\" >0.322136</td>\n",
       "      <td id=\"T_29dd1_row11_col17\" class=\"data row11 col17\" >0.108221</td>\n",
       "      <td id=\"T_29dd1_row11_col18\" class=\"data row11 col18\" >0.474279</td>\n",
       "    </tr>\n",
       "    <tr>\n",
       "      <th id=\"T_29dd1_level0_row12\" class=\"row_heading level0 row12\" >anos_pm</th>\n",
       "      <td id=\"T_29dd1_row12_col0\" class=\"data row12 col0\" >0.386114</td>\n",
       "      <td id=\"T_29dd1_row12_col1\" class=\"data row12 col1\" >0.073761</td>\n",
       "      <td id=\"T_29dd1_row12_col2\" class=\"data row12 col2\" >-0.066108</td>\n",
       "      <td id=\"T_29dd1_row12_col3\" class=\"data row12 col3\" >-0.110769</td>\n",
       "      <td id=\"T_29dd1_row12_col4\" class=\"data row12 col4\" >-0.103558</td>\n",
       "      <td id=\"T_29dd1_row12_col5\" class=\"data row12 col5\" >-0.251987</td>\n",
       "      <td id=\"T_29dd1_row12_col6\" class=\"data row12 col6\" >-0.048272</td>\n",
       "      <td id=\"T_29dd1_row12_col7\" class=\"data row12 col7\" >0.016995</td>\n",
       "      <td id=\"T_29dd1_row12_col8\" class=\"data row12 col8\" >-0.031090</td>\n",
       "      <td id=\"T_29dd1_row12_col9\" class=\"data row12 col9\" >0.349191</td>\n",
       "      <td id=\"T_29dd1_row12_col10\" class=\"data row12 col10\" >0.403092</td>\n",
       "      <td id=\"T_29dd1_row12_col11\" class=\"data row12 col11\" >0.088706</td>\n",
       "      <td id=\"T_29dd1_row12_col12\" class=\"data row12 col12\" >1.000000</td>\n",
       "      <td id=\"T_29dd1_row12_col13\" class=\"data row12 col13\" >-0.084897</td>\n",
       "      <td id=\"T_29dd1_row12_col14\" class=\"data row12 col14\" >-0.071557</td>\n",
       "      <td id=\"T_29dd1_row12_col15\" class=\"data row12 col15\" >0.063076</td>\n",
       "      <td id=\"T_29dd1_row12_col16\" class=\"data row12 col16\" >0.269582</td>\n",
       "      <td id=\"T_29dd1_row12_col17\" class=\"data row12 col17\" >-0.015131</td>\n",
       "      <td id=\"T_29dd1_row12_col18\" class=\"data row12 col18\" >-0.073761</td>\n",
       "    </tr>\n",
       "    <tr>\n",
       "      <th id=\"T_29dd1_level0_row13\" class=\"row_heading level0 row13\" >destaque_ieg_resultado_encoded</th>\n",
       "      <td id=\"T_29dd1_row13_col0\" class=\"data row13 col0\" >-0.265611</td>\n",
       "      <td id=\"T_29dd1_row13_col1\" class=\"data row13 col1\" >-0.652172</td>\n",
       "      <td id=\"T_29dd1_row13_col2\" class=\"data row13 col2\" >0.660809</td>\n",
       "      <td id=\"T_29dd1_row13_col3\" class=\"data row13 col3\" >0.259722</td>\n",
       "      <td id=\"T_29dd1_row13_col4\" class=\"data row13 col4\" >0.827673</td>\n",
       "      <td id=\"T_29dd1_row13_col5\" class=\"data row13 col5\" >0.077672</td>\n",
       "      <td id=\"T_29dd1_row13_col6\" class=\"data row13 col6\" >0.478871</td>\n",
       "      <td id=\"T_29dd1_row13_col7\" class=\"data row13 col7\" >0.481471</td>\n",
       "      <td id=\"T_29dd1_row13_col8\" class=\"data row13 col8\" >0.139518</td>\n",
       "      <td id=\"T_29dd1_row13_col9\" class=\"data row13 col9\" >0.078670</td>\n",
       "      <td id=\"T_29dd1_row13_col10\" class=\"data row13 col10\" >-0.187008</td>\n",
       "      <td id=\"T_29dd1_row13_col11\" class=\"data row13 col11\" >0.229142</td>\n",
       "      <td id=\"T_29dd1_row13_col12\" class=\"data row13 col12\" >-0.084897</td>\n",
       "      <td id=\"T_29dd1_row13_col13\" class=\"data row13 col13\" >1.000000</td>\n",
       "      <td id=\"T_29dd1_row13_col14\" class=\"data row13 col14\" >0.314108</td>\n",
       "      <td id=\"T_29dd1_row13_col15\" class=\"data row13 col15\" >0.390961</td>\n",
       "      <td id=\"T_29dd1_row13_col16\" class=\"data row13 col16\" >0.123743</td>\n",
       "      <td id=\"T_29dd1_row13_col17\" class=\"data row13 col17\" >0.184631</td>\n",
       "      <td id=\"T_29dd1_row13_col18\" class=\"data row13 col18\" >0.652172</td>\n",
       "    </tr>\n",
       "    <tr>\n",
       "      <th id=\"T_29dd1_level0_row14\" class=\"row_heading level0 row14\" >destaque_ida_resultado_encoded</th>\n",
       "      <td id=\"T_29dd1_row14_col0\" class=\"data row14 col0\" >-0.234062</td>\n",
       "      <td id=\"T_29dd1_row14_col1\" class=\"data row14 col1\" >-0.619161</td>\n",
       "      <td id=\"T_29dd1_row14_col2\" class=\"data row14 col2\" >0.551292</td>\n",
       "      <td id=\"T_29dd1_row14_col3\" class=\"data row14 col3\" >0.145692</td>\n",
       "      <td id=\"T_29dd1_row14_col4\" class=\"data row14 col4\" >0.337453</td>\n",
       "      <td id=\"T_29dd1_row14_col5\" class=\"data row14 col5\" >0.159034</td>\n",
       "      <td id=\"T_29dd1_row14_col6\" class=\"data row14 col6\" >0.692144</td>\n",
       "      <td id=\"T_29dd1_row14_col7\" class=\"data row14 col7\" >0.456455</td>\n",
       "      <td id=\"T_29dd1_row14_col8\" class=\"data row14 col8\" >0.084545</td>\n",
       "      <td id=\"T_29dd1_row14_col9\" class=\"data row14 col9\" >0.031813</td>\n",
       "      <td id=\"T_29dd1_row14_col10\" class=\"data row14 col10\" >-0.192474</td>\n",
       "      <td id=\"T_29dd1_row14_col11\" class=\"data row14 col11\" >0.343000</td>\n",
       "      <td id=\"T_29dd1_row14_col12\" class=\"data row14 col12\" >-0.071557</td>\n",
       "      <td id=\"T_29dd1_row14_col13\" class=\"data row14 col13\" >0.314108</td>\n",
       "      <td id=\"T_29dd1_row14_col14\" class=\"data row14 col14\" >1.000000</td>\n",
       "      <td id=\"T_29dd1_row14_col15\" class=\"data row14 col15\" >0.409957</td>\n",
       "      <td id=\"T_29dd1_row14_col16\" class=\"data row14 col16\" >0.309346</td>\n",
       "      <td id=\"T_29dd1_row14_col17\" class=\"data row14 col17\" >0.117935</td>\n",
       "      <td id=\"T_29dd1_row14_col18\" class=\"data row14 col18\" >0.619161</td>\n",
       "    </tr>\n",
       "    <tr>\n",
       "      <th id=\"T_29dd1_level0_row15\" class=\"row_heading level0 row15\" >destaque_ipv_resultado_encoded</th>\n",
       "      <td id=\"T_29dd1_row15_col0\" class=\"data row15 col0\" >-0.131788</td>\n",
       "      <td id=\"T_29dd1_row15_col1\" class=\"data row15 col1\" >-0.625367</td>\n",
       "      <td id=\"T_29dd1_row15_col2\" class=\"data row15 col2\" >0.584382</td>\n",
       "      <td id=\"T_29dd1_row15_col3\" class=\"data row15 col3\" >0.142289</td>\n",
       "      <td id=\"T_29dd1_row15_col4\" class=\"data row15 col4\" >0.438571</td>\n",
       "      <td id=\"T_29dd1_row15_col5\" class=\"data row15 col5\" >0.158868</td>\n",
       "      <td id=\"T_29dd1_row15_col6\" class=\"data row15 col6\" >0.492725</td>\n",
       "      <td id=\"T_29dd1_row15_col7\" class=\"data row15 col7\" >0.726575</td>\n",
       "      <td id=\"T_29dd1_row15_col8\" class=\"data row15 col8\" >0.087452</td>\n",
       "      <td id=\"T_29dd1_row15_col9\" class=\"data row15 col9\" >0.239203</td>\n",
       "      <td id=\"T_29dd1_row15_col10\" class=\"data row15 col10\" >-0.121945</td>\n",
       "      <td id=\"T_29dd1_row15_col11\" class=\"data row15 col11\" >0.440553</td>\n",
       "      <td id=\"T_29dd1_row15_col12\" class=\"data row15 col12\" >0.063076</td>\n",
       "      <td id=\"T_29dd1_row15_col13\" class=\"data row15 col13\" >0.390961</td>\n",
       "      <td id=\"T_29dd1_row15_col14\" class=\"data row15 col14\" >0.409957</td>\n",
       "      <td id=\"T_29dd1_row15_col15\" class=\"data row15 col15\" >1.000000</td>\n",
       "      <td id=\"T_29dd1_row15_col16\" class=\"data row15 col16\" >0.344727</td>\n",
       "      <td id=\"T_29dd1_row15_col17\" class=\"data row15 col17\" >0.129019</td>\n",
       "      <td id=\"T_29dd1_row15_col18\" class=\"data row15 col18\" >0.625367</td>\n",
       "    </tr>\n",
       "    <tr>\n",
       "      <th id=\"T_29dd1_level0_row16\" class=\"row_heading level0 row16\" >rec_sintese</th>\n",
       "      <td id=\"T_29dd1_row16_col0\" class=\"data row16 col0\" >0.228327</td>\n",
       "      <td id=\"T_29dd1_row16_col1\" class=\"data row16 col1\" >-0.325611</td>\n",
       "      <td id=\"T_29dd1_row16_col2\" class=\"data row16 col2\" >0.317259</td>\n",
       "      <td id=\"T_29dd1_row16_col3\" class=\"data row16 col3\" >-0.040211</td>\n",
       "      <td id=\"T_29dd1_row16_col4\" class=\"data row16 col4\" >0.127216</td>\n",
       "      <td id=\"T_29dd1_row16_col5\" class=\"data row16 col5\" >0.006076</td>\n",
       "      <td id=\"T_29dd1_row16_col6\" class=\"data row16 col6\" >0.385585</td>\n",
       "      <td id=\"T_29dd1_row16_col7\" class=\"data row16 col7\" >0.387259</td>\n",
       "      <td id=\"T_29dd1_row16_col8\" class=\"data row16 col8\" >0.008158</td>\n",
       "      <td id=\"T_29dd1_row16_col9\" class=\"data row16 col9\" >0.423634</td>\n",
       "      <td id=\"T_29dd1_row16_col10\" class=\"data row16 col10\" >0.262710</td>\n",
       "      <td id=\"T_29dd1_row16_col11\" class=\"data row16 col11\" >0.322136</td>\n",
       "      <td id=\"T_29dd1_row16_col12\" class=\"data row16 col12\" >0.269582</td>\n",
       "      <td id=\"T_29dd1_row16_col13\" class=\"data row16 col13\" >0.123743</td>\n",
       "      <td id=\"T_29dd1_row16_col14\" class=\"data row16 col14\" >0.309346</td>\n",
       "      <td id=\"T_29dd1_row16_col15\" class=\"data row16 col15\" >0.344727</td>\n",
       "      <td id=\"T_29dd1_row16_col16\" class=\"data row16 col16\" >1.000000</td>\n",
       "      <td id=\"T_29dd1_row16_col17\" class=\"data row16 col17\" >0.000658</td>\n",
       "      <td id=\"T_29dd1_row16_col18\" class=\"data row16 col18\" >0.325611</td>\n",
       "    </tr>\n",
       "    <tr>\n",
       "      <th id=\"T_29dd1_level0_row17\" class=\"row_heading level0 row17\" >diff_fase</th>\n",
       "      <td id=\"T_29dd1_row17_col0\" class=\"data row17 col0\" >-0.363567</td>\n",
       "      <td id=\"T_29dd1_row17_col1\" class=\"data row17 col1\" >-0.417172</td>\n",
       "      <td id=\"T_29dd1_row17_col2\" class=\"data row17 col2\" >0.402606</td>\n",
       "      <td id=\"T_29dd1_row17_col3\" class=\"data row17 col3\" >0.032574</td>\n",
       "      <td id=\"T_29dd1_row17_col4\" class=\"data row17 col4\" >0.217780</td>\n",
       "      <td id=\"T_29dd1_row17_col5\" class=\"data row17 col5\" >0.060193</td>\n",
       "      <td id=\"T_29dd1_row17_col6\" class=\"data row17 col6\" >0.180582</td>\n",
       "      <td id=\"T_29dd1_row17_col7\" class=\"data row17 col7\" >0.172207</td>\n",
       "      <td id=\"T_29dd1_row17_col8\" class=\"data row17 col8\" >0.838126</td>\n",
       "      <td id=\"T_29dd1_row17_col9\" class=\"data row17 col9\" >0.152042</td>\n",
       "      <td id=\"T_29dd1_row17_col10\" class=\"data row17 col10\" >0.028740</td>\n",
       "      <td id=\"T_29dd1_row17_col11\" class=\"data row17 col11\" >0.108221</td>\n",
       "      <td id=\"T_29dd1_row17_col12\" class=\"data row17 col12\" >-0.015131</td>\n",
       "      <td id=\"T_29dd1_row17_col13\" class=\"data row17 col13\" >0.184631</td>\n",
       "      <td id=\"T_29dd1_row17_col14\" class=\"data row17 col14\" >0.117935</td>\n",
       "      <td id=\"T_29dd1_row17_col15\" class=\"data row17 col15\" >0.129019</td>\n",
       "      <td id=\"T_29dd1_row17_col16\" class=\"data row17 col16\" >0.000658</td>\n",
       "      <td id=\"T_29dd1_row17_col17\" class=\"data row17 col17\" >1.000000</td>\n",
       "      <td id=\"T_29dd1_row17_col18\" class=\"data row17 col18\" >0.417172</td>\n",
       "    </tr>\n",
       "    <tr>\n",
       "      <th id=\"T_29dd1_level0_row18\" class=\"row_heading level0 row18\" >cg_normalized_inverted</th>\n",
       "      <td id=\"T_29dd1_row18_col0\" class=\"data row18 col0\" >-0.359791</td>\n",
       "      <td id=\"T_29dd1_row18_col1\" class=\"data row18 col1\" >-1.000000</td>\n",
       "      <td id=\"T_29dd1_row18_col2\" class=\"data row18 col2\" >0.956312</td>\n",
       "      <td id=\"T_29dd1_row18_col3\" class=\"data row18 col3\" >0.396569</td>\n",
       "      <td id=\"T_29dd1_row18_col4\" class=\"data row18 col4\" >0.741294</td>\n",
       "      <td id=\"T_29dd1_row18_col5\" class=\"data row18 col5\" >0.276923</td>\n",
       "      <td id=\"T_29dd1_row18_col6\" class=\"data row18 col6\" >0.807916</td>\n",
       "      <td id=\"T_29dd1_row18_col7\" class=\"data row18 col7\" >0.757219</td>\n",
       "      <td id=\"T_29dd1_row18_col8\" class=\"data row18 col8\" >0.421310</td>\n",
       "      <td id=\"T_29dd1_row18_col9\" class=\"data row18 col9\" >0.251662</td>\n",
       "      <td id=\"T_29dd1_row18_col10\" class=\"data row18 col10\" >-0.178120</td>\n",
       "      <td id=\"T_29dd1_row18_col11\" class=\"data row18 col11\" >0.474279</td>\n",
       "      <td id=\"T_29dd1_row18_col12\" class=\"data row18 col12\" >-0.073761</td>\n",
       "      <td id=\"T_29dd1_row18_col13\" class=\"data row18 col13\" >0.652172</td>\n",
       "      <td id=\"T_29dd1_row18_col14\" class=\"data row18 col14\" >0.619161</td>\n",
       "      <td id=\"T_29dd1_row18_col15\" class=\"data row18 col15\" >0.625367</td>\n",
       "      <td id=\"T_29dd1_row18_col16\" class=\"data row18 col16\" >0.325611</td>\n",
       "      <td id=\"T_29dd1_row18_col17\" class=\"data row18 col17\" >0.417172</td>\n",
       "      <td id=\"T_29dd1_row18_col18\" class=\"data row18 col18\" >1.000000</td>\n",
       "    </tr>\n",
       "  </tbody>\n",
       "</table>\n"
      ],
      "text/plain": [
       "<pandas.io.formats.style.Styler at 0x7f7ed5c18a10>"
      ]
     },
     "execution_count": 19,
     "metadata": {},
     "output_type": "execute_result"
    }
   ],
   "source": [
    "corr_matrix = df.drop(\n",
    "    columns=[\"nome\", \"pedra\", \"sexo\", \"indicado_bolsa\"], axis=1\n",
    ").corr()\n",
    "\n",
    "corr_matrix.style.background_gradient(cmap=\"coolwarm\")\n"
   ]
  },
  {
   "cell_type": "markdown",
   "metadata": {},
   "source": [
    "### Análise simplifica de clusterização"
   ]
  },
  {
   "cell_type": "code",
   "execution_count": 20,
   "metadata": {},
   "outputs": [],
   "source": [
    "def evaluate_features_importance(df, target_col, categorical_features):\n",
    "    # Definir as variáveis independentes (excluir colunas irrelevantes como 'nome', 'cg', 'cg_normalized_inverted')\n",
    "    # X = df.drop(columns=[\"nome\", \"cg\", \"cg_normalized_inverted\", \"inde\", \"pedra\"])\n",
    "    # y = df[\"cg_normalized_inverted\"]\n",
    "    X = df.drop(columns=target_col)\n",
    "    y = df[target_col]\n",
    "\n",
    "    # Dividir os dados em treinamento e teste\n",
    "    X_train, X_test, y_train, y_test = train_test_split(\n",
    "        X, y, test_size=0.25, random_state=42\n",
    "    )\n",
    "\n",
    "    # Definir pré-processamento para variáveis categóricas (ex: 'pedra' e 'sexo')\n",
    "    # categorical_features = [\"sexo\", \"indicado_bolsa\"]\n",
    "    categorical_transformer = OneHotEncoder(handle_unknown=\"ignore\")\n",
    "    numerical_features = X.drop(columns=categorical_features).columns.tolist()\n",
    "\n",
    "    numerical_transformer = SimpleImputer(\n",
    "        strategy=\"mean\"\n",
    "    )  # Para preencher valores numéricos ausentes\n",
    "    categorical_transformer = Pipeline(\n",
    "        steps=[\n",
    "            (\n",
    "                \"imputer\",\n",
    "                SimpleImputer(strategy=\"most_frequent\"),\n",
    "            ),  # Preencher categóricos com o valor mais frequente\n",
    "            (\n",
    "                \"onehot\",\n",
    "                OneHotEncoder(handle_unknown=\"ignore\"),\n",
    "            ),  # OneHotEncode para variáveis categóricas\n",
    "        ]\n",
    "    )\n",
    "\n",
    "    # Criação do ColumnTransformer para aplicar transformações adequadas a variáveis categóricas e numéricas\n",
    "    preprocessor = ColumnTransformer(\n",
    "        transformers=[\n",
    "            (\"num\", numerical_transformer, numerical_features),\n",
    "            (\"cat\", categorical_transformer, categorical_features),\n",
    "        ]\n",
    "    )\n",
    "\n",
    "    # Modelo usando RandomForest\n",
    "    model = Pipeline(\n",
    "        steps=[\n",
    "            (\"preprocessor\", preprocessor),\n",
    "            (\"regressor\", RandomForestRegressor(random_state=42)),\n",
    "        ]\n",
    "    )\n",
    "\n",
    "    # Dividir os dados em treinamento e teste\n",
    "    X_train, X_test, y_train, y_test = train_test_split(\n",
    "        X, y, test_size=0.2, random_state=42\n",
    "    )\n",
    "\n",
    "    # Treinar o modelo\n",
    "    model.fit(X_train, y_train)\n",
    "\n",
    "    # Fazer previsões no conjunto de teste\n",
    "    y_pred = model.predict(X_test)\n",
    "\n",
    "    # Avaliar o modelo\n",
    "    print(\"R²:\", r2_score(y_test, y_pred))\n",
    "    print(\"MAE:\", mean_absolute_error(y_test, y_pred))\n",
    "\n",
    "    importances = model.named_steps[\"regressor\"].feature_importances_\n",
    "    # Extrair nomes das features após a transformação (incluindo categorias expandidas pelo OneHotEncoder)\n",
    "    feature_names = (\n",
    "        model.named_steps[\"preprocessor\"]\n",
    "        .transformers_[1][1]\n",
    "        .named_steps[\"onehot\"]\n",
    "        .get_feature_names_out(categorical_features)\n",
    "    )\n",
    "    all_features = numerical_features + feature_names.tolist()\n",
    "\n",
    "    # Criar dataframe de importância\n",
    "    importance_df = pd.DataFrame(\n",
    "        {\"Feature\": all_features, \"Importance\": importances}\n",
    "    ).sort_values(by=\"Importance\", ascending=False)\n",
    "    print(importance_df)\n",
    "    # Ordenar a importância das variáveis em ordem decrescente\n",
    "    importance_df = pd.DataFrame(\n",
    "        {\"Feature\": all_features, \"Importance\": importances}\n",
    "    ).sort_values(by=\"Importance\", ascending=False)\n",
    "\n",
    "    # Plotar o gráfico de barras\n",
    "    plt.figure(figsize=(10, 6))\n",
    "    plt.barh(importance_df[\"Feature\"], importance_df[\"Importance\"], color=\"skyblue\")\n",
    "    plt.xlabel(\"Importância\")\n",
    "    plt.ylabel(\"Features\")\n",
    "    plt.title(\"Importância das Features\")\n",
    "    plt.gca().invert_yaxis()  # Inverter o eixo Y para mostrar as features mais importantes no topo\n",
    "    plt.show()\n"
   ]
  },
  {
   "cell_type": "code",
   "execution_count": 21,
   "metadata": {},
   "outputs": [
    {
     "name": "stdout",
     "output_type": "stream",
     "text": [
      "R²: 0.9065413151650048\n",
      "MAE: 0.0710430807033091\n",
      "                           Feature  Importance\n",
      "4                              ipv    0.403015\n",
      "2                              ieg    0.318924\n",
      "11  destaque_ida_resultado_encoded    0.118051\n",
      "14                       diff_fase    0.040276\n",
      "5                              ian    0.037759\n",
      "1                              iaa    0.027587\n",
      "3                              ips    0.015639\n",
      "6                              ipp    0.013412\n",
      "0                            idade    0.009177\n",
      "9                          anos_pm    0.005360\n",
      "13                     rec_sintese    0.001860\n",
      "7                         qtd_aval    0.001541\n",
      "16                          sexo_M    0.001535\n",
      "10  destaque_ieg_resultado_encoded    0.001388\n",
      "8             ponto_virada_encoded    0.001359\n",
      "15                          sexo_F    0.001087\n",
      "18              indicado_bolsa_Sim    0.000889\n",
      "17              indicado_bolsa_Não    0.000626\n",
      "12  destaque_ipv_resultado_encoded    0.000514\n"
     ]
    },
    {
     "data": {
      "image/png": "[encoded data removed]",
      "text/plain": [
       "<Figure size 1000x600 with 1 Axes>"
      ]
     },
     "metadata": {},
     "output_type": "display_data"
    }
   ],
   "source": [
    "df_to_evaluate = df.drop(columns=[\"nome\", \"cg\", \"inde\", \"pedra\", \"ida\"])\n",
    "\n",
    "evaluate_features_importance(\n",
    "    df_to_evaluate,\n",
    "    \"cg_normalized_inverted\",\n",
    "    [\"sexo\", \"indicado_bolsa\"],\n",
    ")\n"
   ]
  },
  {
   "cell_type": "code",
   "execution_count": 22,
   "metadata": {},
   "outputs": [
    {
     "name": "stdout",
     "output_type": "stream",
     "text": [
      "R²: 0.9685270833857983\n",
      "MAE: 0.04148630776150867\n",
      "                           Feature  Importance\n",
      "4                              ida    0.519559\n",
      "23                     pedra_Ágata    0.145818\n",
      "22                   pedra_Topázio    0.101718\n",
      "20                  pedra_Ametista    0.087259\n",
      "21                   pedra_Quartzo    0.061228\n",
      "5                              ipv    0.026012\n",
      "2                              ieg    0.020769\n",
      "1                              iaa    0.008142\n",
      "15                       diff_fase    0.005490\n",
      "6                              ian    0.005278\n",
      "7                              ipp    0.004515\n",
      "3                              ips    0.004456\n",
      "0                            idade    0.002705\n",
      "10                         anos_pm    0.001587\n",
      "12  destaque_ida_resultado_encoded    0.001209\n",
      "9             ponto_virada_encoded    0.001114\n",
      "8                         qtd_aval    0.000572\n",
      "17                          sexo_M    0.000438\n",
      "11  destaque_ieg_resultado_encoded    0.000435\n",
      "16                          sexo_F    0.000434\n",
      "13  destaque_ipv_resultado_encoded    0.000416\n",
      "14                     rec_sintese    0.000391\n",
      "19              indicado_bolsa_Sim    0.000255\n",
      "18              indicado_bolsa_Não    0.000199\n"
     ]
    },
    {
     "data": {
      "image/png": "[encoded data removed]",
      "text/plain": [
       "<Figure size 1000x600 with 1 Axes>"
      ]
     },
     "metadata": {},
     "output_type": "display_data"
    }
   ],
   "source": [
    "df_to_evaluate = df.drop(columns=[\"nome\", \"cg\", \"inde\"])\n",
    "evaluate_features_importance(\n",
    "    df_to_evaluate, \"cg_normalized_inverted\", [\"sexo\", \"indicado_bolsa\", \"pedra\"]\n",
    ")\n"
   ]
  },
  {
   "cell_type": "code",
   "execution_count": 23,
   "metadata": {},
   "outputs": [
    {
     "data": {
      "text/plain": [
       "Index(['idade', 'pedra', 'iaa', 'ieg', 'ips', 'ida', 'ipv', 'ian', 'ipp',\n",
       "       'qtd_aval', 'indicado_bolsa', 'sexo', 'ponto_virada_encoded', 'anos_pm',\n",
       "       'destaque_ieg_resultado_encoded', 'destaque_ida_resultado_encoded',\n",
       "       'destaque_ipv_resultado_encoded', 'rec_sintese', 'diff_fase',\n",
       "       'cg_normalized_inverted'],\n",
       "      dtype='object')"
      ]
     },
     "execution_count": 23,
     "metadata": {},
     "output_type": "execute_result"
    }
   ],
   "source": [
    "df_to_evaluate.columns\n"
   ]
  },
  {
   "cell_type": "code",
   "execution_count": 24,
   "metadata": {},
   "outputs": [
    {
     "name": "stdout",
     "output_type": "stream",
     "text": [
      "DataFrame com variáveis categóricas codificadas:\n",
      "   idade     pedra       iaa       ieg  ips       ida       ipv   ian  \\\n",
      "0   11.0  Ametista  10.00002  7.581705  7.5  8.816667  7.916665   5.0   \n",
      "1   12.0  Ametista  10.00002  8.071429  7.5  5.083333  8.055553   5.0   \n",
      "2   12.0  Ametista   6.41668  8.557505  7.5  7.083333  7.833337   5.0   \n",
      "3   11.0  Ametista   9.00002  9.333333  7.5  5.500000  7.500000  10.0   \n",
      "4   11.0  Ametista  10.00002  9.314954  7.5  5.583333  7.916670   5.0   \n",
      "\n",
      "        ipp  qtd_aval  ... destaque_ipv_resultado_encoded rec_sintese  \\\n",
      "0  5.625000       2.0  ...                              1         1.0   \n",
      "1  6.250000       3.0  ...                              1         1.0   \n",
      "2  6.458333       3.0  ...                              1         0.0   \n",
      "3  6.250000       3.0  ...                              1         0.0   \n",
      "4  5.937500       2.0  ...                              1         1.0   \n",
      "\n",
      "   diff_fase  cg_normalized_inverted  sexo_Encoded  bolsa_Encoded  \\\n",
      "0       -2.0                0.716609             0              1   \n",
      "1       -1.0                0.477352             1              0   \n",
      "2       -1.0                0.519164             1              0   \n",
      "3        0.0                0.744483             0              0   \n",
      "4       -1.0                0.586527             1              0   \n",
      "\n",
      "   predra_Ametista  predra_Quartzo  predra_Topázio  predra_Ágata  \n",
      "0             True           False           False         False  \n",
      "1             True           False           False         False  \n",
      "2             True           False           False         False  \n",
      "3             True           False           False         False  \n",
      "4             True           False           False         False  \n",
      "\n",
      "[5 rows x 26 columns]\n"
     ]
    }
   ],
   "source": [
    "from scipy.cluster.hierarchy import linkage, dendrogram\n",
    "from scipy.spatial.distance import pdist, squareform\n",
    "from sklearn.preprocessing import LabelEncoder, StandardScaler\n",
    "\n",
    "df_to_evaluate = df.drop(columns=[\"nome\", \"cg\", \"inde\"])\n",
    "\n",
    "\n",
    "# Pré-processamento de variáveis categóricas\n",
    "# Codificar a variável 'Genero'\n",
    "le = LabelEncoder()\n",
    "df_to_evaluate[\"sexo_Encoded\"] = le.fit_transform(df[\"sexo\"])\n",
    "df_to_evaluate[\"bolsa_Encoded\"] = le.fit_transform(df[\"indicado_bolsa\"])\n",
    "\n",
    "# Aplicar One-Hot Encoding na variável 'Curso'\n",
    "df_pedra_encoded = pd.get_dummies(df[\"pedra\"], prefix=\"predra\")\n",
    "\n",
    "# Concatenar as variáveis codificadas ao DataFrame original\n",
    "df_to_evaluate = pd.concat([df_to_evaluate, df_pedra_encoded], axis=1)\n",
    "\n",
    "# Visualizar o DataFrame atualizado\n",
    "print(\"DataFrame com variáveis categóricas codificadas:\")\n",
    "print(df_to_evaluate.head())\n"
   ]
  },
  {
   "cell_type": "code",
   "execution_count": 25,
   "metadata": {},
   "outputs": [
    {
     "data": {
      "text/plain": [
       "Index(['idade', 'pedra', 'iaa', 'ieg', 'ips', 'ida', 'ipv', 'ian', 'ipp',\n",
       "       'qtd_aval', 'indicado_bolsa', 'sexo', 'ponto_virada_encoded', 'anos_pm',\n",
       "       'destaque_ieg_resultado_encoded', 'destaque_ida_resultado_encoded',\n",
       "       'destaque_ipv_resultado_encoded', 'rec_sintese', 'diff_fase',\n",
       "       'cg_normalized_inverted', 'sexo_Encoded', 'bolsa_Encoded',\n",
       "       'predra_Ametista', 'predra_Quartzo', 'predra_Topázio', 'predra_Ágata'],\n",
       "      dtype='object')"
      ]
     },
     "execution_count": 25,
     "metadata": {},
     "output_type": "execute_result"
    }
   ],
   "source": [
    "df_to_evaluate.columns\n"
   ]
  },
  {
   "cell_type": "code",
   "execution_count": 26,
   "metadata": {},
   "outputs": [
    {
     "name": "stdout",
     "output_type": "stream",
     "text": [
      "\n",
      "Dados normalizados:\n",
      "      idade       iaa       ieg       ips       ida       ipv       ian  \\\n",
      "0 -0.498767  0.835453 -0.181438  0.559937  1.334197  0.609077 -0.595497   \n",
      "1 -0.123604  0.835453  0.115712  0.559937 -0.479729  0.735580 -0.595497   \n",
      "2 -0.123604 -0.888088  0.410649  0.559937  0.492017  0.533180 -0.595497   \n",
      "3 -0.498767  0.354466  0.881400  0.559937 -0.277282  0.229570  1.499681   \n",
      "4 -0.498767  0.835453  0.870248  0.559937 -0.236793  0.609082 -0.595497   \n",
      "\n",
      "        ipp  qtd_aval  ponto_virada_encoded  ...  \\\n",
      "0 -0.594232 -1.363044             -0.388417  ...   \n",
      "1 -0.043499 -0.073314             -0.388417  ...   \n",
      "2  0.140079 -0.073314             -0.388417  ...   \n",
      "3 -0.043499 -0.073314             -0.388417  ...   \n",
      "4 -0.318865 -1.363044             -0.388417  ...   \n",
      "\n",
      "   destaque_ida_resultado_encoded  destaque_ipv_resultado_encoded  \\\n",
      "0                        1.614526                        1.134228   \n",
      "1                       -0.619377                        1.134228   \n",
      "2                       -0.619377                        1.134228   \n",
      "3                       -0.619377                        1.134228   \n",
      "4                       -0.619377                        1.134228   \n",
      "\n",
      "   rec_sintese  diff_fase  sexo_Encoded  bolsa_Encoded  predra_Ametista  \\\n",
      "0     1.021239  -1.252001     -0.890022       2.351660         1.215324   \n",
      "1     1.021239  -0.067341      1.113108      -0.425232         1.215324   \n",
      "2    -0.961302  -0.067341      1.113108      -0.425232         1.215324   \n",
      "3    -0.961302   1.117318     -0.890022      -0.425232         1.215324   \n",
      "4     1.021239  -0.067341      1.113108      -0.425232         1.215324   \n",
      "\n",
      "   predra_Quartzo  predra_Topázio  predra_Ágata  \n",
      "0       -0.429029       -0.421421     -0.639137  \n",
      "1       -0.429029       -0.421421     -0.639137  \n",
      "2       -0.429029       -0.421421     -0.639137  \n",
      "3       -0.429029       -0.421421     -0.639137  \n",
      "4       -0.429029       -0.421421     -0.639137  \n",
      "\n",
      "[5 rows x 22 columns]\n",
      "\n",
      "Correlações entre as variáveis independentes e o desempenho acadêmico:\n",
      "                          Variavel  Correlacao\n",
      "0                            idade   -0.359791\n",
      "1                              iaa    0.396569\n",
      "2                              ieg    0.741294\n",
      "3                              ips    0.276923\n",
      "4                              ida    0.807916\n",
      "5                              ipv    0.757219\n",
      "6                              ian    0.421310\n",
      "7                              ipp    0.251662\n",
      "8                         qtd_aval   -0.178120\n",
      "9             ponto_virada_encoded    0.474279\n",
      "10                         anos_pm   -0.073761\n",
      "11  destaque_ieg_resultado_encoded    0.652172\n",
      "12  destaque_ida_resultado_encoded    0.619161\n",
      "13  destaque_ipv_resultado_encoded    0.625367\n",
      "14                     rec_sintese    0.325611\n",
      "15                       diff_fase    0.417172\n",
      "16                    sexo_Encoded    0.010287\n",
      "17                   bolsa_Encoded    0.170266\n",
      "18                 predra_Ametista    0.419948\n",
      "19                  predra_Quartzo   -0.627584\n",
      "20                  predra_Topázio    0.619842\n",
      "21                    predra_Ágata   -0.441780\n"
     ]
    }
   ],
   "source": [
    "# Variáveis para normalização\n",
    "variaveis_para_normalizar = [\n",
    "    \"idade\",\n",
    "    \"iaa\",\n",
    "    \"ieg\",\n",
    "    \"ips\",\n",
    "    \"ida\",\n",
    "    \"ipv\",\n",
    "    \"ian\",\n",
    "    \"ipp\",\n",
    "    \"qtd_aval\",\n",
    "    \"ponto_virada_encoded\",\n",
    "    \"anos_pm\",\n",
    "    \"destaque_ieg_resultado_encoded\",\n",
    "    \"destaque_ida_resultado_encoded\",\n",
    "    \"destaque_ipv_resultado_encoded\",\n",
    "    \"rec_sintese\",\n",
    "    \"diff_fase\",\n",
    "    \"sexo_Encoded\",\n",
    "    \"bolsa_Encoded\",\n",
    "    \"predra_Ametista\",\n",
    "    \"predra_Quartzo\",\n",
    "    \"predra_Topázio\",\n",
    "    \"predra_Ágata\",\n",
    "]\n",
    "\n",
    "# Aplicar a padronização\n",
    "scaler = StandardScaler()\n",
    "dados_normalizados = scaler.fit_transform(df_to_evaluate[variaveis_para_normalizar])\n",
    "df_normalizado = pd.DataFrame(dados_normalizados, columns=variaveis_para_normalizar)\n",
    "\n",
    "# Visualizar os dados normalizados\n",
    "print(\"\\nDados normalizados:\")\n",
    "print(df_normalizado.head())\n",
    "\n",
    "# Lista de variáveis independentes atualizada\n",
    "variaveis_independentes = variaveis_para_normalizar\n",
    "\n",
    "# Calcular as correlações\n",
    "correlacoes = []\n",
    "for var in variaveis_independentes:\n",
    "    corr = df_to_evaluate[\"cg_normalized_inverted\"].corr(df_normalizado[var])\n",
    "    correlacoes.append(corr)\n",
    "\n",
    "# Criar um DataFrame com as correlações\n",
    "df_correlacoes = pd.DataFrame(\n",
    "    {\"Variavel\": variaveis_independentes, \"Correlacao\": correlacoes}\n",
    ")\n",
    "\n",
    "print(\"\\nCorrelações entre as variáveis independentes e o desempenho acadêmico:\")\n",
    "print(df_correlacoes)\n"
   ]
  },
  {
   "cell_type": "code",
   "execution_count": 38,
   "metadata": {},
   "outputs": [
    {
     "data": {
      "image/png": "[encoded data removed]",
      "text/plain": [
       "<Figure size 1200x600 with 1 Axes>"
      ]
     },
     "metadata": {},
     "output_type": "display_data"
    }
   ],
   "source": [
    "# Converter as correlações em um array numpy\n",
    "correlacoes_array = np.array(correlacoes)\n",
    "\n",
    "# Calcular a matriz de distância usando a diferença absoluta\n",
    "distancias = pdist(correlacoes_array.reshape(-1, 1), metric=\"cityblock\")\n",
    "\n",
    "# Realizar a clusterização hierárquica\n",
    "Z = linkage(distancias, method=\"average\")\n",
    "\n",
    "# Plotar o dendrograma\n",
    "plt.figure(figsize=(12, 6))\n",
    "dendrogram(Z, labels=variaveis_independentes, leaf_rotation=90, leaf_font_size=10)\n",
    "plt.title(\"Dendrograma das Variáveis Independentes\")\n",
    "plt.xlabel(\"Variáveis\")\n",
    "plt.ylabel(\"Distância\")\n",
    "plt.show()\n"
   ]
  },
  {
   "cell_type": "code",
   "execution_count": 40,
   "metadata": {},
   "outputs": [
    {
     "data": {
      "application/vnd.plotly.v1+json": {
       "config": {
        "plotlyServerURL": "https://plot.ly"
       },
       "data": [
        {
         "hoverinfo": "text",
         "marker": {
          "color": "rgb(61,153,112)"
         },
         "mode": "lines",
         "type": "scatter",
         "x": [
          25,
          25,
          35,
          35
         ],
         "xaxis": "x",
         "y": [
          0,
          0.0006809582282134574,
          0.0006809582282134574,
          0
         ],
         "yaxis": "y"
        },
        {
         "hoverinfo": "text",
         "marker": {
          "color": "rgb(61,153,112)"
         },
         "mode": "lines",
         "type": "scatter",
         "x": [
          15,
          15,
          30,
          30
         ],
         "xaxis": "x",
         "y": [
          0,
          0.005865277819057657,
          0.005865277819057657,
          0.0006809582282134574
         ],
         "yaxis": "y"
        },
        {
         "hoverinfo": "text",
         "marker": {
          "color": "rgb(61,153,112)"
         },
         "mode": "lines",
         "type": "scatter",
         "x": [
          5,
          5,
          22.5,
          22.5
         ],
         "xaxis": "x",
         "y": [
          0,
          0.03071520387584777,
          0.03071520387584777,
          0.005865277819057657
         ],
         "yaxis": "y"
        },
        {
         "hoverinfo": "text",
         "marker": {
          "color": "rgb(61,153,112)"
         },
         "mode": "lines",
         "type": "scatter",
         "x": [
          55,
          55,
          65,
          65
         ],
         "xaxis": "x",
         "y": [
          0,
          0.015925246113901226,
          0.015925246113901226,
          0
         ],
         "yaxis": "y"
        },
        {
         "hoverinfo": "text",
         "marker": {
          "color": "rgb(61,153,112)"
         },
         "mode": "lines",
         "type": "scatter",
         "x": [
          45,
          45,
          60,
          60
         ],
         "xaxis": "x",
         "y": [
          0,
          0.05865949735858733,
          0.05865949735858733,
          0.015925246113901226
         ],
         "yaxis": "y"
        },
        {
         "hoverinfo": "text",
         "marker": {
          "color": "rgb(61,153,112)"
         },
         "mode": "lines",
         "type": "scatter",
         "x": [
          13.75,
          13.75,
          52.5,
          52.5
         ],
         "xaxis": "x",
         "y": [
          0.03071520387584777,
          0.13967467370468867,
          0.13967467370468867,
          0.05865949735858733
         ],
         "yaxis": "y"
        },
        {
         "hoverinfo": "text",
         "marker": {
          "color": "rgb(61,153,112)"
         },
         "mode": "lines",
         "type": "scatter",
         "x": [
          105,
          105,
          115,
          115
         ],
         "xaxis": "x",
         "y": [
          0,
          0.001362435174929344,
          0.001362435174929344,
          0
         ],
         "yaxis": "y"
        },
        {
         "hoverinfo": "text",
         "marker": {
          "color": "rgb(61,153,112)"
         },
         "mode": "lines",
         "type": "scatter",
         "x": [
          95,
          95,
          110,
          110
         ],
         "xaxis": "x",
         "y": [
          0,
          0.0034569919219366307,
          0.0034569919219366307,
          0.001362435174929344
         ],
         "yaxis": "y"
        },
        {
         "hoverinfo": "text",
         "marker": {
          "color": "rgb(61,153,112)"
         },
         "mode": "lines",
         "type": "scatter",
         "x": [
          85,
          85,
          102.5,
          102.5
         ],
         "xaxis": "x",
         "y": [
          0,
          0.02290791629822375,
          0.02290791629822375,
          0.0034569919219366307
         ],
         "yaxis": "y"
        },
        {
         "hoverinfo": "text",
         "marker": {
          "color": "rgb(61,153,112)"
         },
         "mode": "lines",
         "type": "scatter",
         "x": [
          75,
          75,
          93.75,
          93.75
         ],
         "xaxis": "x",
         "y": [
          0,
          0.060529556689936814,
          0.060529556689936814,
          0.02290791629822375
         ],
         "yaxis": "y"
        },
        {
         "hoverinfo": "text",
         "marker": {
          "color": "rgb(61,153,112)"
         },
         "mode": "lines",
         "type": "scatter",
         "x": [
          145,
          145,
          155,
          155
         ],
         "xaxis": "x",
         "y": [
          0,
          0.025260424817021065,
          0.025260424817021065,
          0
         ],
         "yaxis": "y"
        },
        {
         "hoverinfo": "text",
         "marker": {
          "color": "rgb(61,153,112)"
         },
         "mode": "lines",
         "type": "scatter",
         "x": [
          135,
          135,
          150,
          150
         ],
         "xaxis": "x",
         "y": [
          0,
          0.06131807561739744,
          0.06131807561739744,
          0.025260424817021065
         ],
         "yaxis": "y"
        },
        {
         "hoverinfo": "text",
         "marker": {
          "color": "rgb(61,153,112)"
         },
         "mode": "lines",
         "type": "scatter",
         "x": [
          125,
          125,
          142.5,
          142.5
         ],
         "xaxis": "x",
         "y": [
          0,
          0.11446619016886354,
          0.11446619016886354,
          0.06131807561739744
         ],
         "yaxis": "y"
        },
        {
         "hoverinfo": "text",
         "marker": {
          "color": "rgb(61,153,112)"
         },
         "mode": "lines",
         "type": "scatter",
         "x": [
          84.375,
          84.375,
          133.75,
          133.75
         ],
         "xaxis": "x",
         "y": [
          0.060529556689936814,
          0.169740439755748,
          0.169740439755748,
          0.11446619016886354
         ],
         "yaxis": "y"
        },
        {
         "hoverinfo": "text",
         "marker": {
          "color": "rgb(61,153,112)"
         },
         "mode": "lines",
         "type": "scatter",
         "x": [
          33.125,
          33.125,
          109.0625,
          109.0625
         ],
         "xaxis": "x",
         "y": [
          0.13967467370468867,
          0.338580261375124,
          0.338580261375124,
          0.169740439755748
         ],
         "yaxis": "y"
        },
        {
         "hoverinfo": "text",
         "marker": {
          "color": "rgb(255,65,54)"
         },
         "mode": "lines",
         "type": "scatter",
         "x": [
          175,
          175,
          185,
          185
         ],
         "xaxis": "x",
         "y": [
          0,
          0.08404738565765982,
          0.08404738565765982,
          0
         ],
         "yaxis": "y"
        },
        {
         "hoverinfo": "text",
         "marker": {
          "color": "rgb(255,65,54)"
         },
         "mode": "lines",
         "type": "scatter",
         "x": [
          165,
          165,
          180,
          180
         ],
         "xaxis": "x",
         "y": [
          0,
          0.14638239817800586,
          0.14638239817800586,
          0.08404738565765982
         ],
         "yaxis": "y"
        },
        {
         "hoverinfo": "text",
         "marker": {
          "color": "rgb(255,65,54)"
         },
         "mode": "lines",
         "type": "scatter",
         "x": [
          205,
          205,
          215,
          215
         ],
         "xaxis": "x",
         "y": [
          0,
          0.08198924407623692,
          0.08198924407623692,
          0
         ],
         "yaxis": "y"
        },
        {
         "hoverinfo": "text",
         "marker": {
          "color": "rgb(255,65,54)"
         },
         "mode": "lines",
         "type": "scatter",
         "x": [
          195,
          195,
          210,
          210
         ],
         "xaxis": "x",
         "y": [
          0,
          0.22679810363739264,
          0.22679810363739264,
          0.08198924407623692
         ],
         "yaxis": "y"
        },
        {
         "hoverinfo": "text",
         "marker": {
          "color": "rgb(255,65,54)"
         },
         "mode": "lines",
         "type": "scatter",
         "x": [
          172.5,
          172.5,
          202.5,
          202.5
         ],
         "xaxis": "x",
         "y": [
          0.14638239817800586,
          0.395853819541168,
          0.395853819541168,
          0.22679810363739264
         ],
         "yaxis": "y"
        },
        {
         "hoverinfo": "text",
         "marker": {
          "color": "rgb(0,116,217)"
         },
         "mode": "lines",
         "type": "scatter",
         "x": [
          71.09375,
          71.09375,
          187.5,
          187.5
         ],
         "xaxis": "x",
         "y": [
          0.338580261375124,
          0.7770025871571714,
          0.7770025871571714,
          0.395853819541168
         ],
         "yaxis": "y"
        }
       ],
       "layout": {
        "autosize": false,
        "height": 600,
        "hovermode": "closest",
        "margin": {
         "b": 200
        },
        "showlegend": false,
        "template": {
         "data": {
          "bar": [
           {
            "error_x": {
             "color": "#2a3f5f"
            },
            "error_y": {
             "color": "#2a3f5f"
            },
            "marker": {
             "line": {
              "color": "#E5ECF6",
              "width": 0.5
             },
             "pattern": {
              "fillmode": "overlay",
              "size": 10,
              "solidity": 0.2
             }
            },
            "type": "bar"
           }
          ],
          "barpolar": [
           {
            "marker": {
             "line": {
              "color": "#E5ECF6",
              "width": 0.5
             },
             "pattern": {
              "fillmode": "overlay",
              "size": 10,
              "solidity": 0.2
             }
            },
            "type": "barpolar"
           }
          ],
          "carpet": [
           {
            "aaxis": {
             "endlinecolor": "#2a3f5f",
             "gridcolor": "white",
             "linecolor": "white",
             "minorgridcolor": "white",
             "startlinecolor": "#2a3f5f"
            },
            "baxis": {
             "endlinecolor": "#2a3f5f",
             "gridcolor": "white",
             "linecolor": "white",
             "minorgridcolor": "white",
             "startlinecolor": "#2a3f5f"
            },
            "type": "carpet"
           }
          ],
          "choropleth": [
           {
            "colorbar": {
             "outlinewidth": 0,
             "ticks": ""
            },
            "type": "choropleth"
           }
          ],
          "contour": [
           {
            "colorbar": {
             "outlinewidth": 0,
             "ticks": ""
            },
            "colorscale": [
             [
              0,
              "#0d0887"
             ],
             [
              0.1111111111111111,
              "#46039f"
             ],
             [
              0.2222222222222222,
              "#7201a8"
             ],
             [
              0.3333333333333333,
              "#9c179e"
             ],
             [
              0.4444444444444444,
              "#bd3786"
             ],
             [
              0.5555555555555556,
              "#d8576b"
             ],
             [
              0.6666666666666666,
              "#ed7953"
             ],
             [
              0.7777777777777778,
              "#fb9f3a"
             ],
             [
              0.8888888888888888,
              "#fdca26"
             ],
             [
              1,
              "#f0f921"
             ]
            ],
            "type": "contour"
           }
          ],
          "contourcarpet": [
           {
            "colorbar": {
             "outlinewidth": 0,
             "ticks": ""
            },
            "type": "contourcarpet"
           }
          ],
          "heatmap": [
           {
            "colorbar": {
             "outlinewidth": 0,
             "ticks": ""
            },
            "colorscale": [
             [
              0,
              "#0d0887"
             ],
             [
              0.1111111111111111,
              "#46039f"
             ],
             [
              0.2222222222222222,
              "#7201a8"
             ],
             [
              0.3333333333333333,
              "#9c179e"
             ],
             [
              0.4444444444444444,
              "#bd3786"
             ],
             [
              0.5555555555555556,
              "#d8576b"
             ],
             [
              0.6666666666666666,
              "#ed7953"
             ],
             [
              0.7777777777777778,
              "#fb9f3a"
             ],
             [
              0.8888888888888888,
              "#fdca26"
             ],
             [
              1,
              "#f0f921"
             ]
            ],
            "type": "heatmap"
           }
          ],
          "heatmapgl": [
           {
            "colorbar": {
             "outlinewidth": 0,
             "ticks": ""
            },
            "colorscale": [
             [
              0,
              "#0d0887"
             ],
             [
              0.1111111111111111,
              "#46039f"
             ],
             [
              0.2222222222222222,
              "#7201a8"
             ],
             [
              0.3333333333333333,
              "#9c179e"
             ],
             [
              0.4444444444444444,
              "#bd3786"
             ],
             [
              0.5555555555555556,
              "#d8576b"
             ],
             [
              0.6666666666666666,
              "#ed7953"
             ],
             [
              0.7777777777777778,
              "#fb9f3a"
             ],
             [
              0.8888888888888888,
              "#fdca26"
             ],
             [
              1,
              "#f0f921"
             ]
            ],
            "type": "heatmapgl"
           }
          ],
          "histogram": [
           {
            "marker": {
             "pattern": {
              "fillmode": "overlay",
              "size": 10,
              "solidity": 0.2
             }
            },
            "type": "histogram"
           }
          ],
          "histogram2d": [
           {
            "colorbar": {
             "outlinewidth": 0,
             "ticks": ""
            },
            "colorscale": [
             [
              0,
              "#0d0887"
             ],
             [
              0.1111111111111111,
              "#46039f"
             ],
             [
              0.2222222222222222,
              "#7201a8"
             ],
             [
              0.3333333333333333,
              "#9c179e"
             ],
             [
              0.4444444444444444,
              "#bd3786"
             ],
             [
              0.5555555555555556,
              "#d8576b"
             ],
             [
              0.6666666666666666,
              "#ed7953"
             ],
             [
              0.7777777777777778,
              "#fb9f3a"
             ],
             [
              0.8888888888888888,
              "#fdca26"
             ],
             [
              1,
              "#f0f921"
             ]
            ],
            "type": "histogram2d"
           }
          ],
          "histogram2dcontour": [
           {
            "colorbar": {
             "outlinewidth": 0,
             "ticks": ""
            },
            "colorscale": [
             [
              0,
              "#0d0887"
             ],
             [
              0.1111111111111111,
              "#46039f"
             ],
             [
              0.2222222222222222,
              "#7201a8"
             ],
             [
              0.3333333333333333,
              "#9c179e"
             ],
             [
              0.4444444444444444,
              "#bd3786"
             ],
             [
              0.5555555555555556,
              "#d8576b"
             ],
             [
              0.6666666666666666,
              "#ed7953"
             ],
             [
              0.7777777777777778,
              "#fb9f3a"
             ],
             [
              0.8888888888888888,
              "#fdca26"
             ],
             [
              1,
              "#f0f921"
             ]
            ],
            "type": "histogram2dcontour"
           }
          ],
          "mesh3d": [
           {
            "colorbar": {
             "outlinewidth": 0,
             "ticks": ""
            },
            "type": "mesh3d"
           }
          ],
          "parcoords": [
           {
            "line": {
             "colorbar": {
              "outlinewidth": 0,
              "ticks": ""
             }
            },
            "type": "parcoords"
           }
          ],
          "pie": [
           {
            "automargin": true,
            "type": "pie"
           }
          ],
          "scatter": [
           {
            "fillpattern": {
             "fillmode": "overlay",
             "size": 10,
             "solidity": 0.2
            },
            "type": "scatter"
           }
          ],
          "scatter3d": [
           {
            "line": {
             "colorbar": {
              "outlinewidth": 0,
              "ticks": ""
             }
            },
            "marker": {
             "colorbar": {
              "outlinewidth": 0,
              "ticks": ""
             }
            },
            "type": "scatter3d"
           }
          ],
          "scattercarpet": [
           {
            "marker": {
             "colorbar": {
              "outlinewidth": 0,
              "ticks": ""
             }
            },
            "type": "scattercarpet"
           }
          ],
          "scattergeo": [
           {
            "marker": {
             "colorbar": {
              "outlinewidth": 0,
              "ticks": ""
             }
            },
            "type": "scattergeo"
           }
          ],
          "scattergl": [
           {
            "marker": {
             "colorbar": {
              "outlinewidth": 0,
              "ticks": ""
             }
            },
            "type": "scattergl"
           }
          ],
          "scattermapbox": [
           {
            "marker": {
             "colorbar": {
              "outlinewidth": 0,
              "ticks": ""
             }
            },
            "type": "scattermapbox"
           }
          ],
          "scatterpolar": [
           {
            "marker": {
             "colorbar": {
              "outlinewidth": 0,
              "ticks": ""
             }
            },
            "type": "scatterpolar"
           }
          ],
          "scatterpolargl": [
           {
            "marker": {
             "colorbar": {
              "outlinewidth": 0,
              "ticks": ""
             }
            },
            "type": "scatterpolargl"
           }
          ],
          "scatterternary": [
           {
            "marker": {
             "colorbar": {
              "outlinewidth": 0,
              "ticks": ""
             }
            },
            "type": "scatterternary"
           }
          ],
          "surface": [
           {
            "colorbar": {
             "outlinewidth": 0,
             "ticks": ""
            },
            "colorscale": [
             [
              0,
              "#0d0887"
             ],
             [
              0.1111111111111111,
              "#46039f"
             ],
             [
              0.2222222222222222,
              "#7201a8"
             ],
             [
              0.3333333333333333,
              "#9c179e"
             ],
             [
              0.4444444444444444,
              "#bd3786"
             ],
             [
              0.5555555555555556,
              "#d8576b"
             ],
             [
              0.6666666666666666,
              "#ed7953"
             ],
             [
              0.7777777777777778,
              "#fb9f3a"
             ],
             [
              0.8888888888888888,
              "#fdca26"
             ],
             [
              1,
              "#f0f921"
             ]
            ],
            "type": "surface"
           }
          ],
          "table": [
           {
            "cells": {
             "fill": {
              "color": "#EBF0F8"
             },
             "line": {
              "color": "white"
             }
            },
            "header": {
             "fill": {
              "color": "#C8D4E3"
             },
             "line": {
              "color": "white"
             }
            },
            "type": "table"
           }
          ]
         },
         "layout": {
          "annotationdefaults": {
           "arrowcolor": "#2a3f5f",
           "arrowhead": 0,
           "arrowwidth": 1
          },
          "autotypenumbers": "strict",
          "coloraxis": {
           "colorbar": {
            "outlinewidth": 0,
            "ticks": ""
           }
          },
          "colorscale": {
           "diverging": [
            [
             0,
             "#8e0152"
            ],
            [
             0.1,
             "#c51b7d"
            ],
            [
             0.2,
             "#de77ae"
            ],
            [
             0.3,
             "#f1b6da"
            ],
            [
             0.4,
             "#fde0ef"
            ],
            [
             0.5,
             "#f7f7f7"
            ],
            [
             0.6,
             "#e6f5d0"
            ],
            [
             0.7,
             "#b8e186"
            ],
            [
             0.8,
             "#7fbc41"
            ],
            [
             0.9,
             "#4d9221"
            ],
            [
             1,
             "#276419"
            ]
           ],
           "sequential": [
            [
             0,
             "#0d0887"
            ],
            [
             0.1111111111111111,
             "#46039f"
            ],
            [
             0.2222222222222222,
             "#7201a8"
            ],
            [
             0.3333333333333333,
             "#9c179e"
            ],
            [
             0.4444444444444444,
             "#bd3786"
            ],
            [
             0.5555555555555556,
             "#d8576b"
            ],
            [
             0.6666666666666666,
             "#ed7953"
            ],
            [
             0.7777777777777778,
             "#fb9f3a"
            ],
            [
             0.8888888888888888,
             "#fdca26"
            ],
            [
             1,
             "#f0f921"
            ]
           ],
           "sequentialminus": [
            [
             0,
             "#0d0887"
            ],
            [
             0.1111111111111111,
             "#46039f"
            ],
            [
             0.2222222222222222,
             "#7201a8"
            ],
            [
             0.3333333333333333,
             "#9c179e"
            ],
            [
             0.4444444444444444,
             "#bd3786"
            ],
            [
             0.5555555555555556,
             "#d8576b"
            ],
            [
             0.6666666666666666,
             "#ed7953"
            ],
            [
             0.7777777777777778,
             "#fb9f3a"
            ],
            [
             0.8888888888888888,
             "#fdca26"
            ],
            [
             1,
             "#f0f921"
            ]
           ]
          },
          "colorway": [
           "#636efa",
           "#EF553B",
           "#00cc96",
           "#ab63fa",
           "#FFA15A",
           "#19d3f3",
           "#FF6692",
           "#B6E880",
           "#FF97FF",
           "#FECB52"
          ],
          "font": {
           "color": "#2a3f5f"
          },
          "geo": {
           "bgcolor": "white",
           "lakecolor": "white",
           "landcolor": "#E5ECF6",
           "showlakes": true,
           "showland": true,
           "subunitcolor": "white"
          },
          "hoverlabel": {
           "align": "left"
          },
          "hovermode": "closest",
          "mapbox": {
           "style": "light"
          },
          "paper_bgcolor": "white",
          "plot_bgcolor": "#E5ECF6",
          "polar": {
           "angularaxis": {
            "gridcolor": "white",
            "linecolor": "white",
            "ticks": ""
           },
           "bgcolor": "#E5ECF6",
           "radialaxis": {
            "gridcolor": "white",
            "linecolor": "white",
            "ticks": ""
           }
          },
          "scene": {
           "xaxis": {
            "backgroundcolor": "#E5ECF6",
            "gridcolor": "white",
            "gridwidth": 2,
            "linecolor": "white",
            "showbackground": true,
            "ticks": "",
            "zerolinecolor": "white"
           },
           "yaxis": {
            "backgroundcolor": "#E5ECF6",
            "gridcolor": "white",
            "gridwidth": 2,
            "linecolor": "white",
            "showbackground": true,
            "ticks": "",
            "zerolinecolor": "white"
           },
           "zaxis": {
            "backgroundcolor": "#E5ECF6",
            "gridcolor": "white",
            "gridwidth": 2,
            "linecolor": "white",
            "showbackground": true,
            "ticks": "",
            "zerolinecolor": "white"
           }
          },
          "shapedefaults": {
           "line": {
            "color": "#2a3f5f"
           }
          },
          "ternary": {
           "aaxis": {
            "gridcolor": "white",
            "linecolor": "white",
            "ticks": ""
           },
           "baxis": {
            "gridcolor": "white",
            "linecolor": "white",
            "ticks": ""
           },
           "bgcolor": "#E5ECF6",
           "caxis": {
            "gridcolor": "white",
            "linecolor": "white",
            "ticks": ""
           }
          },
          "title": {
           "x": 0.05
          },
          "xaxis": {
           "automargin": true,
           "gridcolor": "white",
           "linecolor": "white",
           "ticks": "",
           "title": {
            "standoff": 15
           },
           "zerolinecolor": "white",
           "zerolinewidth": 2
          },
          "yaxis": {
           "automargin": true,
           "gridcolor": "white",
           "linecolor": "white",
           "ticks": "",
           "title": {
            "standoff": 15
           },
           "zerolinecolor": "white",
           "zerolinewidth": 2
          }
         }
        },
        "title": {
         "text": "Dendrograma das Variáveis Independentes"
        },
        "width": 1200,
        "xaxis": {
         "automargin": true,
         "mirror": "allticks",
         "rangemode": "tozero",
         "showgrid": false,
         "showline": true,
         "showticklabels": true,
         "tickangle": -90,
         "tickfont": {
          "size": 10
         },
         "tickmode": "array",
         "ticks": "outside",
         "ticktext": [
          "destaque_ieg_resultado_encoded",
          "destaque_ipv_resultado_encoded",
          "destaque_ida_resultado_encoded",
          "predra_Topázio",
          "ida",
          "ieg",
          "ipv",
          "ponto_virada_encoded",
          "iaa",
          "diff_fase",
          "ian",
          "predra_Ametista",
          "bolsa_Encoded",
          "rec_sintese",
          "ips",
          "ipp",
          "qtd_aval",
          "anos_pm",
          "sexo_Encoded",
          "predra_Quartzo",
          "idade",
          "predra_Ágata"
         ],
         "tickvals": [
          5,
          15,
          25,
          35,
          45,
          55,
          65,
          75,
          85,
          95,
          105,
          115,
          125,
          135,
          145,
          155,
          165,
          175,
          185,
          195,
          205,
          215
         ],
         "title": {
          "text": "Variáveis"
         },
         "type": "linear",
         "zeroline": false
        },
        "yaxis": {
         "mirror": "allticks",
         "rangemode": "tozero",
         "showgrid": false,
         "showline": true,
         "showticklabels": true,
         "ticks": "outside",
         "title": {
          "text": "Distância"
         },
         "type": "linear",
         "zeroline": false
        }
       }
      },
      "text/html": [
       "<div>                            <div id=\"881a40f6-2d53-4fb7-84ab-ae9429acd347\" class=\"plotly-graph-div\" style=\"height:600px; width:1200px;\"></div>            <script type=\"text/javascript\">                require([\"plotly\"], function(Plotly) {                    window.PLOTLYENV=window.PLOTLYENV || {};                                    if (document.getElementById(\"881a40f6-2d53-4fb7-84ab-ae9429acd347\")) {                    Plotly.newPlot(                        \"881a40f6-2d53-4fb7-84ab-ae9429acd347\",                        [{\"hoverinfo\":\"text\",\"marker\":{\"color\":\"rgb(61,153,112)\"},\"mode\":\"lines\",\"x\":[25.0,25.0,35.0,35.0],\"xaxis\":\"x\",\"y\":[0.0,0.0006809582282134574,0.0006809582282134574,0.0],\"yaxis\":\"y\",\"type\":\"scatter\"},{\"hoverinfo\":\"text\",\"marker\":{\"color\":\"rgb(61,153,112)\"},\"mode\":\"lines\",\"x\":[15.0,15.0,30.0,30.0],\"xaxis\":\"x\",\"y\":[0.0,0.005865277819057657,0.005865277819057657,0.0006809582282134574],\"yaxis\":\"y\",\"type\":\"scatter\"},{\"hoverinfo\":\"text\",\"marker\":{\"color\":\"rgb(61,153,112)\"},\"mode\":\"lines\",\"x\":[5.0,5.0,22.5,22.5],\"xaxis\":\"x\",\"y\":[0.0,0.03071520387584777,0.03071520387584777,0.005865277819057657],\"yaxis\":\"y\",\"type\":\"scatter\"},{\"hoverinfo\":\"text\",\"marker\":{\"color\":\"rgb(61,153,112)\"},\"mode\":\"lines\",\"x\":[55.0,55.0,65.0,65.0],\"xaxis\":\"x\",\"y\":[0.0,0.015925246113901226,0.015925246113901226,0.0],\"yaxis\":\"y\",\"type\":\"scatter\"},{\"hoverinfo\":\"text\",\"marker\":{\"color\":\"rgb(61,153,112)\"},\"mode\":\"lines\",\"x\":[45.0,45.0,60.0,60.0],\"xaxis\":\"x\",\"y\":[0.0,0.05865949735858733,0.05865949735858733,0.015925246113901226],\"yaxis\":\"y\",\"type\":\"scatter\"},{\"hoverinfo\":\"text\",\"marker\":{\"color\":\"rgb(61,153,112)\"},\"mode\":\"lines\",\"x\":[13.75,13.75,52.5,52.5],\"xaxis\":\"x\",\"y\":[0.03071520387584777,0.13967467370468867,0.13967467370468867,0.05865949735858733],\"yaxis\":\"y\",\"type\":\"scatter\"},{\"hoverinfo\":\"text\",\"marker\":{\"color\":\"rgb(61,153,112)\"},\"mode\":\"lines\",\"x\":[105.0,105.0,115.0,115.0],\"xaxis\":\"x\",\"y\":[0.0,0.001362435174929344,0.001362435174929344,0.0],\"yaxis\":\"y\",\"type\":\"scatter\"},{\"hoverinfo\":\"text\",\"marker\":{\"color\":\"rgb(61,153,112)\"},\"mode\":\"lines\",\"x\":[95.0,95.0,110.0,110.0],\"xaxis\":\"x\",\"y\":[0.0,0.0034569919219366307,0.0034569919219366307,0.001362435174929344],\"yaxis\":\"y\",\"type\":\"scatter\"},{\"hoverinfo\":\"text\",\"marker\":{\"color\":\"rgb(61,153,112)\"},\"mode\":\"lines\",\"x\":[85.0,85.0,102.5,102.5],\"xaxis\":\"x\",\"y\":[0.0,0.02290791629822375,0.02290791629822375,0.0034569919219366307],\"yaxis\":\"y\",\"type\":\"scatter\"},{\"hoverinfo\":\"text\",\"marker\":{\"color\":\"rgb(61,153,112)\"},\"mode\":\"lines\",\"x\":[75.0,75.0,93.75,93.75],\"xaxis\":\"x\",\"y\":[0.0,0.060529556689936814,0.060529556689936814,0.02290791629822375],\"yaxis\":\"y\",\"type\":\"scatter\"},{\"hoverinfo\":\"text\",\"marker\":{\"color\":\"rgb(61,153,112)\"},\"mode\":\"lines\",\"x\":[145.0,145.0,155.0,155.0],\"xaxis\":\"x\",\"y\":[0.0,0.025260424817021065,0.025260424817021065,0.0],\"yaxis\":\"y\",\"type\":\"scatter\"},{\"hoverinfo\":\"text\",\"marker\":{\"color\":\"rgb(61,153,112)\"},\"mode\":\"lines\",\"x\":[135.0,135.0,150.0,150.0],\"xaxis\":\"x\",\"y\":[0.0,0.06131807561739744,0.06131807561739744,0.025260424817021065],\"yaxis\":\"y\",\"type\":\"scatter\"},{\"hoverinfo\":\"text\",\"marker\":{\"color\":\"rgb(61,153,112)\"},\"mode\":\"lines\",\"x\":[125.0,125.0,142.5,142.5],\"xaxis\":\"x\",\"y\":[0.0,0.11446619016886354,0.11446619016886354,0.06131807561739744],\"yaxis\":\"y\",\"type\":\"scatter\"},{\"hoverinfo\":\"text\",\"marker\":{\"color\":\"rgb(61,153,112)\"},\"mode\":\"lines\",\"x\":[84.375,84.375,133.75,133.75],\"xaxis\":\"x\",\"y\":[0.060529556689936814,0.169740439755748,0.169740439755748,0.11446619016886354],\"yaxis\":\"y\",\"type\":\"scatter\"},{\"hoverinfo\":\"text\",\"marker\":{\"color\":\"rgb(61,153,112)\"},\"mode\":\"lines\",\"x\":[33.125,33.125,109.0625,109.0625],\"xaxis\":\"x\",\"y\":[0.13967467370468867,0.338580261375124,0.338580261375124,0.169740439755748],\"yaxis\":\"y\",\"type\":\"scatter\"},{\"hoverinfo\":\"text\",\"marker\":{\"color\":\"rgb(255,65,54)\"},\"mode\":\"lines\",\"x\":[175.0,175.0,185.0,185.0],\"xaxis\":\"x\",\"y\":[0.0,0.08404738565765982,0.08404738565765982,0.0],\"yaxis\":\"y\",\"type\":\"scatter\"},{\"hoverinfo\":\"text\",\"marker\":{\"color\":\"rgb(255,65,54)\"},\"mode\":\"lines\",\"x\":[165.0,165.0,180.0,180.0],\"xaxis\":\"x\",\"y\":[0.0,0.14638239817800586,0.14638239817800586,0.08404738565765982],\"yaxis\":\"y\",\"type\":\"scatter\"},{\"hoverinfo\":\"text\",\"marker\":{\"color\":\"rgb(255,65,54)\"},\"mode\":\"lines\",\"x\":[205.0,205.0,215.0,215.0],\"xaxis\":\"x\",\"y\":[0.0,0.08198924407623692,0.08198924407623692,0.0],\"yaxis\":\"y\",\"type\":\"scatter\"},{\"hoverinfo\":\"text\",\"marker\":{\"color\":\"rgb(255,65,54)\"},\"mode\":\"lines\",\"x\":[195.0,195.0,210.0,210.0],\"xaxis\":\"x\",\"y\":[0.0,0.22679810363739264,0.22679810363739264,0.08198924407623692],\"yaxis\":\"y\",\"type\":\"scatter\"},{\"hoverinfo\":\"text\",\"marker\":{\"color\":\"rgb(255,65,54)\"},\"mode\":\"lines\",\"x\":[172.5,172.5,202.5,202.5],\"xaxis\":\"x\",\"y\":[0.14638239817800586,0.395853819541168,0.395853819541168,0.22679810363739264],\"yaxis\":\"y\",\"type\":\"scatter\"},{\"hoverinfo\":\"text\",\"marker\":{\"color\":\"rgb(0,116,217)\"},\"mode\":\"lines\",\"x\":[71.09375,71.09375,187.5,187.5],\"xaxis\":\"x\",\"y\":[0.338580261375124,0.7770025871571714,0.7770025871571714,0.395853819541168],\"yaxis\":\"y\",\"type\":\"scatter\"}],                        {\"autosize\":false,\"height\":600,\"hovermode\":\"closest\",\"showlegend\":false,\"width\":1200,\"xaxis\":{\"mirror\":\"allticks\",\"rangemode\":\"tozero\",\"showgrid\":false,\"showline\":true,\"showticklabels\":true,\"tickmode\":\"array\",\"ticks\":\"outside\",\"ticktext\":[\"destaque_ieg_resultado_encoded\",\"destaque_ipv_resultado_encoded\",\"destaque_ida_resultado_encoded\",\"predra_Topázio\",\"ida\",\"ieg\",\"ipv\",\"ponto_virada_encoded\",\"iaa\",\"diff_fase\",\"ian\",\"predra_Ametista\",\"bolsa_Encoded\",\"rec_sintese\",\"ips\",\"ipp\",\"qtd_aval\",\"anos_pm\",\"sexo_Encoded\",\"predra_Quartzo\",\"idade\",\"predra_Ágata\"],\"tickvals\":[5.0,15.0,25.0,35.0,45.0,55.0,65.0,75.0,85.0,95.0,105.0,115.0,125.0,135.0,145.0,155.0,165.0,175.0,185.0,195.0,205.0,215.0],\"type\":\"linear\",\"zeroline\":false,\"tickfont\":{\"size\":10},\"title\":{\"text\":\"Variáveis\"},\"tickangle\":-90,\"automargin\":true},\"yaxis\":{\"mirror\":\"allticks\",\"rangemode\":\"tozero\",\"showgrid\":false,\"showline\":true,\"showticklabels\":true,\"ticks\":\"outside\",\"type\":\"linear\",\"zeroline\":false,\"title\":{\"text\":\"Distância\"}},\"template\":{\"data\":{\"histogram2dcontour\":[{\"type\":\"histogram2dcontour\",\"colorbar\":{\"outlinewidth\":0,\"ticks\":\"\"},\"colorscale\":[[0.0,\"#0d0887\"],[0.1111111111111111,\"#46039f\"],[0.2222222222222222,\"#7201a8\"],[0.3333333333333333,\"#9c179e\"],[0.4444444444444444,\"#bd3786\"],[0.5555555555555556,\"#d8576b\"],[0.6666666666666666,\"#ed7953\"],[0.7777777777777778,\"#fb9f3a\"],[0.8888888888888888,\"#fdca26\"],[1.0,\"#f0f921\"]]}],\"choropleth\":[{\"type\":\"choropleth\",\"colorbar\":{\"outlinewidth\":0,\"ticks\":\"\"}}],\"histogram2d\":[{\"type\":\"histogram2d\",\"colorbar\":{\"outlinewidth\":0,\"ticks\":\"\"},\"colorscale\":[[0.0,\"#0d0887\"],[0.1111111111111111,\"#46039f\"],[0.2222222222222222,\"#7201a8\"],[0.3333333333333333,\"#9c179e\"],[0.4444444444444444,\"#bd3786\"],[0.5555555555555556,\"#d8576b\"],[0.6666666666666666,\"#ed7953\"],[0.7777777777777778,\"#fb9f3a\"],[0.8888888888888888,\"#fdca26\"],[1.0,\"#f0f921\"]]}],\"heatmap\":[{\"type\":\"heatmap\",\"colorbar\":{\"outlinewidth\":0,\"ticks\":\"\"},\"colorscale\":[[0.0,\"#0d0887\"],[0.1111111111111111,\"#46039f\"],[0.2222222222222222,\"#7201a8\"],[0.3333333333333333,\"#9c179e\"],[0.4444444444444444,\"#bd3786\"],[0.5555555555555556,\"#d8576b\"],[0.6666666666666666,\"#ed7953\"],[0.7777777777777778,\"#fb9f3a\"],[0.8888888888888888,\"#fdca26\"],[1.0,\"#f0f921\"]]}],\"heatmapgl\":[{\"type\":\"heatmapgl\",\"colorbar\":{\"outlinewidth\":0,\"ticks\":\"\"},\"colorscale\":[[0.0,\"#0d0887\"],[0.1111111111111111,\"#46039f\"],[0.2222222222222222,\"#7201a8\"],[0.3333333333333333,\"#9c179e\"],[0.4444444444444444,\"#bd3786\"],[0.5555555555555556,\"#d8576b\"],[0.6666666666666666,\"#ed7953\"],[0.7777777777777778,\"#fb9f3a\"],[0.8888888888888888,\"#fdca26\"],[1.0,\"#f0f921\"]]}],\"contourcarpet\":[{\"type\":\"contourcarpet\",\"colorbar\":{\"outlinewidth\":0,\"ticks\":\"\"}}],\"contour\":[{\"type\":\"contour\",\"colorbar\":{\"outlinewidth\":0,\"ticks\":\"\"},\"colorscale\":[[0.0,\"#0d0887\"],[0.1111111111111111,\"#46039f\"],[0.2222222222222222,\"#7201a8\"],[0.3333333333333333,\"#9c179e\"],[0.4444444444444444,\"#bd3786\"],[0.5555555555555556,\"#d8576b\"],[0.6666666666666666,\"#ed7953\"],[0.7777777777777778,\"#fb9f3a\"],[0.8888888888888888,\"#fdca26\"],[1.0,\"#f0f921\"]]}],\"surface\":[{\"type\":\"surface\",\"colorbar\":{\"outlinewidth\":0,\"ticks\":\"\"},\"colorscale\":[[0.0,\"#0d0887\"],[0.1111111111111111,\"#46039f\"],[0.2222222222222222,\"#7201a8\"],[0.3333333333333333,\"#9c179e\"],[0.4444444444444444,\"#bd3786\"],[0.5555555555555556,\"#d8576b\"],[0.6666666666666666,\"#ed7953\"],[0.7777777777777778,\"#fb9f3a\"],[0.8888888888888888,\"#fdca26\"],[1.0,\"#f0f921\"]]}],\"mesh3d\":[{\"type\":\"mesh3d\",\"colorbar\":{\"outlinewidth\":0,\"ticks\":\"\"}}],\"scatter\":[{\"fillpattern\":{\"fillmode\":\"overlay\",\"size\":10,\"solidity\":0.2},\"type\":\"scatter\"}],\"parcoords\":[{\"type\":\"parcoords\",\"line\":{\"colorbar\":{\"outlinewidth\":0,\"ticks\":\"\"}}}],\"scatterpolargl\":[{\"type\":\"scatterpolargl\",\"marker\":{\"colorbar\":{\"outlinewidth\":0,\"ticks\":\"\"}}}],\"bar\":[{\"error_x\":{\"color\":\"#2a3f5f\"},\"error_y\":{\"color\":\"#2a3f5f\"},\"marker\":{\"line\":{\"color\":\"#E5ECF6\",\"width\":0.5},\"pattern\":{\"fillmode\":\"overlay\",\"size\":10,\"solidity\":0.2}},\"type\":\"bar\"}],\"scattergeo\":[{\"type\":\"scattergeo\",\"marker\":{\"colorbar\":{\"outlinewidth\":0,\"ticks\":\"\"}}}],\"scatterpolar\":[{\"type\":\"scatterpolar\",\"marker\":{\"colorbar\":{\"outlinewidth\":0,\"ticks\":\"\"}}}],\"histogram\":[{\"marker\":{\"pattern\":{\"fillmode\":\"overlay\",\"size\":10,\"solidity\":0.2}},\"type\":\"histogram\"}],\"scattergl\":[{\"type\":\"scattergl\",\"marker\":{\"colorbar\":{\"outlinewidth\":0,\"ticks\":\"\"}}}],\"scatter3d\":[{\"type\":\"scatter3d\",\"line\":{\"colorbar\":{\"outlinewidth\":0,\"ticks\":\"\"}},\"marker\":{\"colorbar\":{\"outlinewidth\":0,\"ticks\":\"\"}}}],\"scattermapbox\":[{\"type\":\"scattermapbox\",\"marker\":{\"colorbar\":{\"outlinewidth\":0,\"ticks\":\"\"}}}],\"scatterternary\":[{\"type\":\"scatterternary\",\"marker\":{\"colorbar\":{\"outlinewidth\":0,\"ticks\":\"\"}}}],\"scattercarpet\":[{\"type\":\"scattercarpet\",\"marker\":{\"colorbar\":{\"outlinewidth\":0,\"ticks\":\"\"}}}],\"carpet\":[{\"aaxis\":{\"endlinecolor\":\"#2a3f5f\",\"gridcolor\":\"white\",\"linecolor\":\"white\",\"minorgridcolor\":\"white\",\"startlinecolor\":\"#2a3f5f\"},\"baxis\":{\"endlinecolor\":\"#2a3f5f\",\"gridcolor\":\"white\",\"linecolor\":\"white\",\"minorgridcolor\":\"white\",\"startlinecolor\":\"#2a3f5f\"},\"type\":\"carpet\"}],\"table\":[{\"cells\":{\"fill\":{\"color\":\"#EBF0F8\"},\"line\":{\"color\":\"white\"}},\"header\":{\"fill\":{\"color\":\"#C8D4E3\"},\"line\":{\"color\":\"white\"}},\"type\":\"table\"}],\"barpolar\":[{\"marker\":{\"line\":{\"color\":\"#E5ECF6\",\"width\":0.5},\"pattern\":{\"fillmode\":\"overlay\",\"size\":10,\"solidity\":0.2}},\"type\":\"barpolar\"}],\"pie\":[{\"automargin\":true,\"type\":\"pie\"}]},\"layout\":{\"autotypenumbers\":\"strict\",\"colorway\":[\"#636efa\",\"#EF553B\",\"#00cc96\",\"#ab63fa\",\"#FFA15A\",\"#19d3f3\",\"#FF6692\",\"#B6E880\",\"#FF97FF\",\"#FECB52\"],\"font\":{\"color\":\"#2a3f5f\"},\"hovermode\":\"closest\",\"hoverlabel\":{\"align\":\"left\"},\"paper_bgcolor\":\"white\",\"plot_bgcolor\":\"#E5ECF6\",\"polar\":{\"bgcolor\":\"#E5ECF6\",\"angularaxis\":{\"gridcolor\":\"white\",\"linecolor\":\"white\",\"ticks\":\"\"},\"radialaxis\":{\"gridcolor\":\"white\",\"linecolor\":\"white\",\"ticks\":\"\"}},\"ternary\":{\"bgcolor\":\"#E5ECF6\",\"aaxis\":{\"gridcolor\":\"white\",\"linecolor\":\"white\",\"ticks\":\"\"},\"baxis\":{\"gridcolor\":\"white\",\"linecolor\":\"white\",\"ticks\":\"\"},\"caxis\":{\"gridcolor\":\"white\",\"linecolor\":\"white\",\"ticks\":\"\"}},\"coloraxis\":{\"colorbar\":{\"outlinewidth\":0,\"ticks\":\"\"}},\"colorscale\":{\"sequential\":[[0.0,\"#0d0887\"],[0.1111111111111111,\"#46039f\"],[0.2222222222222222,\"#7201a8\"],[0.3333333333333333,\"#9c179e\"],[0.4444444444444444,\"#bd3786\"],[0.5555555555555556,\"#d8576b\"],[0.6666666666666666,\"#ed7953\"],[0.7777777777777778,\"#fb9f3a\"],[0.8888888888888888,\"#fdca26\"],[1.0,\"#f0f921\"]],\"sequentialminus\":[[0.0,\"#0d0887\"],[0.1111111111111111,\"#46039f\"],[0.2222222222222222,\"#7201a8\"],[0.3333333333333333,\"#9c179e\"],[0.4444444444444444,\"#bd3786\"],[0.5555555555555556,\"#d8576b\"],[0.6666666666666666,\"#ed7953\"],[0.7777777777777778,\"#fb9f3a\"],[0.8888888888888888,\"#fdca26\"],[1.0,\"#f0f921\"]],\"diverging\":[[0,\"#8e0152\"],[0.1,\"#c51b7d\"],[0.2,\"#de77ae\"],[0.3,\"#f1b6da\"],[0.4,\"#fde0ef\"],[0.5,\"#f7f7f7\"],[0.6,\"#e6f5d0\"],[0.7,\"#b8e186\"],[0.8,\"#7fbc41\"],[0.9,\"#4d9221\"],[1,\"#276419\"]]},\"xaxis\":{\"gridcolor\":\"white\",\"linecolor\":\"white\",\"ticks\":\"\",\"title\":{\"standoff\":15},\"zerolinecolor\":\"white\",\"automargin\":true,\"zerolinewidth\":2},\"yaxis\":{\"gridcolor\":\"white\",\"linecolor\":\"white\",\"ticks\":\"\",\"title\":{\"standoff\":15},\"zerolinecolor\":\"white\",\"automargin\":true,\"zerolinewidth\":2},\"scene\":{\"xaxis\":{\"backgroundcolor\":\"#E5ECF6\",\"gridcolor\":\"white\",\"linecolor\":\"white\",\"showbackground\":true,\"ticks\":\"\",\"zerolinecolor\":\"white\",\"gridwidth\":2},\"yaxis\":{\"backgroundcolor\":\"#E5ECF6\",\"gridcolor\":\"white\",\"linecolor\":\"white\",\"showbackground\":true,\"ticks\":\"\",\"zerolinecolor\":\"white\",\"gridwidth\":2},\"zaxis\":{\"backgroundcolor\":\"#E5ECF6\",\"gridcolor\":\"white\",\"linecolor\":\"white\",\"showbackground\":true,\"ticks\":\"\",\"zerolinecolor\":\"white\",\"gridwidth\":2}},\"shapedefaults\":{\"line\":{\"color\":\"#2a3f5f\"}},\"annotationdefaults\":{\"arrowcolor\":\"#2a3f5f\",\"arrowhead\":0,\"arrowwidth\":1},\"geo\":{\"bgcolor\":\"white\",\"landcolor\":\"#E5ECF6\",\"subunitcolor\":\"white\",\"showland\":true,\"showlakes\":true,\"lakecolor\":\"white\"},\"title\":{\"x\":0.05},\"mapbox\":{\"style\":\"light\"}}},\"margin\":{\"b\":200},\"title\":{\"text\":\"Dendrograma das Variáveis Independentes\"}},                        {\"responsive\": true}                    ).then(function(){\n",
       "                            \n",
       "var gd = document.getElementById('881a40f6-2d53-4fb7-84ab-ae9429acd347');\n",
       "var x = new MutationObserver(function (mutations, observer) {{\n",
       "        var display = window.getComputedStyle(gd).display;\n",
       "        if (!display || display === 'none') {{\n",
       "            console.log([gd, 'removed!']);\n",
       "            Plotly.purge(gd);\n",
       "            observer.disconnect();\n",
       "        }}\n",
       "}});\n",
       "\n",
       "// Listen for the removal of the full notebook cells\n",
       "var notebookContainer = gd.closest('#notebook-container');\n",
       "if (notebookContainer) {{\n",
       "    x.observe(notebookContainer, {childList: true});\n",
       "}}\n",
       "\n",
       "// Listen for the clearing of the current output cell\n",
       "var outputEl = gd.closest('.output');\n",
       "if (outputEl) {{\n",
       "    x.observe(outputEl, {childList: true});\n",
       "}}\n",
       "\n",
       "                        })                };                });            </script>        </div>"
      ]
     },
     "metadata": {},
     "output_type": "display_data"
    }
   ],
   "source": [
    "import plotly.figure_factory as ff\n",
    "\n",
    "# Converter as correlações em um array numpy\n",
    "correlacoes_array = np.array(correlacoes)\n",
    "\n",
    "# Calcular a matriz de distância usando a diferença absoluta\n",
    "distancias = pdist(correlacoes_array.reshape(-1, 1), metric=\"cityblock\")\n",
    "\n",
    "# Realizar a clusterização hierárquica\n",
    "Z = linkage(distancias, method=\"average\")\n",
    "\n",
    "# Criar o dendrograma usando Plotly\n",
    "fig = ff.create_dendrogram(\n",
    "    correlacoes_array.reshape(-1, 1),\n",
    "    orientation=\"bottom\",\n",
    "    labels=variaveis_independentes,\n",
    "    linkagefun=lambda x: linkage(x, method=\"average\", metric=\"cityblock\"),\n",
    ")\n",
    "\n",
    "# Ajustar o layout para evitar sobreposição das legendas\n",
    "fig.update_layout(\n",
    "    width=1200,\n",
    "    height=600,\n",
    "    title=\"Dendrograma das Variáveis Independentes\",\n",
    "    xaxis_title=\"Variáveis\",\n",
    "    yaxis_title=\"Distância\",\n",
    "    xaxis=dict(tickangle=-90, tickfont=dict(size=10), automargin=True),\n",
    "    margin=dict(b=200),\n",
    ")\n",
    "\n",
    "# Exibir o dendrograma\n",
    "fig.show()\n"
   ]
  },
  {
   "cell_type": "code",
   "execution_count": 59,
   "metadata": {},
   "outputs": [
    {
     "data": {
      "application/vnd.plotly.v1+json": {
       "config": {
        "plotlyServerURL": "https://plot.ly"
       },
       "data": [
        {
         "line": {
          "dash": "solid"
         },
         "marker": {
          "color": "blue"
         },
         "mode": "lines+markers",
         "name": "Inércia",
         "type": "scatter",
         "x": [
          1,
          2,
          3,
          4,
          5,
          6,
          7,
          8,
          9
         ],
         "y": [
          3.4929810584954915,
          0.8585096965364899,
          0.40712811005215377,
          0.17207774038415646,
          0.150865045260616,
          0.11742102044716816,
          0.08127167759356678,
          0.027965455153990834,
          0.016203783426470563
         ]
        }
       ],
       "layout": {
        "template": {
         "data": {
          "bar": [
           {
            "error_x": {
             "color": "#2a3f5f"
            },
            "error_y": {
             "color": "#2a3f5f"
            },
            "marker": {
             "line": {
              "color": "white",
              "width": 0.5
             },
             "pattern": {
              "fillmode": "overlay",
              "size": 10,
              "solidity": 0.2
             }
            },
            "type": "bar"
           }
          ],
          "barpolar": [
           {
            "marker": {
             "line": {
              "color": "white",
              "width": 0.5
             },
             "pattern": {
              "fillmode": "overlay",
              "size": 10,
              "solidity": 0.2
             }
            },
            "type": "barpolar"
           }
          ],
          "carpet": [
           {
            "aaxis": {
             "endlinecolor": "#2a3f5f",
             "gridcolor": "#C8D4E3",
             "linecolor": "#C8D4E3",
             "minorgridcolor": "#C8D4E3",
             "startlinecolor": "#2a3f5f"
            },
            "baxis": {
             "endlinecolor": "#2a3f5f",
             "gridcolor": "#C8D4E3",
             "linecolor": "#C8D4E3",
             "minorgridcolor": "#C8D4E3",
             "startlinecolor": "#2a3f5f"
            },
            "type": "carpet"
           }
          ],
          "choropleth": [
           {
            "colorbar": {
             "outlinewidth": 0,
             "ticks": ""
            },
            "type": "choropleth"
           }
          ],
          "contour": [
           {
            "colorbar": {
             "outlinewidth": 0,
             "ticks": ""
            },
            "colorscale": [
             [
              0,
              "#0d0887"
             ],
             [
              0.1111111111111111,
              "#46039f"
             ],
             [
              0.2222222222222222,
              "#7201a8"
             ],
             [
              0.3333333333333333,
              "#9c179e"
             ],
             [
              0.4444444444444444,
              "#bd3786"
             ],
             [
              0.5555555555555556,
              "#d8576b"
             ],
             [
              0.6666666666666666,
              "#ed7953"
             ],
             [
              0.7777777777777778,
              "#fb9f3a"
             ],
             [
              0.8888888888888888,
              "#fdca26"
             ],
             [
              1,
              "#f0f921"
             ]
            ],
            "type": "contour"
           }
          ],
          "contourcarpet": [
           {
            "colorbar": {
             "outlinewidth": 0,
             "ticks": ""
            },
            "type": "contourcarpet"
           }
          ],
          "heatmap": [
           {
            "colorbar": {
             "outlinewidth": 0,
             "ticks": ""
            },
            "colorscale": [
             [
              0,
              "#0d0887"
             ],
             [
              0.1111111111111111,
              "#46039f"
             ],
             [
              0.2222222222222222,
              "#7201a8"
             ],
             [
              0.3333333333333333,
              "#9c179e"
             ],
             [
              0.4444444444444444,
              "#bd3786"
             ],
             [
              0.5555555555555556,
              "#d8576b"
             ],
             [
              0.6666666666666666,
              "#ed7953"
             ],
             [
              0.7777777777777778,
              "#fb9f3a"
             ],
             [
              0.8888888888888888,
              "#fdca26"
             ],
             [
              1,
              "#f0f921"
             ]
            ],
            "type": "heatmap"
           }
          ],
          "heatmapgl": [
           {
            "colorbar": {
             "outlinewidth": 0,
             "ticks": ""
            },
            "colorscale": [
             [
              0,
              "#0d0887"
             ],
             [
              0.1111111111111111,
              "#46039f"
             ],
             [
              0.2222222222222222,
              "#7201a8"
             ],
             [
              0.3333333333333333,
              "#9c179e"
             ],
             [
              0.4444444444444444,
              "#bd3786"
             ],
             [
              0.5555555555555556,
              "#d8576b"
             ],
             [
              0.6666666666666666,
              "#ed7953"
             ],
             [
              0.7777777777777778,
              "#fb9f3a"
             ],
             [
              0.8888888888888888,
              "#fdca26"
             ],
             [
              1,
              "#f0f921"
             ]
            ],
            "type": "heatmapgl"
           }
          ],
          "histogram": [
           {
            "marker": {
             "pattern": {
              "fillmode": "overlay",
              "size": 10,
              "solidity": 0.2
             }
            },
            "type": "histogram"
           }
          ],
          "histogram2d": [
           {
            "colorbar": {
             "outlinewidth": 0,
             "ticks": ""
            },
            "colorscale": [
             [
              0,
              "#0d0887"
             ],
             [
              0.1111111111111111,
              "#46039f"
             ],
             [
              0.2222222222222222,
              "#7201a8"
             ],
             [
              0.3333333333333333,
              "#9c179e"
             ],
             [
              0.4444444444444444,
              "#bd3786"
             ],
             [
              0.5555555555555556,
              "#d8576b"
             ],
             [
              0.6666666666666666,
              "#ed7953"
             ],
             [
              0.7777777777777778,
              "#fb9f3a"
             ],
             [
              0.8888888888888888,
              "#fdca26"
             ],
             [
              1,
              "#f0f921"
             ]
            ],
            "type": "histogram2d"
           }
          ],
          "histogram2dcontour": [
           {
            "colorbar": {
             "outlinewidth": 0,
             "ticks": ""
            },
            "colorscale": [
             [
              0,
              "#0d0887"
             ],
             [
              0.1111111111111111,
              "#46039f"
             ],
             [
              0.2222222222222222,
              "#7201a8"
             ],
             [
              0.3333333333333333,
              "#9c179e"
             ],
             [
              0.4444444444444444,
              "#bd3786"
             ],
             [
              0.5555555555555556,
              "#d8576b"
             ],
             [
              0.6666666666666666,
              "#ed7953"
             ],
             [
              0.7777777777777778,
              "#fb9f3a"
             ],
             [
              0.8888888888888888,
              "#fdca26"
             ],
             [
              1,
              "#f0f921"
             ]
            ],
            "type": "histogram2dcontour"
           }
          ],
          "mesh3d": [
           {
            "colorbar": {
             "outlinewidth": 0,
             "ticks": ""
            },
            "type": "mesh3d"
           }
          ],
          "parcoords": [
           {
            "line": {
             "colorbar": {
              "outlinewidth": 0,
              "ticks": ""
             }
            },
            "type": "parcoords"
           }
          ],
          "pie": [
           {
            "automargin": true,
            "type": "pie"
           }
          ],
          "scatter": [
           {
            "fillpattern": {
             "fillmode": "overlay",
             "size": 10,
             "solidity": 0.2
            },
            "type": "scatter"
           }
          ],
          "scatter3d": [
           {
            "line": {
             "colorbar": {
              "outlinewidth": 0,
              "ticks": ""
             }
            },
            "marker": {
             "colorbar": {
              "outlinewidth": 0,
              "ticks": ""
             }
            },
            "type": "scatter3d"
           }
          ],
          "scattercarpet": [
           {
            "marker": {
             "colorbar": {
              "outlinewidth": 0,
              "ticks": ""
             }
            },
            "type": "scattercarpet"
           }
          ],
          "scattergeo": [
           {
            "marker": {
             "colorbar": {
              "outlinewidth": 0,
              "ticks": ""
             }
            },
            "type": "scattergeo"
           }
          ],
          "scattergl": [
           {
            "marker": {
             "colorbar": {
              "outlinewidth": 0,
              "ticks": ""
             }
            },
            "type": "scattergl"
           }
          ],
          "scattermapbox": [
           {
            "marker": {
             "colorbar": {
              "outlinewidth": 0,
              "ticks": ""
             }
            },
            "type": "scattermapbox"
           }
          ],
          "scatterpolar": [
           {
            "marker": {
             "colorbar": {
              "outlinewidth": 0,
              "ticks": ""
             }
            },
            "type": "scatterpolar"
           }
          ],
          "scatterpolargl": [
           {
            "marker": {
             "colorbar": {
              "outlinewidth": 0,
              "ticks": ""
             }
            },
            "type": "scatterpolargl"
           }
          ],
          "scatterternary": [
           {
            "marker": {
             "colorbar": {
              "outlinewidth": 0,
              "ticks": ""
             }
            },
            "type": "scatterternary"
           }
          ],
          "surface": [
           {
            "colorbar": {
             "outlinewidth": 0,
             "ticks": ""
            },
            "colorscale": [
             [
              0,
              "#0d0887"
             ],
             [
              0.1111111111111111,
              "#46039f"
             ],
             [
              0.2222222222222222,
              "#7201a8"
             ],
             [
              0.3333333333333333,
              "#9c179e"
             ],
             [
              0.4444444444444444,
              "#bd3786"
             ],
             [
              0.5555555555555556,
              "#d8576b"
             ],
             [
              0.6666666666666666,
              "#ed7953"
             ],
             [
              0.7777777777777778,
              "#fb9f3a"
             ],
             [
              0.8888888888888888,
              "#fdca26"
             ],
             [
              1,
              "#f0f921"
             ]
            ],
            "type": "surface"
           }
          ],
          "table": [
           {
            "cells": {
             "fill": {
              "color": "#EBF0F8"
             },
             "line": {
              "color": "white"
             }
            },
            "header": {
             "fill": {
              "color": "#C8D4E3"
             },
             "line": {
              "color": "white"
             }
            },
            "type": "table"
           }
          ]
         },
         "layout": {
          "annotationdefaults": {
           "arrowcolor": "#2a3f5f",
           "arrowhead": 0,
           "arrowwidth": 1
          },
          "autotypenumbers": "strict",
          "coloraxis": {
           "colorbar": {
            "outlinewidth": 0,
            "ticks": ""
           }
          },
          "colorscale": {
           "diverging": [
            [
             0,
             "#8e0152"
            ],
            [
             0.1,
             "#c51b7d"
            ],
            [
             0.2,
             "#de77ae"
            ],
            [
             0.3,
             "#f1b6da"
            ],
            [
             0.4,
             "#fde0ef"
            ],
            [
             0.5,
             "#f7f7f7"
            ],
            [
             0.6,
             "#e6f5d0"
            ],
            [
             0.7,
             "#b8e186"
            ],
            [
             0.8,
             "#7fbc41"
            ],
            [
             0.9,
             "#4d9221"
            ],
            [
             1,
             "#276419"
            ]
           ],
           "sequential": [
            [
             0,
             "#0d0887"
            ],
            [
             0.1111111111111111,
             "#46039f"
            ],
            [
             0.2222222222222222,
             "#7201a8"
            ],
            [
             0.3333333333333333,
             "#9c179e"
            ],
            [
             0.4444444444444444,
             "#bd3786"
            ],
            [
             0.5555555555555556,
             "#d8576b"
            ],
            [
             0.6666666666666666,
             "#ed7953"
            ],
            [
             0.7777777777777778,
             "#fb9f3a"
            ],
            [
             0.8888888888888888,
             "#fdca26"
            ],
            [
             1,
             "#f0f921"
            ]
           ],
           "sequentialminus": [
            [
             0,
             "#0d0887"
            ],
            [
             0.1111111111111111,
             "#46039f"
            ],
            [
             0.2222222222222222,
             "#7201a8"
            ],
            [
             0.3333333333333333,
             "#9c179e"
            ],
            [
             0.4444444444444444,
             "#bd3786"
            ],
            [
             0.5555555555555556,
             "#d8576b"
            ],
            [
             0.6666666666666666,
             "#ed7953"
            ],
            [
             0.7777777777777778,
             "#fb9f3a"
            ],
            [
             0.8888888888888888,
             "#fdca26"
            ],
            [
             1,
             "#f0f921"
            ]
           ]
          },
          "colorway": [
           "#636efa",
           "#EF553B",
           "#00cc96",
           "#ab63fa",
           "#FFA15A",
           "#19d3f3",
           "#FF6692",
           "#B6E880",
           "#FF97FF",
           "#FECB52"
          ],
          "font": {
           "color": "#2a3f5f"
          },
          "geo": {
           "bgcolor": "white",
           "lakecolor": "white",
           "landcolor": "white",
           "showlakes": true,
           "showland": true,
           "subunitcolor": "#C8D4E3"
          },
          "hoverlabel": {
           "align": "left"
          },
          "hovermode": "closest",
          "mapbox": {
           "style": "light"
          },
          "paper_bgcolor": "white",
          "plot_bgcolor": "white",
          "polar": {
           "angularaxis": {
            "gridcolor": "#EBF0F8",
            "linecolor": "#EBF0F8",
            "ticks": ""
           },
           "bgcolor": "white",
           "radialaxis": {
            "gridcolor": "#EBF0F8",
            "linecolor": "#EBF0F8",
            "ticks": ""
           }
          },
          "scene": {
           "xaxis": {
            "backgroundcolor": "white",
            "gridcolor": "#DFE8F3",
            "gridwidth": 2,
            "linecolor": "#EBF0F8",
            "showbackground": true,
            "ticks": "",
            "zerolinecolor": "#EBF0F8"
           },
           "yaxis": {
            "backgroundcolor": "white",
            "gridcolor": "#DFE8F3",
            "gridwidth": 2,
            "linecolor": "#EBF0F8",
            "showbackground": true,
            "ticks": "",
            "zerolinecolor": "#EBF0F8"
           },
           "zaxis": {
            "backgroundcolor": "white",
            "gridcolor": "#DFE8F3",
            "gridwidth": 2,
            "linecolor": "#EBF0F8",
            "showbackground": true,
            "ticks": "",
            "zerolinecolor": "#EBF0F8"
           }
          },
          "shapedefaults": {
           "line": {
            "color": "#2a3f5f"
           }
          },
          "ternary": {
           "aaxis": {
            "gridcolor": "#DFE8F3",
            "linecolor": "#A2B1C6",
            "ticks": ""
           },
           "baxis": {
            "gridcolor": "#DFE8F3",
            "linecolor": "#A2B1C6",
            "ticks": ""
           },
           "bgcolor": "white",
           "caxis": {
            "gridcolor": "#DFE8F3",
            "linecolor": "#A2B1C6",
            "ticks": ""
           }
          },
          "title": {
           "x": 0.05
          },
          "xaxis": {
           "automargin": true,
           "gridcolor": "#EBF0F8",
           "linecolor": "#EBF0F8",
           "ticks": "",
           "title": {
            "standoff": 15
           },
           "zerolinecolor": "#EBF0F8",
           "zerolinewidth": 2
          },
          "yaxis": {
           "automargin": true,
           "gridcolor": "#EBF0F8",
           "linecolor": "#EBF0F8",
           "ticks": "",
           "title": {
            "standoff": 15
           },
           "zerolinecolor": "#EBF0F8",
           "zerolinewidth": 2
          }
         }
        },
        "title": {
         "text": "Método do Cotovelo para K-Means"
        },
        "xaxis": {
         "tickmode": "linear",
         "title": {
          "text": "Número de Clusters K"
         }
        },
        "yaxis": {
         "title": {
          "text": "Inércia"
         }
        }
       }
      },
      "text/html": [
       "<div>                            <div id=\"90613edf-86ec-4ef7-9563-810d78c877bc\" class=\"plotly-graph-div\" style=\"height:525px; width:100%;\"></div>            <script type=\"text/javascript\">                require([\"plotly\"], function(Plotly) {                    window.PLOTLYENV=window.PLOTLYENV || {};                                    if (document.getElementById(\"90613edf-86ec-4ef7-9563-810d78c877bc\")) {                    Plotly.newPlot(                        \"90613edf-86ec-4ef7-9563-810d78c877bc\",                        [{\"line\":{\"dash\":\"solid\"},\"marker\":{\"color\":\"blue\"},\"mode\":\"lines+markers\",\"name\":\"Inércia\",\"x\":[1,2,3,4,5,6,7,8,9],\"y\":[3.4929810584954915,0.8585096965364899,0.40712811005215377,0.17207774038415646,0.150865045260616,0.11742102044716816,0.08127167759356678,0.027965455153990834,0.016203783426470563],\"type\":\"scatter\"}],                        {\"template\":{\"data\":{\"barpolar\":[{\"marker\":{\"line\":{\"color\":\"white\",\"width\":0.5},\"pattern\":{\"fillmode\":\"overlay\",\"size\":10,\"solidity\":0.2}},\"type\":\"barpolar\"}],\"bar\":[{\"error_x\":{\"color\":\"#2a3f5f\"},\"error_y\":{\"color\":\"#2a3f5f\"},\"marker\":{\"line\":{\"color\":\"white\",\"width\":0.5},\"pattern\":{\"fillmode\":\"overlay\",\"size\":10,\"solidity\":0.2}},\"type\":\"bar\"}],\"carpet\":[{\"aaxis\":{\"endlinecolor\":\"#2a3f5f\",\"gridcolor\":\"#C8D4E3\",\"linecolor\":\"#C8D4E3\",\"minorgridcolor\":\"#C8D4E3\",\"startlinecolor\":\"#2a3f5f\"},\"baxis\":{\"endlinecolor\":\"#2a3f5f\",\"gridcolor\":\"#C8D4E3\",\"linecolor\":\"#C8D4E3\",\"minorgridcolor\":\"#C8D4E3\",\"startlinecolor\":\"#2a3f5f\"},\"type\":\"carpet\"}],\"choropleth\":[{\"colorbar\":{\"outlinewidth\":0,\"ticks\":\"\"},\"type\":\"choropleth\"}],\"contourcarpet\":[{\"colorbar\":{\"outlinewidth\":0,\"ticks\":\"\"},\"type\":\"contourcarpet\"}],\"contour\":[{\"colorbar\":{\"outlinewidth\":0,\"ticks\":\"\"},\"colorscale\":[[0.0,\"#0d0887\"],[0.1111111111111111,\"#46039f\"],[0.2222222222222222,\"#7201a8\"],[0.3333333333333333,\"#9c179e\"],[0.4444444444444444,\"#bd3786\"],[0.5555555555555556,\"#d8576b\"],[0.6666666666666666,\"#ed7953\"],[0.7777777777777778,\"#fb9f3a\"],[0.8888888888888888,\"#fdca26\"],[1.0,\"#f0f921\"]],\"type\":\"contour\"}],\"heatmapgl\":[{\"colorbar\":{\"outlinewidth\":0,\"ticks\":\"\"},\"colorscale\":[[0.0,\"#0d0887\"],[0.1111111111111111,\"#46039f\"],[0.2222222222222222,\"#7201a8\"],[0.3333333333333333,\"#9c179e\"],[0.4444444444444444,\"#bd3786\"],[0.5555555555555556,\"#d8576b\"],[0.6666666666666666,\"#ed7953\"],[0.7777777777777778,\"#fb9f3a\"],[0.8888888888888888,\"#fdca26\"],[1.0,\"#f0f921\"]],\"type\":\"heatmapgl\"}],\"heatmap\":[{\"colorbar\":{\"outlinewidth\":0,\"ticks\":\"\"},\"colorscale\":[[0.0,\"#0d0887\"],[0.1111111111111111,\"#46039f\"],[0.2222222222222222,\"#7201a8\"],[0.3333333333333333,\"#9c179e\"],[0.4444444444444444,\"#bd3786\"],[0.5555555555555556,\"#d8576b\"],[0.6666666666666666,\"#ed7953\"],[0.7777777777777778,\"#fb9f3a\"],[0.8888888888888888,\"#fdca26\"],[1.0,\"#f0f921\"]],\"type\":\"heatmap\"}],\"histogram2dcontour\":[{\"colorbar\":{\"outlinewidth\":0,\"ticks\":\"\"},\"colorscale\":[[0.0,\"#0d0887\"],[0.1111111111111111,\"#46039f\"],[0.2222222222222222,\"#7201a8\"],[0.3333333333333333,\"#9c179e\"],[0.4444444444444444,\"#bd3786\"],[0.5555555555555556,\"#d8576b\"],[0.6666666666666666,\"#ed7953\"],[0.7777777777777778,\"#fb9f3a\"],[0.8888888888888888,\"#fdca26\"],[1.0,\"#f0f921\"]],\"type\":\"histogram2dcontour\"}],\"histogram2d\":[{\"colorbar\":{\"outlinewidth\":0,\"ticks\":\"\"},\"colorscale\":[[0.0,\"#0d0887\"],[0.1111111111111111,\"#46039f\"],[0.2222222222222222,\"#7201a8\"],[0.3333333333333333,\"#9c179e\"],[0.4444444444444444,\"#bd3786\"],[0.5555555555555556,\"#d8576b\"],[0.6666666666666666,\"#ed7953\"],[0.7777777777777778,\"#fb9f3a\"],[0.8888888888888888,\"#fdca26\"],[1.0,\"#f0f921\"]],\"type\":\"histogram2d\"}],\"histogram\":[{\"marker\":{\"pattern\":{\"fillmode\":\"overlay\",\"size\":10,\"solidity\":0.2}},\"type\":\"histogram\"}],\"mesh3d\":[{\"colorbar\":{\"outlinewidth\":0,\"ticks\":\"\"},\"type\":\"mesh3d\"}],\"parcoords\":[{\"line\":{\"colorbar\":{\"outlinewidth\":0,\"ticks\":\"\"}},\"type\":\"parcoords\"}],\"pie\":[{\"automargin\":true,\"type\":\"pie\"}],\"scatter3d\":[{\"line\":{\"colorbar\":{\"outlinewidth\":0,\"ticks\":\"\"}},\"marker\":{\"colorbar\":{\"outlinewidth\":0,\"ticks\":\"\"}},\"type\":\"scatter3d\"}],\"scattercarpet\":[{\"marker\":{\"colorbar\":{\"outlinewidth\":0,\"ticks\":\"\"}},\"type\":\"scattercarpet\"}],\"scattergeo\":[{\"marker\":{\"colorbar\":{\"outlinewidth\":0,\"ticks\":\"\"}},\"type\":\"scattergeo\"}],\"scattergl\":[{\"marker\":{\"colorbar\":{\"outlinewidth\":0,\"ticks\":\"\"}},\"type\":\"scattergl\"}],\"scattermapbox\":[{\"marker\":{\"colorbar\":{\"outlinewidth\":0,\"ticks\":\"\"}},\"type\":\"scattermapbox\"}],\"scatterpolargl\":[{\"marker\":{\"colorbar\":{\"outlinewidth\":0,\"ticks\":\"\"}},\"type\":\"scatterpolargl\"}],\"scatterpolar\":[{\"marker\":{\"colorbar\":{\"outlinewidth\":0,\"ticks\":\"\"}},\"type\":\"scatterpolar\"}],\"scatter\":[{\"fillpattern\":{\"fillmode\":\"overlay\",\"size\":10,\"solidity\":0.2},\"type\":\"scatter\"}],\"scatterternary\":[{\"marker\":{\"colorbar\":{\"outlinewidth\":0,\"ticks\":\"\"}},\"type\":\"scatterternary\"}],\"surface\":[{\"colorbar\":{\"outlinewidth\":0,\"ticks\":\"\"},\"colorscale\":[[0.0,\"#0d0887\"],[0.1111111111111111,\"#46039f\"],[0.2222222222222222,\"#7201a8\"],[0.3333333333333333,\"#9c179e\"],[0.4444444444444444,\"#bd3786\"],[0.5555555555555556,\"#d8576b\"],[0.6666666666666666,\"#ed7953\"],[0.7777777777777778,\"#fb9f3a\"],[0.8888888888888888,\"#fdca26\"],[1.0,\"#f0f921\"]],\"type\":\"surface\"}],\"table\":[{\"cells\":{\"fill\":{\"color\":\"#EBF0F8\"},\"line\":{\"color\":\"white\"}},\"header\":{\"fill\":{\"color\":\"#C8D4E3\"},\"line\":{\"color\":\"white\"}},\"type\":\"table\"}]},\"layout\":{\"annotationdefaults\":{\"arrowcolor\":\"#2a3f5f\",\"arrowhead\":0,\"arrowwidth\":1},\"autotypenumbers\":\"strict\",\"coloraxis\":{\"colorbar\":{\"outlinewidth\":0,\"ticks\":\"\"}},\"colorscale\":{\"diverging\":[[0,\"#8e0152\"],[0.1,\"#c51b7d\"],[0.2,\"#de77ae\"],[0.3,\"#f1b6da\"],[0.4,\"#fde0ef\"],[0.5,\"#f7f7f7\"],[0.6,\"#e6f5d0\"],[0.7,\"#b8e186\"],[0.8,\"#7fbc41\"],[0.9,\"#4d9221\"],[1,\"#276419\"]],\"sequential\":[[0.0,\"#0d0887\"],[0.1111111111111111,\"#46039f\"],[0.2222222222222222,\"#7201a8\"],[0.3333333333333333,\"#9c179e\"],[0.4444444444444444,\"#bd3786\"],[0.5555555555555556,\"#d8576b\"],[0.6666666666666666,\"#ed7953\"],[0.7777777777777778,\"#fb9f3a\"],[0.8888888888888888,\"#fdca26\"],[1.0,\"#f0f921\"]],\"sequentialminus\":[[0.0,\"#0d0887\"],[0.1111111111111111,\"#46039f\"],[0.2222222222222222,\"#7201a8\"],[0.3333333333333333,\"#9c179e\"],[0.4444444444444444,\"#bd3786\"],[0.5555555555555556,\"#d8576b\"],[0.6666666666666666,\"#ed7953\"],[0.7777777777777778,\"#fb9f3a\"],[0.8888888888888888,\"#fdca26\"],[1.0,\"#f0f921\"]]},\"colorway\":[\"#636efa\",\"#EF553B\",\"#00cc96\",\"#ab63fa\",\"#FFA15A\",\"#19d3f3\",\"#FF6692\",\"#B6E880\",\"#FF97FF\",\"#FECB52\"],\"font\":{\"color\":\"#2a3f5f\"},\"geo\":{\"bgcolor\":\"white\",\"lakecolor\":\"white\",\"landcolor\":\"white\",\"showlakes\":true,\"showland\":true,\"subunitcolor\":\"#C8D4E3\"},\"hoverlabel\":{\"align\":\"left\"},\"hovermode\":\"closest\",\"mapbox\":{\"style\":\"light\"},\"paper_bgcolor\":\"white\",\"plot_bgcolor\":\"white\",\"polar\":{\"angularaxis\":{\"gridcolor\":\"#EBF0F8\",\"linecolor\":\"#EBF0F8\",\"ticks\":\"\"},\"bgcolor\":\"white\",\"radialaxis\":{\"gridcolor\":\"#EBF0F8\",\"linecolor\":\"#EBF0F8\",\"ticks\":\"\"}},\"scene\":{\"xaxis\":{\"backgroundcolor\":\"white\",\"gridcolor\":\"#DFE8F3\",\"gridwidth\":2,\"linecolor\":\"#EBF0F8\",\"showbackground\":true,\"ticks\":\"\",\"zerolinecolor\":\"#EBF0F8\"},\"yaxis\":{\"backgroundcolor\":\"white\",\"gridcolor\":\"#DFE8F3\",\"gridwidth\":2,\"linecolor\":\"#EBF0F8\",\"showbackground\":true,\"ticks\":\"\",\"zerolinecolor\":\"#EBF0F8\"},\"zaxis\":{\"backgroundcolor\":\"white\",\"gridcolor\":\"#DFE8F3\",\"gridwidth\":2,\"linecolor\":\"#EBF0F8\",\"showbackground\":true,\"ticks\":\"\",\"zerolinecolor\":\"#EBF0F8\"}},\"shapedefaults\":{\"line\":{\"color\":\"#2a3f5f\"}},\"ternary\":{\"aaxis\":{\"gridcolor\":\"#DFE8F3\",\"linecolor\":\"#A2B1C6\",\"ticks\":\"\"},\"baxis\":{\"gridcolor\":\"#DFE8F3\",\"linecolor\":\"#A2B1C6\",\"ticks\":\"\"},\"bgcolor\":\"white\",\"caxis\":{\"gridcolor\":\"#DFE8F3\",\"linecolor\":\"#A2B1C6\",\"ticks\":\"\"}},\"title\":{\"x\":0.05},\"xaxis\":{\"automargin\":true,\"gridcolor\":\"#EBF0F8\",\"linecolor\":\"#EBF0F8\",\"ticks\":\"\",\"title\":{\"standoff\":15},\"zerolinecolor\":\"#EBF0F8\",\"zerolinewidth\":2},\"yaxis\":{\"automargin\":true,\"gridcolor\":\"#EBF0F8\",\"linecolor\":\"#EBF0F8\",\"ticks\":\"\",\"title\":{\"standoff\":15},\"zerolinecolor\":\"#EBF0F8\",\"zerolinewidth\":2}}},\"xaxis\":{\"title\":{\"text\":\"Número de Clusters K\"},\"tickmode\":\"linear\"},\"title\":{\"text\":\"Método do Cotovelo para K-Means\"},\"yaxis\":{\"title\":{\"text\":\"Inércia\"}}},                        {\"responsive\": true}                    ).then(function(){\n",
       "                            \n",
       "var gd = document.getElementById('90613edf-86ec-4ef7-9563-810d78c877bc');\n",
       "var x = new MutationObserver(function (mutations, observer) {{\n",
       "        var display = window.getComputedStyle(gd).display;\n",
       "        if (!display || display === 'none') {{\n",
       "            console.log([gd, 'removed!']);\n",
       "            Plotly.purge(gd);\n",
       "            observer.disconnect();\n",
       "        }}\n",
       "}});\n",
       "\n",
       "// Listen for the removal of the full notebook cells\n",
       "var notebookContainer = gd.closest('#notebook-container');\n",
       "if (notebookContainer) {{\n",
       "    x.observe(notebookContainer, {childList: true});\n",
       "}}\n",
       "\n",
       "// Listen for the clearing of the current output cell\n",
       "var outputEl = gd.closest('.output');\n",
       "if (outputEl) {{\n",
       "    x.observe(outputEl, {childList: true});\n",
       "}}\n",
       "\n",
       "                        })                };                });            </script>        </div>"
      ]
     },
     "metadata": {},
     "output_type": "display_data"
    }
   ],
   "source": [
    "import plotly.graph_objects as go\n",
    "\n",
    "# Método do Cotovelo usando Plotly\n",
    "K = range(1, 10)\n",
    "inertias = []\n",
    "\n",
    "for k in K:\n",
    "    kmeans = KMeans(n_clusters=k, random_state=42)\n",
    "    kmeans.fit(correlacoes_array)\n",
    "    inertias.append(kmeans.inertia_)\n",
    "\n",
    "# Criar o gráfico interativo com Plotly\n",
    "fig_elbow = go.Figure()\n",
    "fig_elbow.add_trace(\n",
    "    go.Scatter(\n",
    "        x=list(K),\n",
    "        y=inertias,\n",
    "        mode=\"lines+markers\",\n",
    "        marker=dict(color=\"blue\"),\n",
    "        line=dict(dash=\"solid\"),\n",
    "        name=\"Inércia\",\n",
    "    )\n",
    ")\n",
    "\n",
    "fig_elbow.update_layout(\n",
    "    title=\"Método do Cotovelo para K-Means\",\n",
    "    xaxis_title=\"Número de Clusters K\",\n",
    "    yaxis_title=\"Inércia\",\n",
    "    xaxis=dict(tickmode=\"linear\"),\n",
    "    template=\"plotly_white\",\n",
    ")\n",
    "\n",
    "fig_elbow.show()\n"
   ]
  },
  {
   "cell_type": "code",
   "execution_count": 60,
   "metadata": {},
   "outputs": [
    {
     "data": {
      "application/vnd.plotly.v1+json": {
       "config": {
        "plotlyServerURL": "https://plot.ly"
       },
       "data": [
        {
         "line": {
          "dash": "solid"
         },
         "marker": {
          "color": "green"
         },
         "mode": "lines+markers",
         "name": "Coeficiente de Silhueta",
         "type": "scatter",
         "x": [
          2,
          3,
          4,
          5,
          6,
          7,
          8,
          9
         ],
         "y": [
          0.6555089175519576,
          0.6178806291470257,
          0.6269210578572184,
          0.5035539480787589,
          0.5324276404163218,
          0.5441507302021349,
          0.5751403636466531,
          0.5701443752720449
         ]
        }
       ],
       "layout": {
        "template": {
         "data": {
          "bar": [
           {
            "error_x": {
             "color": "#2a3f5f"
            },
            "error_y": {
             "color": "#2a3f5f"
            },
            "marker": {
             "line": {
              "color": "white",
              "width": 0.5
             },
             "pattern": {
              "fillmode": "overlay",
              "size": 10,
              "solidity": 0.2
             }
            },
            "type": "bar"
           }
          ],
          "barpolar": [
           {
            "marker": {
             "line": {
              "color": "white",
              "width": 0.5
             },
             "pattern": {
              "fillmode": "overlay",
              "size": 10,
              "solidity": 0.2
             }
            },
            "type": "barpolar"
           }
          ],
          "carpet": [
           {
            "aaxis": {
             "endlinecolor": "#2a3f5f",
             "gridcolor": "#C8D4E3",
             "linecolor": "#C8D4E3",
             "minorgridcolor": "#C8D4E3",
             "startlinecolor": "#2a3f5f"
            },
            "baxis": {
             "endlinecolor": "#2a3f5f",
             "gridcolor": "#C8D4E3",
             "linecolor": "#C8D4E3",
             "minorgridcolor": "#C8D4E3",
             "startlinecolor": "#2a3f5f"
            },
            "type": "carpet"
           }
          ],
          "choropleth": [
           {
            "colorbar": {
             "outlinewidth": 0,
             "ticks": ""
            },
            "type": "choropleth"
           }
          ],
          "contour": [
           {
            "colorbar": {
             "outlinewidth": 0,
             "ticks": ""
            },
            "colorscale": [
             [
              0,
              "#0d0887"
             ],
             [
              0.1111111111111111,
              "#46039f"
             ],
             [
              0.2222222222222222,
              "#7201a8"
             ],
             [
              0.3333333333333333,
              "#9c179e"
             ],
             [
              0.4444444444444444,
              "#bd3786"
             ],
             [
              0.5555555555555556,
              "#d8576b"
             ],
             [
              0.6666666666666666,
              "#ed7953"
             ],
             [
              0.7777777777777778,
              "#fb9f3a"
             ],
             [
              0.8888888888888888,
              "#fdca26"
             ],
             [
              1,
              "#f0f921"
             ]
            ],
            "type": "contour"
           }
          ],
          "contourcarpet": [
           {
            "colorbar": {
             "outlinewidth": 0,
             "ticks": ""
            },
            "type": "contourcarpet"
           }
          ],
          "heatmap": [
           {
            "colorbar": {
             "outlinewidth": 0,
             "ticks": ""
            },
            "colorscale": [
             [
              0,
              "#0d0887"
             ],
             [
              0.1111111111111111,
              "#46039f"
             ],
             [
              0.2222222222222222,
              "#7201a8"
             ],
             [
              0.3333333333333333,
              "#9c179e"
             ],
             [
              0.4444444444444444,
              "#bd3786"
             ],
             [
              0.5555555555555556,
              "#d8576b"
             ],
             [
              0.6666666666666666,
              "#ed7953"
             ],
             [
              0.7777777777777778,
              "#fb9f3a"
             ],
             [
              0.8888888888888888,
              "#fdca26"
             ],
             [
              1,
              "#f0f921"
             ]
            ],
            "type": "heatmap"
           }
          ],
          "heatmapgl": [
           {
            "colorbar": {
             "outlinewidth": 0,
             "ticks": ""
            },
            "colorscale": [
             [
              0,
              "#0d0887"
             ],
             [
              0.1111111111111111,
              "#46039f"
             ],
             [
              0.2222222222222222,
              "#7201a8"
             ],
             [
              0.3333333333333333,
              "#9c179e"
             ],
             [
              0.4444444444444444,
              "#bd3786"
             ],
             [
              0.5555555555555556,
              "#d8576b"
             ],
             [
              0.6666666666666666,
              "#ed7953"
             ],
             [
              0.7777777777777778,
              "#fb9f3a"
             ],
             [
              0.8888888888888888,
              "#fdca26"
             ],
             [
              1,
              "#f0f921"
             ]
            ],
            "type": "heatmapgl"
           }
          ],
          "histogram": [
           {
            "marker": {
             "pattern": {
              "fillmode": "overlay",
              "size": 10,
              "solidity": 0.2
             }
            },
            "type": "histogram"
           }
          ],
          "histogram2d": [
           {
            "colorbar": {
             "outlinewidth": 0,
             "ticks": ""
            },
            "colorscale": [
             [
              0,
              "#0d0887"
             ],
             [
              0.1111111111111111,
              "#46039f"
             ],
             [
              0.2222222222222222,
              "#7201a8"
             ],
             [
              0.3333333333333333,
              "#9c179e"
             ],
             [
              0.4444444444444444,
              "#bd3786"
             ],
             [
              0.5555555555555556,
              "#d8576b"
             ],
             [
              0.6666666666666666,
              "#ed7953"
             ],
             [
              0.7777777777777778,
              "#fb9f3a"
             ],
             [
              0.8888888888888888,
              "#fdca26"
             ],
             [
              1,
              "#f0f921"
             ]
            ],
            "type": "histogram2d"
           }
          ],
          "histogram2dcontour": [
           {
            "colorbar": {
             "outlinewidth": 0,
             "ticks": ""
            },
            "colorscale": [
             [
              0,
              "#0d0887"
             ],
             [
              0.1111111111111111,
              "#46039f"
             ],
             [
              0.2222222222222222,
              "#7201a8"
             ],
             [
              0.3333333333333333,
              "#9c179e"
             ],
             [
              0.4444444444444444,
              "#bd3786"
             ],
             [
              0.5555555555555556,
              "#d8576b"
             ],
             [
              0.6666666666666666,
              "#ed7953"
             ],
             [
              0.7777777777777778,
              "#fb9f3a"
             ],
             [
              0.8888888888888888,
              "#fdca26"
             ],
             [
              1,
              "#f0f921"
             ]
            ],
            "type": "histogram2dcontour"
           }
          ],
          "mesh3d": [
           {
            "colorbar": {
             "outlinewidth": 0,
             "ticks": ""
            },
            "type": "mesh3d"
           }
          ],
          "parcoords": [
           {
            "line": {
             "colorbar": {
              "outlinewidth": 0,
              "ticks": ""
             }
            },
            "type": "parcoords"
           }
          ],
          "pie": [
           {
            "automargin": true,
            "type": "pie"
           }
          ],
          "scatter": [
           {
            "fillpattern": {
             "fillmode": "overlay",
             "size": 10,
             "solidity": 0.2
            },
            "type": "scatter"
           }
          ],
          "scatter3d": [
           {
            "line": {
             "colorbar": {
              "outlinewidth": 0,
              "ticks": ""
             }
            },
            "marker": {
             "colorbar": {
              "outlinewidth": 0,
              "ticks": ""
             }
            },
            "type": "scatter3d"
           }
          ],
          "scattercarpet": [
           {
            "marker": {
             "colorbar": {
              "outlinewidth": 0,
              "ticks": ""
             }
            },
            "type": "scattercarpet"
           }
          ],
          "scattergeo": [
           {
            "marker": {
             "colorbar": {
              "outlinewidth": 0,
              "ticks": ""
             }
            },
            "type": "scattergeo"
           }
          ],
          "scattergl": [
           {
            "marker": {
             "colorbar": {
              "outlinewidth": 0,
              "ticks": ""
             }
            },
            "type": "scattergl"
           }
          ],
          "scattermapbox": [
           {
            "marker": {
             "colorbar": {
              "outlinewidth": 0,
              "ticks": ""
             }
            },
            "type": "scattermapbox"
           }
          ],
          "scatterpolar": [
           {
            "marker": {
             "colorbar": {
              "outlinewidth": 0,
              "ticks": ""
             }
            },
            "type": "scatterpolar"
           }
          ],
          "scatterpolargl": [
           {
            "marker": {
             "colorbar": {
              "outlinewidth": 0,
              "ticks": ""
             }
            },
            "type": "scatterpolargl"
           }
          ],
          "scatterternary": [
           {
            "marker": {
             "colorbar": {
              "outlinewidth": 0,
              "ticks": ""
             }
            },
            "type": "scatterternary"
           }
          ],
          "surface": [
           {
            "colorbar": {
             "outlinewidth": 0,
             "ticks": ""
            },
            "colorscale": [
             [
              0,
              "#0d0887"
             ],
             [
              0.1111111111111111,
              "#46039f"
             ],
             [
              0.2222222222222222,
              "#7201a8"
             ],
             [
              0.3333333333333333,
              "#9c179e"
             ],
             [
              0.4444444444444444,
              "#bd3786"
             ],
             [
              0.5555555555555556,
              "#d8576b"
             ],
             [
              0.6666666666666666,
              "#ed7953"
             ],
             [
              0.7777777777777778,
              "#fb9f3a"
             ],
             [
              0.8888888888888888,
              "#fdca26"
             ],
             [
              1,
              "#f0f921"
             ]
            ],
            "type": "surface"
           }
          ],
          "table": [
           {
            "cells": {
             "fill": {
              "color": "#EBF0F8"
             },
             "line": {
              "color": "white"
             }
            },
            "header": {
             "fill": {
              "color": "#C8D4E3"
             },
             "line": {
              "color": "white"
             }
            },
            "type": "table"
           }
          ]
         },
         "layout": {
          "annotationdefaults": {
           "arrowcolor": "#2a3f5f",
           "arrowhead": 0,
           "arrowwidth": 1
          },
          "autotypenumbers": "strict",
          "coloraxis": {
           "colorbar": {
            "outlinewidth": 0,
            "ticks": ""
           }
          },
          "colorscale": {
           "diverging": [
            [
             0,
             "#8e0152"
            ],
            [
             0.1,
             "#c51b7d"
            ],
            [
             0.2,
             "#de77ae"
            ],
            [
             0.3,
             "#f1b6da"
            ],
            [
             0.4,
             "#fde0ef"
            ],
            [
             0.5,
             "#f7f7f7"
            ],
            [
             0.6,
             "#e6f5d0"
            ],
            [
             0.7,
             "#b8e186"
            ],
            [
             0.8,
             "#7fbc41"
            ],
            [
             0.9,
             "#4d9221"
            ],
            [
             1,
             "#276419"
            ]
           ],
           "sequential": [
            [
             0,
             "#0d0887"
            ],
            [
             0.1111111111111111,
             "#46039f"
            ],
            [
             0.2222222222222222,
             "#7201a8"
            ],
            [
             0.3333333333333333,
             "#9c179e"
            ],
            [
             0.4444444444444444,
             "#bd3786"
            ],
            [
             0.5555555555555556,
             "#d8576b"
            ],
            [
             0.6666666666666666,
             "#ed7953"
            ],
            [
             0.7777777777777778,
             "#fb9f3a"
            ],
            [
             0.8888888888888888,
             "#fdca26"
            ],
            [
             1,
             "#f0f921"
            ]
           ],
           "sequentialminus": [
            [
             0,
             "#0d0887"
            ],
            [
             0.1111111111111111,
             "#46039f"
            ],
            [
             0.2222222222222222,
             "#7201a8"
            ],
            [
             0.3333333333333333,
             "#9c179e"
            ],
            [
             0.4444444444444444,
             "#bd3786"
            ],
            [
             0.5555555555555556,
             "#d8576b"
            ],
            [
             0.6666666666666666,
             "#ed7953"
            ],
            [
             0.7777777777777778,
             "#fb9f3a"
            ],
            [
             0.8888888888888888,
             "#fdca26"
            ],
            [
             1,
             "#f0f921"
            ]
           ]
          },
          "colorway": [
           "#636efa",
           "#EF553B",
           "#00cc96",
           "#ab63fa",
           "#FFA15A",
           "#19d3f3",
           "#FF6692",
           "#B6E880",
           "#FF97FF",
           "#FECB52"
          ],
          "font": {
           "color": "#2a3f5f"
          },
          "geo": {
           "bgcolor": "white",
           "lakecolor": "white",
           "landcolor": "white",
           "showlakes": true,
           "showland": true,
           "subunitcolor": "#C8D4E3"
          },
          "hoverlabel": {
           "align": "left"
          },
          "hovermode": "closest",
          "mapbox": {
           "style": "light"
          },
          "paper_bgcolor": "white",
          "plot_bgcolor": "white",
          "polar": {
           "angularaxis": {
            "gridcolor": "#EBF0F8",
            "linecolor": "#EBF0F8",
            "ticks": ""
           },
           "bgcolor": "white",
           "radialaxis": {
            "gridcolor": "#EBF0F8",
            "linecolor": "#EBF0F8",
            "ticks": ""
           }
          },
          "scene": {
           "xaxis": {
            "backgroundcolor": "white",
            "gridcolor": "#DFE8F3",
            "gridwidth": 2,
            "linecolor": "#EBF0F8",
            "showbackground": true,
            "ticks": "",
            "zerolinecolor": "#EBF0F8"
           },
           "yaxis": {
            "backgroundcolor": "white",
            "gridcolor": "#DFE8F3",
            "gridwidth": 2,
            "linecolor": "#EBF0F8",
            "showbackground": true,
            "ticks": "",
            "zerolinecolor": "#EBF0F8"
           },
           "zaxis": {
            "backgroundcolor": "white",
            "gridcolor": "#DFE8F3",
            "gridwidth": 2,
            "linecolor": "#EBF0F8",
            "showbackground": true,
            "ticks": "",
            "zerolinecolor": "#EBF0F8"
           }
          },
          "shapedefaults": {
           "line": {
            "color": "#2a3f5f"
           }
          },
          "ternary": {
           "aaxis": {
            "gridcolor": "#DFE8F3",
            "linecolor": "#A2B1C6",
            "ticks": ""
           },
           "baxis": {
            "gridcolor": "#DFE8F3",
            "linecolor": "#A2B1C6",
            "ticks": ""
           },
           "bgcolor": "white",
           "caxis": {
            "gridcolor": "#DFE8F3",
            "linecolor": "#A2B1C6",
            "ticks": ""
           }
          },
          "title": {
           "x": 0.05
          },
          "xaxis": {
           "automargin": true,
           "gridcolor": "#EBF0F8",
           "linecolor": "#EBF0F8",
           "ticks": "",
           "title": {
            "standoff": 15
           },
           "zerolinecolor": "#EBF0F8",
           "zerolinewidth": 2
          },
          "yaxis": {
           "automargin": true,
           "gridcolor": "#EBF0F8",
           "linecolor": "#EBF0F8",
           "ticks": "",
           "title": {
            "standoff": 15
           },
           "zerolinecolor": "#EBF0F8",
           "zerolinewidth": 2
          }
         }
        },
        "title": {
         "text": "Análise do Coeficiente de Silhueta para K-Means"
        },
        "xaxis": {
         "tickmode": "linear",
         "title": {
          "text": "Número de Clusters K"
         }
        },
        "yaxis": {
         "title": {
          "text": "Coeficiente de Silhueta"
         }
        }
       }
      },
      "text/html": [
       "<div>                            <div id=\"f31c1980-8a44-48a1-8bd1-86a01eff7395\" class=\"plotly-graph-div\" style=\"height:525px; width:100%;\"></div>            <script type=\"text/javascript\">                require([\"plotly\"], function(Plotly) {                    window.PLOTLYENV=window.PLOTLYENV || {};                                    if (document.getElementById(\"f31c1980-8a44-48a1-8bd1-86a01eff7395\")) {                    Plotly.newPlot(                        \"f31c1980-8a44-48a1-8bd1-86a01eff7395\",                        [{\"line\":{\"dash\":\"solid\"},\"marker\":{\"color\":\"green\"},\"mode\":\"lines+markers\",\"name\":\"Coeficiente de Silhueta\",\"x\":[2,3,4,5,6,7,8,9],\"y\":[0.6555089175519576,0.6178806291470257,0.6269210578572184,0.5035539480787589,0.5324276404163218,0.5441507302021349,0.5751403636466531,0.5701443752720449],\"type\":\"scatter\"}],                        {\"template\":{\"data\":{\"barpolar\":[{\"marker\":{\"line\":{\"color\":\"white\",\"width\":0.5},\"pattern\":{\"fillmode\":\"overlay\",\"size\":10,\"solidity\":0.2}},\"type\":\"barpolar\"}],\"bar\":[{\"error_x\":{\"color\":\"#2a3f5f\"},\"error_y\":{\"color\":\"#2a3f5f\"},\"marker\":{\"line\":{\"color\":\"white\",\"width\":0.5},\"pattern\":{\"fillmode\":\"overlay\",\"size\":10,\"solidity\":0.2}},\"type\":\"bar\"}],\"carpet\":[{\"aaxis\":{\"endlinecolor\":\"#2a3f5f\",\"gridcolor\":\"#C8D4E3\",\"linecolor\":\"#C8D4E3\",\"minorgridcolor\":\"#C8D4E3\",\"startlinecolor\":\"#2a3f5f\"},\"baxis\":{\"endlinecolor\":\"#2a3f5f\",\"gridcolor\":\"#C8D4E3\",\"linecolor\":\"#C8D4E3\",\"minorgridcolor\":\"#C8D4E3\",\"startlinecolor\":\"#2a3f5f\"},\"type\":\"carpet\"}],\"choropleth\":[{\"colorbar\":{\"outlinewidth\":0,\"ticks\":\"\"},\"type\":\"choropleth\"}],\"contourcarpet\":[{\"colorbar\":{\"outlinewidth\":0,\"ticks\":\"\"},\"type\":\"contourcarpet\"}],\"contour\":[{\"colorbar\":{\"outlinewidth\":0,\"ticks\":\"\"},\"colorscale\":[[0.0,\"#0d0887\"],[0.1111111111111111,\"#46039f\"],[0.2222222222222222,\"#7201a8\"],[0.3333333333333333,\"#9c179e\"],[0.4444444444444444,\"#bd3786\"],[0.5555555555555556,\"#d8576b\"],[0.6666666666666666,\"#ed7953\"],[0.7777777777777778,\"#fb9f3a\"],[0.8888888888888888,\"#fdca26\"],[1.0,\"#f0f921\"]],\"type\":\"contour\"}],\"heatmapgl\":[{\"colorbar\":{\"outlinewidth\":0,\"ticks\":\"\"},\"colorscale\":[[0.0,\"#0d0887\"],[0.1111111111111111,\"#46039f\"],[0.2222222222222222,\"#7201a8\"],[0.3333333333333333,\"#9c179e\"],[0.4444444444444444,\"#bd3786\"],[0.5555555555555556,\"#d8576b\"],[0.6666666666666666,\"#ed7953\"],[0.7777777777777778,\"#fb9f3a\"],[0.8888888888888888,\"#fdca26\"],[1.0,\"#f0f921\"]],\"type\":\"heatmapgl\"}],\"heatmap\":[{\"colorbar\":{\"outlinewidth\":0,\"ticks\":\"\"},\"colorscale\":[[0.0,\"#0d0887\"],[0.1111111111111111,\"#46039f\"],[0.2222222222222222,\"#7201a8\"],[0.3333333333333333,\"#9c179e\"],[0.4444444444444444,\"#bd3786\"],[0.5555555555555556,\"#d8576b\"],[0.6666666666666666,\"#ed7953\"],[0.7777777777777778,\"#fb9f3a\"],[0.8888888888888888,\"#fdca26\"],[1.0,\"#f0f921\"]],\"type\":\"heatmap\"}],\"histogram2dcontour\":[{\"colorbar\":{\"outlinewidth\":0,\"ticks\":\"\"},\"colorscale\":[[0.0,\"#0d0887\"],[0.1111111111111111,\"#46039f\"],[0.2222222222222222,\"#7201a8\"],[0.3333333333333333,\"#9c179e\"],[0.4444444444444444,\"#bd3786\"],[0.5555555555555556,\"#d8576b\"],[0.6666666666666666,\"#ed7953\"],[0.7777777777777778,\"#fb9f3a\"],[0.8888888888888888,\"#fdca26\"],[1.0,\"#f0f921\"]],\"type\":\"histogram2dcontour\"}],\"histogram2d\":[{\"colorbar\":{\"outlinewidth\":0,\"ticks\":\"\"},\"colorscale\":[[0.0,\"#0d0887\"],[0.1111111111111111,\"#46039f\"],[0.2222222222222222,\"#7201a8\"],[0.3333333333333333,\"#9c179e\"],[0.4444444444444444,\"#bd3786\"],[0.5555555555555556,\"#d8576b\"],[0.6666666666666666,\"#ed7953\"],[0.7777777777777778,\"#fb9f3a\"],[0.8888888888888888,\"#fdca26\"],[1.0,\"#f0f921\"]],\"type\":\"histogram2d\"}],\"histogram\":[{\"marker\":{\"pattern\":{\"fillmode\":\"overlay\",\"size\":10,\"solidity\":0.2}},\"type\":\"histogram\"}],\"mesh3d\":[{\"colorbar\":{\"outlinewidth\":0,\"ticks\":\"\"},\"type\":\"mesh3d\"}],\"parcoords\":[{\"line\":{\"colorbar\":{\"outlinewidth\":0,\"ticks\":\"\"}},\"type\":\"parcoords\"}],\"pie\":[{\"automargin\":true,\"type\":\"pie\"}],\"scatter3d\":[{\"line\":{\"colorbar\":{\"outlinewidth\":0,\"ticks\":\"\"}},\"marker\":{\"colorbar\":{\"outlinewidth\":0,\"ticks\":\"\"}},\"type\":\"scatter3d\"}],\"scattercarpet\":[{\"marker\":{\"colorbar\":{\"outlinewidth\":0,\"ticks\":\"\"}},\"type\":\"scattercarpet\"}],\"scattergeo\":[{\"marker\":{\"colorbar\":{\"outlinewidth\":0,\"ticks\":\"\"}},\"type\":\"scattergeo\"}],\"scattergl\":[{\"marker\":{\"colorbar\":{\"outlinewidth\":0,\"ticks\":\"\"}},\"type\":\"scattergl\"}],\"scattermapbox\":[{\"marker\":{\"colorbar\":{\"outlinewidth\":0,\"ticks\":\"\"}},\"type\":\"scattermapbox\"}],\"scatterpolargl\":[{\"marker\":{\"colorbar\":{\"outlinewidth\":0,\"ticks\":\"\"}},\"type\":\"scatterpolargl\"}],\"scatterpolar\":[{\"marker\":{\"colorbar\":{\"outlinewidth\":0,\"ticks\":\"\"}},\"type\":\"scatterpolar\"}],\"scatter\":[{\"fillpattern\":{\"fillmode\":\"overlay\",\"size\":10,\"solidity\":0.2},\"type\":\"scatter\"}],\"scatterternary\":[{\"marker\":{\"colorbar\":{\"outlinewidth\":0,\"ticks\":\"\"}},\"type\":\"scatterternary\"}],\"surface\":[{\"colorbar\":{\"outlinewidth\":0,\"ticks\":\"\"},\"colorscale\":[[0.0,\"#0d0887\"],[0.1111111111111111,\"#46039f\"],[0.2222222222222222,\"#7201a8\"],[0.3333333333333333,\"#9c179e\"],[0.4444444444444444,\"#bd3786\"],[0.5555555555555556,\"#d8576b\"],[0.6666666666666666,\"#ed7953\"],[0.7777777777777778,\"#fb9f3a\"],[0.8888888888888888,\"#fdca26\"],[1.0,\"#f0f921\"]],\"type\":\"surface\"}],\"table\":[{\"cells\":{\"fill\":{\"color\":\"#EBF0F8\"},\"line\":{\"color\":\"white\"}},\"header\":{\"fill\":{\"color\":\"#C8D4E3\"},\"line\":{\"color\":\"white\"}},\"type\":\"table\"}]},\"layout\":{\"annotationdefaults\":{\"arrowcolor\":\"#2a3f5f\",\"arrowhead\":0,\"arrowwidth\":1},\"autotypenumbers\":\"strict\",\"coloraxis\":{\"colorbar\":{\"outlinewidth\":0,\"ticks\":\"\"}},\"colorscale\":{\"diverging\":[[0,\"#8e0152\"],[0.1,\"#c51b7d\"],[0.2,\"#de77ae\"],[0.3,\"#f1b6da\"],[0.4,\"#fde0ef\"],[0.5,\"#f7f7f7\"],[0.6,\"#e6f5d0\"],[0.7,\"#b8e186\"],[0.8,\"#7fbc41\"],[0.9,\"#4d9221\"],[1,\"#276419\"]],\"sequential\":[[0.0,\"#0d0887\"],[0.1111111111111111,\"#46039f\"],[0.2222222222222222,\"#7201a8\"],[0.3333333333333333,\"#9c179e\"],[0.4444444444444444,\"#bd3786\"],[0.5555555555555556,\"#d8576b\"],[0.6666666666666666,\"#ed7953\"],[0.7777777777777778,\"#fb9f3a\"],[0.8888888888888888,\"#fdca26\"],[1.0,\"#f0f921\"]],\"sequentialminus\":[[0.0,\"#0d0887\"],[0.1111111111111111,\"#46039f\"],[0.2222222222222222,\"#7201a8\"],[0.3333333333333333,\"#9c179e\"],[0.4444444444444444,\"#bd3786\"],[0.5555555555555556,\"#d8576b\"],[0.6666666666666666,\"#ed7953\"],[0.7777777777777778,\"#fb9f3a\"],[0.8888888888888888,\"#fdca26\"],[1.0,\"#f0f921\"]]},\"colorway\":[\"#636efa\",\"#EF553B\",\"#00cc96\",\"#ab63fa\",\"#FFA15A\",\"#19d3f3\",\"#FF6692\",\"#B6E880\",\"#FF97FF\",\"#FECB52\"],\"font\":{\"color\":\"#2a3f5f\"},\"geo\":{\"bgcolor\":\"white\",\"lakecolor\":\"white\",\"landcolor\":\"white\",\"showlakes\":true,\"showland\":true,\"subunitcolor\":\"#C8D4E3\"},\"hoverlabel\":{\"align\":\"left\"},\"hovermode\":\"closest\",\"mapbox\":{\"style\":\"light\"},\"paper_bgcolor\":\"white\",\"plot_bgcolor\":\"white\",\"polar\":{\"angularaxis\":{\"gridcolor\":\"#EBF0F8\",\"linecolor\":\"#EBF0F8\",\"ticks\":\"\"},\"bgcolor\":\"white\",\"radialaxis\":{\"gridcolor\":\"#EBF0F8\",\"linecolor\":\"#EBF0F8\",\"ticks\":\"\"}},\"scene\":{\"xaxis\":{\"backgroundcolor\":\"white\",\"gridcolor\":\"#DFE8F3\",\"gridwidth\":2,\"linecolor\":\"#EBF0F8\",\"showbackground\":true,\"ticks\":\"\",\"zerolinecolor\":\"#EBF0F8\"},\"yaxis\":{\"backgroundcolor\":\"white\",\"gridcolor\":\"#DFE8F3\",\"gridwidth\":2,\"linecolor\":\"#EBF0F8\",\"showbackground\":true,\"ticks\":\"\",\"zerolinecolor\":\"#EBF0F8\"},\"zaxis\":{\"backgroundcolor\":\"white\",\"gridcolor\":\"#DFE8F3\",\"gridwidth\":2,\"linecolor\":\"#EBF0F8\",\"showbackground\":true,\"ticks\":\"\",\"zerolinecolor\":\"#EBF0F8\"}},\"shapedefaults\":{\"line\":{\"color\":\"#2a3f5f\"}},\"ternary\":{\"aaxis\":{\"gridcolor\":\"#DFE8F3\",\"linecolor\":\"#A2B1C6\",\"ticks\":\"\"},\"baxis\":{\"gridcolor\":\"#DFE8F3\",\"linecolor\":\"#A2B1C6\",\"ticks\":\"\"},\"bgcolor\":\"white\",\"caxis\":{\"gridcolor\":\"#DFE8F3\",\"linecolor\":\"#A2B1C6\",\"ticks\":\"\"}},\"title\":{\"x\":0.05},\"xaxis\":{\"automargin\":true,\"gridcolor\":\"#EBF0F8\",\"linecolor\":\"#EBF0F8\",\"ticks\":\"\",\"title\":{\"standoff\":15},\"zerolinecolor\":\"#EBF0F8\",\"zerolinewidth\":2},\"yaxis\":{\"automargin\":true,\"gridcolor\":\"#EBF0F8\",\"linecolor\":\"#EBF0F8\",\"ticks\":\"\",\"title\":{\"standoff\":15},\"zerolinecolor\":\"#EBF0F8\",\"zerolinewidth\":2}}},\"xaxis\":{\"title\":{\"text\":\"Número de Clusters K\"},\"tickmode\":\"linear\"},\"title\":{\"text\":\"Análise do Coeficiente de Silhueta para K-Means\"},\"yaxis\":{\"title\":{\"text\":\"Coeficiente de Silhueta\"}}},                        {\"responsive\": true}                    ).then(function(){\n",
       "                            \n",
       "var gd = document.getElementById('f31c1980-8a44-48a1-8bd1-86a01eff7395');\n",
       "var x = new MutationObserver(function (mutations, observer) {{\n",
       "        var display = window.getComputedStyle(gd).display;\n",
       "        if (!display || display === 'none') {{\n",
       "            console.log([gd, 'removed!']);\n",
       "            Plotly.purge(gd);\n",
       "            observer.disconnect();\n",
       "        }}\n",
       "}});\n",
       "\n",
       "// Listen for the removal of the full notebook cells\n",
       "var notebookContainer = gd.closest('#notebook-container');\n",
       "if (notebookContainer) {{\n",
       "    x.observe(notebookContainer, {childList: true});\n",
       "}}\n",
       "\n",
       "// Listen for the clearing of the current output cell\n",
       "var outputEl = gd.closest('.output');\n",
       "if (outputEl) {{\n",
       "    x.observe(outputEl, {childList: true});\n",
       "}}\n",
       "\n",
       "                        })                };                });            </script>        </div>"
      ]
     },
     "metadata": {},
     "output_type": "display_data"
    }
   ],
   "source": [
    "from sklearn.metrics import silhouette_score\n",
    "\n",
    "# Coeficiente de Silhueta usando Plotly\n",
    "silhouette_scores = []\n",
    "K_silhouette = range(2, 10)  # O coeficiente de silhueta não está definido para k=1\n",
    "\n",
    "for k in K_silhouette:\n",
    "    kmeans = KMeans(n_clusters=k, random_state=42)\n",
    "    labels = kmeans.fit_predict(correlacoes_array)\n",
    "    score = silhouette_score(correlacoes_array, labels)\n",
    "    silhouette_scores.append(score)\n",
    "\n",
    "# Criar o gráfico interativo com Plotly\n",
    "fig_silhouette = go.Figure()\n",
    "fig_silhouette.add_trace(\n",
    "    go.Scatter(\n",
    "        x=list(K_silhouette),\n",
    "        y=silhouette_scores,\n",
    "        mode=\"lines+markers\",\n",
    "        marker=dict(color=\"green\"),\n",
    "        line=dict(dash=\"solid\"),\n",
    "        name=\"Coeficiente de Silhueta\",\n",
    "    )\n",
    ")\n",
    "\n",
    "fig_silhouette.update_layout(\n",
    "    title=\"Análise do Coeficiente de Silhueta para K-Means\",\n",
    "    xaxis_title=\"Número de Clusters K\",\n",
    "    yaxis_title=\"Coeficiente de Silhueta\",\n",
    "    xaxis=dict(tickmode=\"linear\"),\n",
    "    template=\"plotly_white\",\n",
    ")\n",
    "\n",
    "fig_silhouette.show()\n"
   ]
  },
  {
   "cell_type": "code",
   "execution_count": 68,
   "metadata": {},
   "outputs": [
    {
     "data": {
      "application/vnd.plotly.v1+json": {
       "config": {
        "plotlyServerURL": "https://plot.ly"
       },
       "data": [
        {
         "marker": {
          "color": "red",
          "size": 10
         },
         "mode": "markers",
         "name": "Cluster 0",
         "type": "scatter",
         "x": [
          "qtd_aval",
          "anos_pm",
          "sexo_Encoded"
         ],
         "y": [
          -0.17811953634051117,
          -0.07376083099133522,
          0.0102865546663246
         ]
        },
        {
         "marker": {
          "color": "blue",
          "size": 10
         },
         "mode": "markers",
         "name": "Cluster 1",
         "type": "scatter",
         "x": [
          "destaque_ida_resultado_encoded",
          "predra_Topázio",
          "destaque_ipv_resultado_encoded",
          "destaque_ieg_resultado_encoded",
          "ieg",
          "ipv",
          "ida"
         ],
         "y": [
          0.6191608563872997,
          0.6198418146155131,
          0.6253666133204641,
          0.6521716319836067,
          0.7412941139382632,
          0.7572193600521644,
          0.8079162343538011
         ]
        },
        {
         "marker": {
          "color": "green",
          "size": 10
         },
         "mode": "markers",
         "name": "Cluster 2",
         "type": "scatter",
         "x": [
          "bolsa_Encoded",
          "ipp",
          "ips",
          "rec_sintese",
          "iaa",
          "diff_fase",
          "predra_Ametista",
          "ian",
          "ponto_virada_encoded"
         ],
         "y": [
          0.17026565521106693,
          0.25166227443228745,
          0.2769226992493085,
          0.3256105624581954,
          0.3965688890318074,
          0.4171721440487401,
          0.41994791838321205,
          0.4213103535581414,
          0.47427938294541205
         ]
        },
        {
         "marker": {
          "color": "orange",
          "size": 10
         },
         "mode": "markers",
         "name": "Cluster 3",
         "type": "scatter",
         "x": [
          "predra_Quartzo",
          "predra_Ágata",
          "idade"
         ],
         "y": [
          -0.627583826187937,
          -0.4417803445886628,
          -0.35979110051242585
         ]
        }
       ],
       "layout": {
        "legend": {
         "title": {
          "text": "Clusters"
         }
        },
        "template": {
         "data": {
          "bar": [
           {
            "error_x": {
             "color": "#2a3f5f"
            },
            "error_y": {
             "color": "#2a3f5f"
            },
            "marker": {
             "line": {
              "color": "white",
              "width": 0.5
             },
             "pattern": {
              "fillmode": "overlay",
              "size": 10,
              "solidity": 0.2
             }
            },
            "type": "bar"
           }
          ],
          "barpolar": [
           {
            "marker": {
             "line": {
              "color": "white",
              "width": 0.5
             },
             "pattern": {
              "fillmode": "overlay",
              "size": 10,
              "solidity": 0.2
             }
            },
            "type": "barpolar"
           }
          ],
          "carpet": [
           {
            "aaxis": {
             "endlinecolor": "#2a3f5f",
             "gridcolor": "#C8D4E3",
             "linecolor": "#C8D4E3",
             "minorgridcolor": "#C8D4E3",
             "startlinecolor": "#2a3f5f"
            },
            "baxis": {
             "endlinecolor": "#2a3f5f",
             "gridcolor": "#C8D4E3",
             "linecolor": "#C8D4E3",
             "minorgridcolor": "#C8D4E3",
             "startlinecolor": "#2a3f5f"
            },
            "type": "carpet"
           }
          ],
          "choropleth": [
           {
            "colorbar": {
             "outlinewidth": 0,
             "ticks": ""
            },
            "type": "choropleth"
           }
          ],
          "contour": [
           {
            "colorbar": {
             "outlinewidth": 0,
             "ticks": ""
            },
            "colorscale": [
             [
              0,
              "#0d0887"
             ],
             [
              0.1111111111111111,
              "#46039f"
             ],
             [
              0.2222222222222222,
              "#7201a8"
             ],
             [
              0.3333333333333333,
              "#9c179e"
             ],
             [
              0.4444444444444444,
              "#bd3786"
             ],
             [
              0.5555555555555556,
              "#d8576b"
             ],
             [
              0.6666666666666666,
              "#ed7953"
             ],
             [
              0.7777777777777778,
              "#fb9f3a"
             ],
             [
              0.8888888888888888,
              "#fdca26"
             ],
             [
              1,
              "#f0f921"
             ]
            ],
            "type": "contour"
           }
          ],
          "contourcarpet": [
           {
            "colorbar": {
             "outlinewidth": 0,
             "ticks": ""
            },
            "type": "contourcarpet"
           }
          ],
          "heatmap": [
           {
            "colorbar": {
             "outlinewidth": 0,
             "ticks": ""
            },
            "colorscale": [
             [
              0,
              "#0d0887"
             ],
             [
              0.1111111111111111,
              "#46039f"
             ],
             [
              0.2222222222222222,
              "#7201a8"
             ],
             [
              0.3333333333333333,
              "#9c179e"
             ],
             [
              0.4444444444444444,
              "#bd3786"
             ],
             [
              0.5555555555555556,
              "#d8576b"
             ],
             [
              0.6666666666666666,
              "#ed7953"
             ],
             [
              0.7777777777777778,
              "#fb9f3a"
             ],
             [
              0.8888888888888888,
              "#fdca26"
             ],
             [
              1,
              "#f0f921"
             ]
            ],
            "type": "heatmap"
           }
          ],
          "heatmapgl": [
           {
            "colorbar": {
             "outlinewidth": 0,
             "ticks": ""
            },
            "colorscale": [
             [
              0,
              "#0d0887"
             ],
             [
              0.1111111111111111,
              "#46039f"
             ],
             [
              0.2222222222222222,
              "#7201a8"
             ],
             [
              0.3333333333333333,
              "#9c179e"
             ],
             [
              0.4444444444444444,
              "#bd3786"
             ],
             [
              0.5555555555555556,
              "#d8576b"
             ],
             [
              0.6666666666666666,
              "#ed7953"
             ],
             [
              0.7777777777777778,
              "#fb9f3a"
             ],
             [
              0.8888888888888888,
              "#fdca26"
             ],
             [
              1,
              "#f0f921"
             ]
            ],
            "type": "heatmapgl"
           }
          ],
          "histogram": [
           {
            "marker": {
             "pattern": {
              "fillmode": "overlay",
              "size": 10,
              "solidity": 0.2
             }
            },
            "type": "histogram"
           }
          ],
          "histogram2d": [
           {
            "colorbar": {
             "outlinewidth": 0,
             "ticks": ""
            },
            "colorscale": [
             [
              0,
              "#0d0887"
             ],
             [
              0.1111111111111111,
              "#46039f"
             ],
             [
              0.2222222222222222,
              "#7201a8"
             ],
             [
              0.3333333333333333,
              "#9c179e"
             ],
             [
              0.4444444444444444,
              "#bd3786"
             ],
             [
              0.5555555555555556,
              "#d8576b"
             ],
             [
              0.6666666666666666,
              "#ed7953"
             ],
             [
              0.7777777777777778,
              "#fb9f3a"
             ],
             [
              0.8888888888888888,
              "#fdca26"
             ],
             [
              1,
              "#f0f921"
             ]
            ],
            "type": "histogram2d"
           }
          ],
          "histogram2dcontour": [
           {
            "colorbar": {
             "outlinewidth": 0,
             "ticks": ""
            },
            "colorscale": [
             [
              0,
              "#0d0887"
             ],
             [
              0.1111111111111111,
              "#46039f"
             ],
             [
              0.2222222222222222,
              "#7201a8"
             ],
             [
              0.3333333333333333,
              "#9c179e"
             ],
             [
              0.4444444444444444,
              "#bd3786"
             ],
             [
              0.5555555555555556,
              "#d8576b"
             ],
             [
              0.6666666666666666,
              "#ed7953"
             ],
             [
              0.7777777777777778,
              "#fb9f3a"
             ],
             [
              0.8888888888888888,
              "#fdca26"
             ],
             [
              1,
              "#f0f921"
             ]
            ],
            "type": "histogram2dcontour"
           }
          ],
          "mesh3d": [
           {
            "colorbar": {
             "outlinewidth": 0,
             "ticks": ""
            },
            "type": "mesh3d"
           }
          ],
          "parcoords": [
           {
            "line": {
             "colorbar": {
              "outlinewidth": 0,
              "ticks": ""
             }
            },
            "type": "parcoords"
           }
          ],
          "pie": [
           {
            "automargin": true,
            "type": "pie"
           }
          ],
          "scatter": [
           {
            "fillpattern": {
             "fillmode": "overlay",
             "size": 10,
             "solidity": 0.2
            },
            "type": "scatter"
           }
          ],
          "scatter3d": [
           {
            "line": {
             "colorbar": {
              "outlinewidth": 0,
              "ticks": ""
             }
            },
            "marker": {
             "colorbar": {
              "outlinewidth": 0,
              "ticks": ""
             }
            },
            "type": "scatter3d"
           }
          ],
          "scattercarpet": [
           {
            "marker": {
             "colorbar": {
              "outlinewidth": 0,
              "ticks": ""
             }
            },
            "type": "scattercarpet"
           }
          ],
          "scattergeo": [
           {
            "marker": {
             "colorbar": {
              "outlinewidth": 0,
              "ticks": ""
             }
            },
            "type": "scattergeo"
           }
          ],
          "scattergl": [
           {
            "marker": {
             "colorbar": {
              "outlinewidth": 0,
              "ticks": ""
             }
            },
            "type": "scattergl"
           }
          ],
          "scattermapbox": [
           {
            "marker": {
             "colorbar": {
              "outlinewidth": 0,
              "ticks": ""
             }
            },
            "type": "scattermapbox"
           }
          ],
          "scatterpolar": [
           {
            "marker": {
             "colorbar": {
              "outlinewidth": 0,
              "ticks": ""
             }
            },
            "type": "scatterpolar"
           }
          ],
          "scatterpolargl": [
           {
            "marker": {
             "colorbar": {
              "outlinewidth": 0,
              "ticks": ""
             }
            },
            "type": "scatterpolargl"
           }
          ],
          "scatterternary": [
           {
            "marker": {
             "colorbar": {
              "outlinewidth": 0,
              "ticks": ""
             }
            },
            "type": "scatterternary"
           }
          ],
          "surface": [
           {
            "colorbar": {
             "outlinewidth": 0,
             "ticks": ""
            },
            "colorscale": [
             [
              0,
              "#0d0887"
             ],
             [
              0.1111111111111111,
              "#46039f"
             ],
             [
              0.2222222222222222,
              "#7201a8"
             ],
             [
              0.3333333333333333,
              "#9c179e"
             ],
             [
              0.4444444444444444,
              "#bd3786"
             ],
             [
              0.5555555555555556,
              "#d8576b"
             ],
             [
              0.6666666666666666,
              "#ed7953"
             ],
             [
              0.7777777777777778,
              "#fb9f3a"
             ],
             [
              0.8888888888888888,
              "#fdca26"
             ],
             [
              1,
              "#f0f921"
             ]
            ],
            "type": "surface"
           }
          ],
          "table": [
           {
            "cells": {
             "fill": {
              "color": "#EBF0F8"
             },
             "line": {
              "color": "white"
             }
            },
            "header": {
             "fill": {
              "color": "#C8D4E3"
             },
             "line": {
              "color": "white"
             }
            },
            "type": "table"
           }
          ]
         },
         "layout": {
          "annotationdefaults": {
           "arrowcolor": "#2a3f5f",
           "arrowhead": 0,
           "arrowwidth": 1
          },
          "autotypenumbers": "strict",
          "coloraxis": {
           "colorbar": {
            "outlinewidth": 0,
            "ticks": ""
           }
          },
          "colorscale": {
           "diverging": [
            [
             0,
             "#8e0152"
            ],
            [
             0.1,
             "#c51b7d"
            ],
            [
             0.2,
             "#de77ae"
            ],
            [
             0.3,
             "#f1b6da"
            ],
            [
             0.4,
             "#fde0ef"
            ],
            [
             0.5,
             "#f7f7f7"
            ],
            [
             0.6,
             "#e6f5d0"
            ],
            [
             0.7,
             "#b8e186"
            ],
            [
             0.8,
             "#7fbc41"
            ],
            [
             0.9,
             "#4d9221"
            ],
            [
             1,
             "#276419"
            ]
           ],
           "sequential": [
            [
             0,
             "#0d0887"
            ],
            [
             0.1111111111111111,
             "#46039f"
            ],
            [
             0.2222222222222222,
             "#7201a8"
            ],
            [
             0.3333333333333333,
             "#9c179e"
            ],
            [
             0.4444444444444444,
             "#bd3786"
            ],
            [
             0.5555555555555556,
             "#d8576b"
            ],
            [
             0.6666666666666666,
             "#ed7953"
            ],
            [
             0.7777777777777778,
             "#fb9f3a"
            ],
            [
             0.8888888888888888,
             "#fdca26"
            ],
            [
             1,
             "#f0f921"
            ]
           ],
           "sequentialminus": [
            [
             0,
             "#0d0887"
            ],
            [
             0.1111111111111111,
             "#46039f"
            ],
            [
             0.2222222222222222,
             "#7201a8"
            ],
            [
             0.3333333333333333,
             "#9c179e"
            ],
            [
             0.4444444444444444,
             "#bd3786"
            ],
            [
             0.5555555555555556,
             "#d8576b"
            ],
            [
             0.6666666666666666,
             "#ed7953"
            ],
            [
             0.7777777777777778,
             "#fb9f3a"
            ],
            [
             0.8888888888888888,
             "#fdca26"
            ],
            [
             1,
             "#f0f921"
            ]
           ]
          },
          "colorway": [
           "#636efa",
           "#EF553B",
           "#00cc96",
           "#ab63fa",
           "#FFA15A",
           "#19d3f3",
           "#FF6692",
           "#B6E880",
           "#FF97FF",
           "#FECB52"
          ],
          "font": {
           "color": "#2a3f5f"
          },
          "geo": {
           "bgcolor": "white",
           "lakecolor": "white",
           "landcolor": "white",
           "showlakes": true,
           "showland": true,
           "subunitcolor": "#C8D4E3"
          },
          "hoverlabel": {
           "align": "left"
          },
          "hovermode": "closest",
          "mapbox": {
           "style": "light"
          },
          "paper_bgcolor": "white",
          "plot_bgcolor": "white",
          "polar": {
           "angularaxis": {
            "gridcolor": "#EBF0F8",
            "linecolor": "#EBF0F8",
            "ticks": ""
           },
           "bgcolor": "white",
           "radialaxis": {
            "gridcolor": "#EBF0F8",
            "linecolor": "#EBF0F8",
            "ticks": ""
           }
          },
          "scene": {
           "xaxis": {
            "backgroundcolor": "white",
            "gridcolor": "#DFE8F3",
            "gridwidth": 2,
            "linecolor": "#EBF0F8",
            "showbackground": true,
            "ticks": "",
            "zerolinecolor": "#EBF0F8"
           },
           "yaxis": {
            "backgroundcolor": "white",
            "gridcolor": "#DFE8F3",
            "gridwidth": 2,
            "linecolor": "#EBF0F8",
            "showbackground": true,
            "ticks": "",
            "zerolinecolor": "#EBF0F8"
           },
           "zaxis": {
            "backgroundcolor": "white",
            "gridcolor": "#DFE8F3",
            "gridwidth": 2,
            "linecolor": "#EBF0F8",
            "showbackground": true,
            "ticks": "",
            "zerolinecolor": "#EBF0F8"
           }
          },
          "shapedefaults": {
           "line": {
            "color": "#2a3f5f"
           }
          },
          "ternary": {
           "aaxis": {
            "gridcolor": "#DFE8F3",
            "linecolor": "#A2B1C6",
            "ticks": ""
           },
           "baxis": {
            "gridcolor": "#DFE8F3",
            "linecolor": "#A2B1C6",
            "ticks": ""
           },
           "bgcolor": "white",
           "caxis": {
            "gridcolor": "#DFE8F3",
            "linecolor": "#A2B1C6",
            "ticks": ""
           }
          },
          "title": {
           "x": 0.05
          },
          "xaxis": {
           "automargin": true,
           "gridcolor": "#EBF0F8",
           "linecolor": "#EBF0F8",
           "ticks": "",
           "title": {
            "standoff": 15
           },
           "zerolinecolor": "#EBF0F8",
           "zerolinewidth": 2
          },
          "yaxis": {
           "automargin": true,
           "gridcolor": "#EBF0F8",
           "linecolor": "#EBF0F8",
           "ticks": "",
           "title": {
            "standoff": 15
           },
           "zerolinecolor": "#EBF0F8",
           "zerolinewidth": 2
          }
         }
        },
        "title": {
         "text": "K-Means Clustering das Variáveis Independentes"
        },
        "xaxis": {
         "tickangle": -90,
         "title": {
          "text": "Variáveis"
         }
        },
        "yaxis": {
         "title": {
          "text": "Correlação"
         }
        }
       }
      },
      "text/html": [
       "<div>                            <div id=\"4938ace5-7a6f-4ac9-8626-7d6eca921d10\" class=\"plotly-graph-div\" style=\"height:525px; width:100%;\"></div>            <script type=\"text/javascript\">                require([\"plotly\"], function(Plotly) {                    window.PLOTLYENV=window.PLOTLYENV || {};                                    if (document.getElementById(\"4938ace5-7a6f-4ac9-8626-7d6eca921d10\")) {                    Plotly.newPlot(                        \"4938ace5-7a6f-4ac9-8626-7d6eca921d10\",                        [{\"marker\":{\"color\":\"red\",\"size\":10},\"mode\":\"markers\",\"name\":\"Cluster 0\",\"x\":[\"qtd_aval\",\"anos_pm\",\"sexo_Encoded\"],\"y\":[-0.17811953634051117,-0.07376083099133522,0.0102865546663246],\"type\":\"scatter\"},{\"marker\":{\"color\":\"blue\",\"size\":10},\"mode\":\"markers\",\"name\":\"Cluster 1\",\"x\":[\"destaque_ida_resultado_encoded\",\"predra_Topázio\",\"destaque_ipv_resultado_encoded\",\"destaque_ieg_resultado_encoded\",\"ieg\",\"ipv\",\"ida\"],\"y\":[0.6191608563872997,0.6198418146155131,0.6253666133204641,0.6521716319836067,0.7412941139382632,0.7572193600521644,0.8079162343538011],\"type\":\"scatter\"},{\"marker\":{\"color\":\"green\",\"size\":10},\"mode\":\"markers\",\"name\":\"Cluster 2\",\"x\":[\"bolsa_Encoded\",\"ipp\",\"ips\",\"rec_sintese\",\"iaa\",\"diff_fase\",\"predra_Ametista\",\"ian\",\"ponto_virada_encoded\"],\"y\":[0.17026565521106693,0.25166227443228745,0.2769226992493085,0.3256105624581954,0.3965688890318074,0.4171721440487401,0.41994791838321205,0.4213103535581414,0.47427938294541205],\"type\":\"scatter\"},{\"marker\":{\"color\":\"orange\",\"size\":10},\"mode\":\"markers\",\"name\":\"Cluster 3\",\"x\":[\"predra_Quartzo\",\"predra_Ágata\",\"idade\"],\"y\":[-0.627583826187937,-0.4417803445886628,-0.35979110051242585],\"type\":\"scatter\"}],                        {\"template\":{\"data\":{\"barpolar\":[{\"marker\":{\"line\":{\"color\":\"white\",\"width\":0.5},\"pattern\":{\"fillmode\":\"overlay\",\"size\":10,\"solidity\":0.2}},\"type\":\"barpolar\"}],\"bar\":[{\"error_x\":{\"color\":\"#2a3f5f\"},\"error_y\":{\"color\":\"#2a3f5f\"},\"marker\":{\"line\":{\"color\":\"white\",\"width\":0.5},\"pattern\":{\"fillmode\":\"overlay\",\"size\":10,\"solidity\":0.2}},\"type\":\"bar\"}],\"carpet\":[{\"aaxis\":{\"endlinecolor\":\"#2a3f5f\",\"gridcolor\":\"#C8D4E3\",\"linecolor\":\"#C8D4E3\",\"minorgridcolor\":\"#C8D4E3\",\"startlinecolor\":\"#2a3f5f\"},\"baxis\":{\"endlinecolor\":\"#2a3f5f\",\"gridcolor\":\"#C8D4E3\",\"linecolor\":\"#C8D4E3\",\"minorgridcolor\":\"#C8D4E3\",\"startlinecolor\":\"#2a3f5f\"},\"type\":\"carpet\"}],\"choropleth\":[{\"colorbar\":{\"outlinewidth\":0,\"ticks\":\"\"},\"type\":\"choropleth\"}],\"contourcarpet\":[{\"colorbar\":{\"outlinewidth\":0,\"ticks\":\"\"},\"type\":\"contourcarpet\"}],\"contour\":[{\"colorbar\":{\"outlinewidth\":0,\"ticks\":\"\"},\"colorscale\":[[0.0,\"#0d0887\"],[0.1111111111111111,\"#46039f\"],[0.2222222222222222,\"#7201a8\"],[0.3333333333333333,\"#9c179e\"],[0.4444444444444444,\"#bd3786\"],[0.5555555555555556,\"#d8576b\"],[0.6666666666666666,\"#ed7953\"],[0.7777777777777778,\"#fb9f3a\"],[0.8888888888888888,\"#fdca26\"],[1.0,\"#f0f921\"]],\"type\":\"contour\"}],\"heatmapgl\":[{\"colorbar\":{\"outlinewidth\":0,\"ticks\":\"\"},\"colorscale\":[[0.0,\"#0d0887\"],[0.1111111111111111,\"#46039f\"],[0.2222222222222222,\"#7201a8\"],[0.3333333333333333,\"#9c179e\"],[0.4444444444444444,\"#bd3786\"],[0.5555555555555556,\"#d8576b\"],[0.6666666666666666,\"#ed7953\"],[0.7777777777777778,\"#fb9f3a\"],[0.8888888888888888,\"#fdca26\"],[1.0,\"#f0f921\"]],\"type\":\"heatmapgl\"}],\"heatmap\":[{\"colorbar\":{\"outlinewidth\":0,\"ticks\":\"\"},\"colorscale\":[[0.0,\"#0d0887\"],[0.1111111111111111,\"#46039f\"],[0.2222222222222222,\"#7201a8\"],[0.3333333333333333,\"#9c179e\"],[0.4444444444444444,\"#bd3786\"],[0.5555555555555556,\"#d8576b\"],[0.6666666666666666,\"#ed7953\"],[0.7777777777777778,\"#fb9f3a\"],[0.8888888888888888,\"#fdca26\"],[1.0,\"#f0f921\"]],\"type\":\"heatmap\"}],\"histogram2dcontour\":[{\"colorbar\":{\"outlinewidth\":0,\"ticks\":\"\"},\"colorscale\":[[0.0,\"#0d0887\"],[0.1111111111111111,\"#46039f\"],[0.2222222222222222,\"#7201a8\"],[0.3333333333333333,\"#9c179e\"],[0.4444444444444444,\"#bd3786\"],[0.5555555555555556,\"#d8576b\"],[0.6666666666666666,\"#ed7953\"],[0.7777777777777778,\"#fb9f3a\"],[0.8888888888888888,\"#fdca26\"],[1.0,\"#f0f921\"]],\"type\":\"histogram2dcontour\"}],\"histogram2d\":[{\"colorbar\":{\"outlinewidth\":0,\"ticks\":\"\"},\"colorscale\":[[0.0,\"#0d0887\"],[0.1111111111111111,\"#46039f\"],[0.2222222222222222,\"#7201a8\"],[0.3333333333333333,\"#9c179e\"],[0.4444444444444444,\"#bd3786\"],[0.5555555555555556,\"#d8576b\"],[0.6666666666666666,\"#ed7953\"],[0.7777777777777778,\"#fb9f3a\"],[0.8888888888888888,\"#fdca26\"],[1.0,\"#f0f921\"]],\"type\":\"histogram2d\"}],\"histogram\":[{\"marker\":{\"pattern\":{\"fillmode\":\"overlay\",\"size\":10,\"solidity\":0.2}},\"type\":\"histogram\"}],\"mesh3d\":[{\"colorbar\":{\"outlinewidth\":0,\"ticks\":\"\"},\"type\":\"mesh3d\"}],\"parcoords\":[{\"line\":{\"colorbar\":{\"outlinewidth\":0,\"ticks\":\"\"}},\"type\":\"parcoords\"}],\"pie\":[{\"automargin\":true,\"type\":\"pie\"}],\"scatter3d\":[{\"line\":{\"colorbar\":{\"outlinewidth\":0,\"ticks\":\"\"}},\"marker\":{\"colorbar\":{\"outlinewidth\":0,\"ticks\":\"\"}},\"type\":\"scatter3d\"}],\"scattercarpet\":[{\"marker\":{\"colorbar\":{\"outlinewidth\":0,\"ticks\":\"\"}},\"type\":\"scattercarpet\"}],\"scattergeo\":[{\"marker\":{\"colorbar\":{\"outlinewidth\":0,\"ticks\":\"\"}},\"type\":\"scattergeo\"}],\"scattergl\":[{\"marker\":{\"colorbar\":{\"outlinewidth\":0,\"ticks\":\"\"}},\"type\":\"scattergl\"}],\"scattermapbox\":[{\"marker\":{\"colorbar\":{\"outlinewidth\":0,\"ticks\":\"\"}},\"type\":\"scattermapbox\"}],\"scatterpolargl\":[{\"marker\":{\"colorbar\":{\"outlinewidth\":0,\"ticks\":\"\"}},\"type\":\"scatterpolargl\"}],\"scatterpolar\":[{\"marker\":{\"colorbar\":{\"outlinewidth\":0,\"ticks\":\"\"}},\"type\":\"scatterpolar\"}],\"scatter\":[{\"fillpattern\":{\"fillmode\":\"overlay\",\"size\":10,\"solidity\":0.2},\"type\":\"scatter\"}],\"scatterternary\":[{\"marker\":{\"colorbar\":{\"outlinewidth\":0,\"ticks\":\"\"}},\"type\":\"scatterternary\"}],\"surface\":[{\"colorbar\":{\"outlinewidth\":0,\"ticks\":\"\"},\"colorscale\":[[0.0,\"#0d0887\"],[0.1111111111111111,\"#46039f\"],[0.2222222222222222,\"#7201a8\"],[0.3333333333333333,\"#9c179e\"],[0.4444444444444444,\"#bd3786\"],[0.5555555555555556,\"#d8576b\"],[0.6666666666666666,\"#ed7953\"],[0.7777777777777778,\"#fb9f3a\"],[0.8888888888888888,\"#fdca26\"],[1.0,\"#f0f921\"]],\"type\":\"surface\"}],\"table\":[{\"cells\":{\"fill\":{\"color\":\"#EBF0F8\"},\"line\":{\"color\":\"white\"}},\"header\":{\"fill\":{\"color\":\"#C8D4E3\"},\"line\":{\"color\":\"white\"}},\"type\":\"table\"}]},\"layout\":{\"annotationdefaults\":{\"arrowcolor\":\"#2a3f5f\",\"arrowhead\":0,\"arrowwidth\":1},\"autotypenumbers\":\"strict\",\"coloraxis\":{\"colorbar\":{\"outlinewidth\":0,\"ticks\":\"\"}},\"colorscale\":{\"diverging\":[[0,\"#8e0152\"],[0.1,\"#c51b7d\"],[0.2,\"#de77ae\"],[0.3,\"#f1b6da\"],[0.4,\"#fde0ef\"],[0.5,\"#f7f7f7\"],[0.6,\"#e6f5d0\"],[0.7,\"#b8e186\"],[0.8,\"#7fbc41\"],[0.9,\"#4d9221\"],[1,\"#276419\"]],\"sequential\":[[0.0,\"#0d0887\"],[0.1111111111111111,\"#46039f\"],[0.2222222222222222,\"#7201a8\"],[0.3333333333333333,\"#9c179e\"],[0.4444444444444444,\"#bd3786\"],[0.5555555555555556,\"#d8576b\"],[0.6666666666666666,\"#ed7953\"],[0.7777777777777778,\"#fb9f3a\"],[0.8888888888888888,\"#fdca26\"],[1.0,\"#f0f921\"]],\"sequentialminus\":[[0.0,\"#0d0887\"],[0.1111111111111111,\"#46039f\"],[0.2222222222222222,\"#7201a8\"],[0.3333333333333333,\"#9c179e\"],[0.4444444444444444,\"#bd3786\"],[0.5555555555555556,\"#d8576b\"],[0.6666666666666666,\"#ed7953\"],[0.7777777777777778,\"#fb9f3a\"],[0.8888888888888888,\"#fdca26\"],[1.0,\"#f0f921\"]]},\"colorway\":[\"#636efa\",\"#EF553B\",\"#00cc96\",\"#ab63fa\",\"#FFA15A\",\"#19d3f3\",\"#FF6692\",\"#B6E880\",\"#FF97FF\",\"#FECB52\"],\"font\":{\"color\":\"#2a3f5f\"},\"geo\":{\"bgcolor\":\"white\",\"lakecolor\":\"white\",\"landcolor\":\"white\",\"showlakes\":true,\"showland\":true,\"subunitcolor\":\"#C8D4E3\"},\"hoverlabel\":{\"align\":\"left\"},\"hovermode\":\"closest\",\"mapbox\":{\"style\":\"light\"},\"paper_bgcolor\":\"white\",\"plot_bgcolor\":\"white\",\"polar\":{\"angularaxis\":{\"gridcolor\":\"#EBF0F8\",\"linecolor\":\"#EBF0F8\",\"ticks\":\"\"},\"bgcolor\":\"white\",\"radialaxis\":{\"gridcolor\":\"#EBF0F8\",\"linecolor\":\"#EBF0F8\",\"ticks\":\"\"}},\"scene\":{\"xaxis\":{\"backgroundcolor\":\"white\",\"gridcolor\":\"#DFE8F3\",\"gridwidth\":2,\"linecolor\":\"#EBF0F8\",\"showbackground\":true,\"ticks\":\"\",\"zerolinecolor\":\"#EBF0F8\"},\"yaxis\":{\"backgroundcolor\":\"white\",\"gridcolor\":\"#DFE8F3\",\"gridwidth\":2,\"linecolor\":\"#EBF0F8\",\"showbackground\":true,\"ticks\":\"\",\"zerolinecolor\":\"#EBF0F8\"},\"zaxis\":{\"backgroundcolor\":\"white\",\"gridcolor\":\"#DFE8F3\",\"gridwidth\":2,\"linecolor\":\"#EBF0F8\",\"showbackground\":true,\"ticks\":\"\",\"zerolinecolor\":\"#EBF0F8\"}},\"shapedefaults\":{\"line\":{\"color\":\"#2a3f5f\"}},\"ternary\":{\"aaxis\":{\"gridcolor\":\"#DFE8F3\",\"linecolor\":\"#A2B1C6\",\"ticks\":\"\"},\"baxis\":{\"gridcolor\":\"#DFE8F3\",\"linecolor\":\"#A2B1C6\",\"ticks\":\"\"},\"bgcolor\":\"white\",\"caxis\":{\"gridcolor\":\"#DFE8F3\",\"linecolor\":\"#A2B1C6\",\"ticks\":\"\"}},\"title\":{\"x\":0.05},\"xaxis\":{\"automargin\":true,\"gridcolor\":\"#EBF0F8\",\"linecolor\":\"#EBF0F8\",\"ticks\":\"\",\"title\":{\"standoff\":15},\"zerolinecolor\":\"#EBF0F8\",\"zerolinewidth\":2},\"yaxis\":{\"automargin\":true,\"gridcolor\":\"#EBF0F8\",\"linecolor\":\"#EBF0F8\",\"ticks\":\"\",\"title\":{\"standoff\":15},\"zerolinecolor\":\"#EBF0F8\",\"zerolinewidth\":2}}},\"xaxis\":{\"title\":{\"text\":\"Variáveis\"},\"tickangle\":-90},\"title\":{\"text\":\"K-Means Clustering das Variáveis Independentes\"},\"yaxis\":{\"title\":{\"text\":\"Correlação\"}},\"legend\":{\"title\":{\"text\":\"Clusters\"}}},                        {\"responsive\": true}                    ).then(function(){\n",
       "                            \n",
       "var gd = document.getElementById('4938ace5-7a6f-4ac9-8626-7d6eca921d10');\n",
       "var x = new MutationObserver(function (mutations, observer) {{\n",
       "        var display = window.getComputedStyle(gd).display;\n",
       "        if (!display || display === 'none') {{\n",
       "            console.log([gd, 'removed!']);\n",
       "            Plotly.purge(gd);\n",
       "            observer.disconnect();\n",
       "        }}\n",
       "}});\n",
       "\n",
       "// Listen for the removal of the full notebook cells\n",
       "var notebookContainer = gd.closest('#notebook-container');\n",
       "if (notebookContainer) {{\n",
       "    x.observe(notebookContainer, {childList: true});\n",
       "}}\n",
       "\n",
       "// Listen for the clearing of the current output cell\n",
       "var outputEl = gd.closest('.output');\n",
       "if (outputEl) {{\n",
       "    x.observe(outputEl, {childList: true});\n",
       "}}\n",
       "\n",
       "                        })                };                });            </script>        </div>"
      ]
     },
     "metadata": {},
     "output_type": "display_data"
    }
   ],
   "source": [
    "import plotly.graph_objects as go\n",
    "\n",
    "# Converter as correlações em um array numpy\n",
    "correlacoes_array = np.array(correlacoes).reshape(-1, 1)\n",
    "\n",
    "# Definir o número de clusters (por exemplo, 4)\n",
    "k = 4\n",
    "\n",
    "# Aplicar K-Means\n",
    "kmeans = KMeans(n_clusters=k, random_state=42)\n",
    "kmeans.fit(correlacoes_array)\n",
    "labels = kmeans.labels_\n",
    "\n",
    "# Criar um DataFrame com os resultados\n",
    "df_clusters = pd.DataFrame(\n",
    "    {\"Variavel\": variaveis_independentes, \"Correlacao\": correlacoes, \"Cluster\": labels}\n",
    ")\n",
    "\n",
    "# Ordenar o DataFrame para melhor visualização\n",
    "df_clusters = df_clusters.sort_values(by=\"Correlacao\").reset_index(drop=True)\n",
    "\n",
    "# Visualizar os clusters usando Plotly\n",
    "fig = go.Figure()\n",
    "\n",
    "# Definir cores para os clusters\n",
    "colors = [\n",
    "    \"red\",\n",
    "    \"blue\",\n",
    "    \"green\",\n",
    "    \"orange\",\n",
    "    \"purple\",\n",
    "    \"brown\",\n",
    "    \"pink\",\n",
    "    \"gray\",\n",
    "    \"olive\",\n",
    "    \"cyan\",\n",
    "]\n",
    "\n",
    "for cluster in range(k):\n",
    "    cluster_data = df_clusters[df_clusters[\"Cluster\"] == cluster]\n",
    "    fig.add_trace(\n",
    "        go.Scatter(\n",
    "            x=cluster_data[\"Variavel\"],\n",
    "            y=cluster_data[\"Correlacao\"],\n",
    "            mode=\"markers\",\n",
    "            marker=dict(size=10, color=colors[cluster % len(colors)]),\n",
    "            name=f\"Cluster {cluster}\",\n",
    "        )\n",
    "    )\n",
    "\n",
    "fig.update_layout(\n",
    "    title=\"K-Means Clustering das Variáveis Independentes\",\n",
    "    xaxis_title=\"Variáveis\",\n",
    "    yaxis_title=\"Correlação\",\n",
    "    xaxis=dict(tickangle=-90),\n",
    "    legend_title=\"Clusters\",\n",
    "    template=\"plotly_white\",\n",
    ")\n",
    "\n",
    "fig.show()\n"
   ]
  }
 ],
 "metadata": {
  "kernelspec": {
   "display_name": ".venv",
   "language": "python",
   "name": "python3"
  },
  "language_info": {
   "codemirror_mode": {
    "name": "ipython",
    "version": 3
   },
   "file_extension": ".py",
   "mimetype": "text/x-python",
   "name": "python",
   "nbconvert_exporter": "python",
   "pygments_lexer": "ipython3",
   "version": "3.11.10"
  }
 },
 "nbformat": 4,
 "nbformat_minor": 2
}
